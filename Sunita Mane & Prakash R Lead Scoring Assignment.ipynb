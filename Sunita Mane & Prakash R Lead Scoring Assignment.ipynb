{
 "cells": [
  {
   "cell_type": "markdown",
   "id": "e357b1a7",
   "metadata": {},
   "source": [
    "# Sunita Mane & Prakash R Lead Scoring Assignment"
   ]
  },
  {
   "cell_type": "markdown",
   "id": "9a6a452c",
   "metadata": {},
   "source": [
    "### Problem Statement :\n",
    "\n",
    "X Education sells online courses to industry professionals.The company markets its courses on several websites and search engines like Google.\n",
    "Once these people land on the website, they might browse the courses or fill up a form for the course or watch some videos.When \n",
    "these people fill up a form providing their email address or phone number, they are classified to be a lead. Moreover, the \n",
    "company also gets leads through past referrals. \n",
    "\n",
    "Once these leads are acquired, employees from the sales team start making calls, writing emails, etc. Through this process, \n",
    "some of the leads get converted while most do not.The typical lead conversion rate at X education is around 30%. \n",
    "\n",
    "#### Business Goal :\n",
    "\n",
    "- X Education needs help in selecting the most promising leads, i.e. the leads that are most likely to convert into paying customers. \n",
    "\n",
    "- The company needs a model wherein you a lead score is assigned to each of the leads such that the customers with higher lead score have a higher conversion chance and the customers with lower lead score have a lower conversion chance. \n",
    "\n",
    "- The CEO, in particular, has given a ballpark of the target lead conversion rate to be around 80%.\n",
    "\n"
   ]
  },
  {
   "cell_type": "markdown",
   "id": "45a9211e",
   "metadata": {},
   "source": [
    "#### The following are the steps done to find the lead conversion rate model:\n",
    "- Step 1: Importing necessary libraries\n",
    "- Step 2: Importing lead score data file\n",
    "- Step 3: Reading data \n",
    "- Step 4: Data Cleaning\n",
    "- Step 5: Outlier treatment\n",
    "- Step 6: Exploratory Data Analysis\n",
    "- Step 7: Data Preparation - Creating Dummies\n",
    "- Step 8: Test-Train Split\n",
    "- Step 9: Rescaling the features with MinMax Scaling\n",
    "- Step 10: Feature Selection using RFE\n",
    "- Step 11: Model Building\n",
    "- Step 12: y train prediction\n",
    "- Step 13: Confusion Metrics and Accuracy\n",
    "- Step 14: Plotting the ROC curve\n",
    "- Step 15: Finding Optimal Cutoff Point\n",
    "- Step 16: Making Predictions on the Test set\n",
    "- Step 17: Metrics on Test set\n",
    "- Step 18: LEAD SCORE - ASSIGNMENT TO ALL CUSTOMERS\n",
    "- Step 19: Conclusion"
   ]
  },
  {
   "cell_type": "markdown",
   "id": "c4a30b13",
   "metadata": {},
   "source": [
    "## Step 1: Importing necessary libraries\n"
   ]
  },
  {
   "cell_type": "markdown",
   "id": "c054abcb",
   "metadata": {},
   "source": [
    "#### Step 1.1: Import warnings"
   ]
  },
  {
   "cell_type": "code",
   "execution_count": 398,
   "id": "60355522",
   "metadata": {},
   "outputs": [],
   "source": [
    "import warnings\n",
    "warnings.filterwarnings('ignore')"
   ]
  },
  {
   "cell_type": "markdown",
   "id": "c01bc1c1",
   "metadata": {},
   "source": [
    "#### Step 1.2: Import the data analysis libraries"
   ]
  },
  {
   "cell_type": "code",
   "execution_count": 399,
   "id": "4cbecc5c",
   "metadata": {},
   "outputs": [],
   "source": [
    "import numpy as np\n",
    "import pandas as pd"
   ]
  },
  {
   "cell_type": "markdown",
   "id": "a787ea36",
   "metadata": {},
   "source": [
    "#### Step 1.3: Import the visualization libraries"
   ]
  },
  {
   "cell_type": "code",
   "execution_count": 400,
   "id": "c5d38d91",
   "metadata": {},
   "outputs": [],
   "source": [
    "import matplotlib.pyplot as plt\n",
    "import seaborn as sns\n",
    "from matplotlib.pyplot import xticks\n",
    "%matplotlib inline"
   ]
  },
  {
   "cell_type": "markdown",
   "id": "2e236ba2",
   "metadata": {},
   "source": [
    "#### Step 1.4: Import the model libraries"
   ]
  },
  {
   "cell_type": "code",
   "execution_count": 401,
   "id": "abc68ea8",
   "metadata": {},
   "outputs": [],
   "source": [
    "from sklearn.model_selection import train_test_split\n",
    "from sklearn.preprocessing import MinMaxScaler\n",
    "from sklearn.linear_model import LogisticRegression\n",
    "from sklearn.feature_selection import RFE\n",
    "import statsmodels.api as sm\n",
    "from statsmodels.stats.outliers_influence import variance_inflation_factor"
   ]
  },
  {
   "cell_type": "markdown",
   "id": "6eb9b670",
   "metadata": {},
   "source": [
    "##### Step 1.5: Data display customization"
   ]
  },
  {
   "cell_type": "code",
   "execution_count": 402,
   "id": "5d4c7919",
   "metadata": {},
   "outputs": [],
   "source": [
    "pd.set_option('display.max_rows', 100)\n",
    "pd.set_option('display.max_columns', 200)"
   ]
  },
  {
   "cell_type": "markdown",
   "id": "da22f758",
   "metadata": {},
   "source": [
    "## Step 2: Importing lead score data file\n"
   ]
  },
  {
   "cell_type": "markdown",
   "id": "e3604f05",
   "metadata": {},
   "source": [
    "#### Step 2.1: Importing the data file"
   ]
  },
  {
   "cell_type": "code",
   "execution_count": 403,
   "id": "83f6602e",
   "metadata": {},
   "outputs": [],
   "source": [
    "Lead_data = pd.read_csv(\"Leads.csv\", encoding = 'latin')"
   ]
  },
  {
   "cell_type": "markdown",
   "id": "5d9bad93",
   "metadata": {},
   "source": [
    "#### Step 2.2: Checking the sample data"
   ]
  },
  {
   "cell_type": "code",
   "execution_count": 404,
   "id": "d1c14ceb",
   "metadata": {},
   "outputs": [
    {
     "data": {
      "text/html": [
       "<div>\n",
       "<style scoped>\n",
       "    .dataframe tbody tr th:only-of-type {\n",
       "        vertical-align: middle;\n",
       "    }\n",
       "\n",
       "    .dataframe tbody tr th {\n",
       "        vertical-align: top;\n",
       "    }\n",
       "\n",
       "    .dataframe thead th {\n",
       "        text-align: right;\n",
       "    }\n",
       "</style>\n",
       "<table border=\"1\" class=\"dataframe\">\n",
       "  <thead>\n",
       "    <tr style=\"text-align: right;\">\n",
       "      <th></th>\n",
       "      <th>Prospect ID</th>\n",
       "      <th>Lead Number</th>\n",
       "      <th>Lead Origin</th>\n",
       "      <th>Lead Source</th>\n",
       "      <th>Do Not Email</th>\n",
       "      <th>Do Not Call</th>\n",
       "      <th>Converted</th>\n",
       "      <th>TotalVisits</th>\n",
       "      <th>Total Time Spent on Website</th>\n",
       "      <th>Page Views Per Visit</th>\n",
       "      <th>Last Activity</th>\n",
       "      <th>Country</th>\n",
       "      <th>Specialization</th>\n",
       "      <th>How did you hear about X Education</th>\n",
       "      <th>What is your current occupation</th>\n",
       "      <th>What matters most to you in choosing a course</th>\n",
       "      <th>Search</th>\n",
       "      <th>Magazine</th>\n",
       "      <th>Newspaper Article</th>\n",
       "      <th>X Education Forums</th>\n",
       "      <th>Newspaper</th>\n",
       "      <th>Digital Advertisement</th>\n",
       "      <th>Through Recommendations</th>\n",
       "      <th>Receive More Updates About Our Courses</th>\n",
       "      <th>Tags</th>\n",
       "      <th>Lead Quality</th>\n",
       "      <th>Update me on Supply Chain Content</th>\n",
       "      <th>Get updates on DM Content</th>\n",
       "      <th>Lead Profile</th>\n",
       "      <th>City</th>\n",
       "      <th>Asymmetrique Activity Index</th>\n",
       "      <th>Asymmetrique Profile Index</th>\n",
       "      <th>Asymmetrique Activity Score</th>\n",
       "      <th>Asymmetrique Profile Score</th>\n",
       "      <th>I agree to pay the amount through cheque</th>\n",
       "      <th>A free copy of Mastering The Interview</th>\n",
       "      <th>Last Notable Activity</th>\n",
       "    </tr>\n",
       "  </thead>\n",
       "  <tbody>\n",
       "    <tr>\n",
       "      <th>0</th>\n",
       "      <td>7927b2df-8bba-4d29-b9a2-b6e0beafe620</td>\n",
       "      <td>660737</td>\n",
       "      <td>API</td>\n",
       "      <td>Olark Chat</td>\n",
       "      <td>No</td>\n",
       "      <td>No</td>\n",
       "      <td>0</td>\n",
       "      <td>0.0</td>\n",
       "      <td>0</td>\n",
       "      <td>0.0</td>\n",
       "      <td>Page Visited on Website</td>\n",
       "      <td>NaN</td>\n",
       "      <td>Select</td>\n",
       "      <td>Select</td>\n",
       "      <td>Unemployed</td>\n",
       "      <td>Better Career Prospects</td>\n",
       "      <td>No</td>\n",
       "      <td>No</td>\n",
       "      <td>No</td>\n",
       "      <td>No</td>\n",
       "      <td>No</td>\n",
       "      <td>No</td>\n",
       "      <td>No</td>\n",
       "      <td>No</td>\n",
       "      <td>Interested in other courses</td>\n",
       "      <td>Low in Relevance</td>\n",
       "      <td>No</td>\n",
       "      <td>No</td>\n",
       "      <td>Select</td>\n",
       "      <td>Select</td>\n",
       "      <td>02.Medium</td>\n",
       "      <td>02.Medium</td>\n",
       "      <td>15.0</td>\n",
       "      <td>15.0</td>\n",
       "      <td>No</td>\n",
       "      <td>No</td>\n",
       "      <td>Modified</td>\n",
       "    </tr>\n",
       "    <tr>\n",
       "      <th>1</th>\n",
       "      <td>2a272436-5132-4136-86fa-dcc88c88f482</td>\n",
       "      <td>660728</td>\n",
       "      <td>API</td>\n",
       "      <td>Organic Search</td>\n",
       "      <td>No</td>\n",
       "      <td>No</td>\n",
       "      <td>0</td>\n",
       "      <td>5.0</td>\n",
       "      <td>674</td>\n",
       "      <td>2.5</td>\n",
       "      <td>Email Opened</td>\n",
       "      <td>India</td>\n",
       "      <td>Select</td>\n",
       "      <td>Select</td>\n",
       "      <td>Unemployed</td>\n",
       "      <td>Better Career Prospects</td>\n",
       "      <td>No</td>\n",
       "      <td>No</td>\n",
       "      <td>No</td>\n",
       "      <td>No</td>\n",
       "      <td>No</td>\n",
       "      <td>No</td>\n",
       "      <td>No</td>\n",
       "      <td>No</td>\n",
       "      <td>Ringing</td>\n",
       "      <td>NaN</td>\n",
       "      <td>No</td>\n",
       "      <td>No</td>\n",
       "      <td>Select</td>\n",
       "      <td>Select</td>\n",
       "      <td>02.Medium</td>\n",
       "      <td>02.Medium</td>\n",
       "      <td>15.0</td>\n",
       "      <td>15.0</td>\n",
       "      <td>No</td>\n",
       "      <td>No</td>\n",
       "      <td>Email Opened</td>\n",
       "    </tr>\n",
       "    <tr>\n",
       "      <th>2</th>\n",
       "      <td>8cc8c611-a219-4f35-ad23-fdfd2656bd8a</td>\n",
       "      <td>660727</td>\n",
       "      <td>Landing Page Submission</td>\n",
       "      <td>Direct Traffic</td>\n",
       "      <td>No</td>\n",
       "      <td>No</td>\n",
       "      <td>1</td>\n",
       "      <td>2.0</td>\n",
       "      <td>1532</td>\n",
       "      <td>2.0</td>\n",
       "      <td>Email Opened</td>\n",
       "      <td>India</td>\n",
       "      <td>Business Administration</td>\n",
       "      <td>Select</td>\n",
       "      <td>Student</td>\n",
       "      <td>Better Career Prospects</td>\n",
       "      <td>No</td>\n",
       "      <td>No</td>\n",
       "      <td>No</td>\n",
       "      <td>No</td>\n",
       "      <td>No</td>\n",
       "      <td>No</td>\n",
       "      <td>No</td>\n",
       "      <td>No</td>\n",
       "      <td>Will revert after reading the email</td>\n",
       "      <td>Might be</td>\n",
       "      <td>No</td>\n",
       "      <td>No</td>\n",
       "      <td>Potential Lead</td>\n",
       "      <td>Mumbai</td>\n",
       "      <td>02.Medium</td>\n",
       "      <td>01.High</td>\n",
       "      <td>14.0</td>\n",
       "      <td>20.0</td>\n",
       "      <td>No</td>\n",
       "      <td>Yes</td>\n",
       "      <td>Email Opened</td>\n",
       "    </tr>\n",
       "    <tr>\n",
       "      <th>3</th>\n",
       "      <td>0cc2df48-7cf4-4e39-9de9-19797f9b38cc</td>\n",
       "      <td>660719</td>\n",
       "      <td>Landing Page Submission</td>\n",
       "      <td>Direct Traffic</td>\n",
       "      <td>No</td>\n",
       "      <td>No</td>\n",
       "      <td>0</td>\n",
       "      <td>1.0</td>\n",
       "      <td>305</td>\n",
       "      <td>1.0</td>\n",
       "      <td>Unreachable</td>\n",
       "      <td>India</td>\n",
       "      <td>Media and Advertising</td>\n",
       "      <td>Word Of Mouth</td>\n",
       "      <td>Unemployed</td>\n",
       "      <td>Better Career Prospects</td>\n",
       "      <td>No</td>\n",
       "      <td>No</td>\n",
       "      <td>No</td>\n",
       "      <td>No</td>\n",
       "      <td>No</td>\n",
       "      <td>No</td>\n",
       "      <td>No</td>\n",
       "      <td>No</td>\n",
       "      <td>Ringing</td>\n",
       "      <td>Not Sure</td>\n",
       "      <td>No</td>\n",
       "      <td>No</td>\n",
       "      <td>Select</td>\n",
       "      <td>Mumbai</td>\n",
       "      <td>02.Medium</td>\n",
       "      <td>01.High</td>\n",
       "      <td>13.0</td>\n",
       "      <td>17.0</td>\n",
       "      <td>No</td>\n",
       "      <td>No</td>\n",
       "      <td>Modified</td>\n",
       "    </tr>\n",
       "    <tr>\n",
       "      <th>4</th>\n",
       "      <td>3256f628-e534-4826-9d63-4a8b88782852</td>\n",
       "      <td>660681</td>\n",
       "      <td>Landing Page Submission</td>\n",
       "      <td>Google</td>\n",
       "      <td>No</td>\n",
       "      <td>No</td>\n",
       "      <td>1</td>\n",
       "      <td>2.0</td>\n",
       "      <td>1428</td>\n",
       "      <td>1.0</td>\n",
       "      <td>Converted to Lead</td>\n",
       "      <td>India</td>\n",
       "      <td>Select</td>\n",
       "      <td>Other</td>\n",
       "      <td>Unemployed</td>\n",
       "      <td>Better Career Prospects</td>\n",
       "      <td>No</td>\n",
       "      <td>No</td>\n",
       "      <td>No</td>\n",
       "      <td>No</td>\n",
       "      <td>No</td>\n",
       "      <td>No</td>\n",
       "      <td>No</td>\n",
       "      <td>No</td>\n",
       "      <td>Will revert after reading the email</td>\n",
       "      <td>Might be</td>\n",
       "      <td>No</td>\n",
       "      <td>No</td>\n",
       "      <td>Select</td>\n",
       "      <td>Mumbai</td>\n",
       "      <td>02.Medium</td>\n",
       "      <td>01.High</td>\n",
       "      <td>15.0</td>\n",
       "      <td>18.0</td>\n",
       "      <td>No</td>\n",
       "      <td>No</td>\n",
       "      <td>Modified</td>\n",
       "    </tr>\n",
       "  </tbody>\n",
       "</table>\n",
       "</div>"
      ],
      "text/plain": [
       "                            Prospect ID  Lead Number              Lead Origin  \\\n",
       "0  7927b2df-8bba-4d29-b9a2-b6e0beafe620       660737                      API   \n",
       "1  2a272436-5132-4136-86fa-dcc88c88f482       660728                      API   \n",
       "2  8cc8c611-a219-4f35-ad23-fdfd2656bd8a       660727  Landing Page Submission   \n",
       "3  0cc2df48-7cf4-4e39-9de9-19797f9b38cc       660719  Landing Page Submission   \n",
       "4  3256f628-e534-4826-9d63-4a8b88782852       660681  Landing Page Submission   \n",
       "\n",
       "      Lead Source Do Not Email Do Not Call  Converted  TotalVisits  \\\n",
       "0      Olark Chat           No          No          0          0.0   \n",
       "1  Organic Search           No          No          0          5.0   \n",
       "2  Direct Traffic           No          No          1          2.0   \n",
       "3  Direct Traffic           No          No          0          1.0   \n",
       "4          Google           No          No          1          2.0   \n",
       "\n",
       "   Total Time Spent on Website  Page Views Per Visit            Last Activity  \\\n",
       "0                            0                   0.0  Page Visited on Website   \n",
       "1                          674                   2.5             Email Opened   \n",
       "2                         1532                   2.0             Email Opened   \n",
       "3                          305                   1.0              Unreachable   \n",
       "4                         1428                   1.0        Converted to Lead   \n",
       "\n",
       "  Country           Specialization How did you hear about X Education  \\\n",
       "0     NaN                   Select                             Select   \n",
       "1   India                   Select                             Select   \n",
       "2   India  Business Administration                             Select   \n",
       "3   India    Media and Advertising                      Word Of Mouth   \n",
       "4   India                   Select                              Other   \n",
       "\n",
       "  What is your current occupation  \\\n",
       "0                      Unemployed   \n",
       "1                      Unemployed   \n",
       "2                         Student   \n",
       "3                      Unemployed   \n",
       "4                      Unemployed   \n",
       "\n",
       "  What matters most to you in choosing a course Search Magazine  \\\n",
       "0                       Better Career Prospects     No       No   \n",
       "1                       Better Career Prospects     No       No   \n",
       "2                       Better Career Prospects     No       No   \n",
       "3                       Better Career Prospects     No       No   \n",
       "4                       Better Career Prospects     No       No   \n",
       "\n",
       "  Newspaper Article X Education Forums Newspaper Digital Advertisement  \\\n",
       "0                No                 No        No                    No   \n",
       "1                No                 No        No                    No   \n",
       "2                No                 No        No                    No   \n",
       "3                No                 No        No                    No   \n",
       "4                No                 No        No                    No   \n",
       "\n",
       "  Through Recommendations Receive More Updates About Our Courses  \\\n",
       "0                      No                                     No   \n",
       "1                      No                                     No   \n",
       "2                      No                                     No   \n",
       "3                      No                                     No   \n",
       "4                      No                                     No   \n",
       "\n",
       "                                  Tags      Lead Quality  \\\n",
       "0          Interested in other courses  Low in Relevance   \n",
       "1                              Ringing               NaN   \n",
       "2  Will revert after reading the email          Might be   \n",
       "3                              Ringing          Not Sure   \n",
       "4  Will revert after reading the email          Might be   \n",
       "\n",
       "  Update me on Supply Chain Content Get updates on DM Content    Lead Profile  \\\n",
       "0                                No                        No          Select   \n",
       "1                                No                        No          Select   \n",
       "2                                No                        No  Potential Lead   \n",
       "3                                No                        No          Select   \n",
       "4                                No                        No          Select   \n",
       "\n",
       "     City Asymmetrique Activity Index Asymmetrique Profile Index  \\\n",
       "0  Select                   02.Medium                  02.Medium   \n",
       "1  Select                   02.Medium                  02.Medium   \n",
       "2  Mumbai                   02.Medium                    01.High   \n",
       "3  Mumbai                   02.Medium                    01.High   \n",
       "4  Mumbai                   02.Medium                    01.High   \n",
       "\n",
       "   Asymmetrique Activity Score  Asymmetrique Profile Score  \\\n",
       "0                         15.0                        15.0   \n",
       "1                         15.0                        15.0   \n",
       "2                         14.0                        20.0   \n",
       "3                         13.0                        17.0   \n",
       "4                         15.0                        18.0   \n",
       "\n",
       "  I agree to pay the amount through cheque  \\\n",
       "0                                       No   \n",
       "1                                       No   \n",
       "2                                       No   \n",
       "3                                       No   \n",
       "4                                       No   \n",
       "\n",
       "  A free copy of Mastering The Interview Last Notable Activity  \n",
       "0                                     No              Modified  \n",
       "1                                     No          Email Opened  \n",
       "2                                    Yes          Email Opened  \n",
       "3                                     No              Modified  \n",
       "4                                     No              Modified  "
      ]
     },
     "execution_count": 404,
     "metadata": {},
     "output_type": "execute_result"
    }
   ],
   "source": [
    "Lead_data.head()"
   ]
  },
  {
   "cell_type": "markdown",
   "id": "a93bc061",
   "metadata": {},
   "source": [
    "## Step 3: Reading dataframe \n"
   ]
  },
  {
   "cell_type": "markdown",
   "id": "1d42442b",
   "metadata": {},
   "source": [
    "#### Step 3.1: To read the shape of dataframe"
   ]
  },
  {
   "cell_type": "code",
   "execution_count": 405,
   "id": "991e6829",
   "metadata": {},
   "outputs": [
    {
     "data": {
      "text/plain": [
       "(9240, 37)"
      ]
     },
     "execution_count": 405,
     "metadata": {},
     "output_type": "execute_result"
    }
   ],
   "source": [
    "Lead_data.shape"
   ]
  },
  {
   "cell_type": "markdown",
   "id": "68065c4a",
   "metadata": {},
   "source": [
    "#### Step 3.2: To know the details of dataframe"
   ]
  },
  {
   "cell_type": "code",
   "execution_count": 406,
   "id": "f12b90d2",
   "metadata": {},
   "outputs": [
    {
     "name": "stdout",
     "output_type": "stream",
     "text": [
      "<class 'pandas.core.frame.DataFrame'>\n",
      "RangeIndex: 9240 entries, 0 to 9239\n",
      "Data columns (total 37 columns):\n",
      " #   Column                                         Non-Null Count  Dtype  \n",
      "---  ------                                         --------------  -----  \n",
      " 0   Prospect ID                                    9240 non-null   object \n",
      " 1   Lead Number                                    9240 non-null   int64  \n",
      " 2   Lead Origin                                    9240 non-null   object \n",
      " 3   Lead Source                                    9204 non-null   object \n",
      " 4   Do Not Email                                   9240 non-null   object \n",
      " 5   Do Not Call                                    9240 non-null   object \n",
      " 6   Converted                                      9240 non-null   int64  \n",
      " 7   TotalVisits                                    9103 non-null   float64\n",
      " 8   Total Time Spent on Website                    9240 non-null   int64  \n",
      " 9   Page Views Per Visit                           9103 non-null   float64\n",
      " 10  Last Activity                                  9137 non-null   object \n",
      " 11  Country                                        6779 non-null   object \n",
      " 12  Specialization                                 7802 non-null   object \n",
      " 13  How did you hear about X Education             7033 non-null   object \n",
      " 14  What is your current occupation                6550 non-null   object \n",
      " 15  What matters most to you in choosing a course  6531 non-null   object \n",
      " 16  Search                                         9240 non-null   object \n",
      " 17  Magazine                                       9240 non-null   object \n",
      " 18  Newspaper Article                              9240 non-null   object \n",
      " 19  X Education Forums                             9240 non-null   object \n",
      " 20  Newspaper                                      9240 non-null   object \n",
      " 21  Digital Advertisement                          9240 non-null   object \n",
      " 22  Through Recommendations                        9240 non-null   object \n",
      " 23  Receive More Updates About Our Courses         9240 non-null   object \n",
      " 24  Tags                                           5887 non-null   object \n",
      " 25  Lead Quality                                   4473 non-null   object \n",
      " 26  Update me on Supply Chain Content              9240 non-null   object \n",
      " 27  Get updates on DM Content                      9240 non-null   object \n",
      " 28  Lead Profile                                   6531 non-null   object \n",
      " 29  City                                           7820 non-null   object \n",
      " 30  Asymmetrique Activity Index                    5022 non-null   object \n",
      " 31  Asymmetrique Profile Index                     5022 non-null   object \n",
      " 32  Asymmetrique Activity Score                    5022 non-null   float64\n",
      " 33  Asymmetrique Profile Score                     5022 non-null   float64\n",
      " 34  I agree to pay the amount through cheque       9240 non-null   object \n",
      " 35  A free copy of Mastering The Interview         9240 non-null   object \n",
      " 36  Last Notable Activity                          9240 non-null   object \n",
      "dtypes: float64(4), int64(3), object(30)\n",
      "memory usage: 2.6+ MB\n"
     ]
    }
   ],
   "source": [
    "Lead_data.info()"
   ]
  },
  {
   "cell_type": "markdown",
   "id": "74548dfa",
   "metadata": {},
   "source": [
    "#### Step 3.3: To know the descriptive information of dataframe"
   ]
  },
  {
   "cell_type": "code",
   "execution_count": 407,
   "id": "597844d5",
   "metadata": {},
   "outputs": [
    {
     "data": {
      "text/html": [
       "<div>\n",
       "<style scoped>\n",
       "    .dataframe tbody tr th:only-of-type {\n",
       "        vertical-align: middle;\n",
       "    }\n",
       "\n",
       "    .dataframe tbody tr th {\n",
       "        vertical-align: top;\n",
       "    }\n",
       "\n",
       "    .dataframe thead th {\n",
       "        text-align: right;\n",
       "    }\n",
       "</style>\n",
       "<table border=\"1\" class=\"dataframe\">\n",
       "  <thead>\n",
       "    <tr style=\"text-align: right;\">\n",
       "      <th></th>\n",
       "      <th>Lead Number</th>\n",
       "      <th>Converted</th>\n",
       "      <th>TotalVisits</th>\n",
       "      <th>Total Time Spent on Website</th>\n",
       "      <th>Page Views Per Visit</th>\n",
       "      <th>Asymmetrique Activity Score</th>\n",
       "      <th>Asymmetrique Profile Score</th>\n",
       "    </tr>\n",
       "  </thead>\n",
       "  <tbody>\n",
       "    <tr>\n",
       "      <th>count</th>\n",
       "      <td>9240.000000</td>\n",
       "      <td>9240.000000</td>\n",
       "      <td>9103.000000</td>\n",
       "      <td>9240.000000</td>\n",
       "      <td>9103.000000</td>\n",
       "      <td>5022.000000</td>\n",
       "      <td>5022.000000</td>\n",
       "    </tr>\n",
       "    <tr>\n",
       "      <th>mean</th>\n",
       "      <td>617188.435606</td>\n",
       "      <td>0.385390</td>\n",
       "      <td>3.445238</td>\n",
       "      <td>487.698268</td>\n",
       "      <td>2.362820</td>\n",
       "      <td>14.306252</td>\n",
       "      <td>16.344883</td>\n",
       "    </tr>\n",
       "    <tr>\n",
       "      <th>std</th>\n",
       "      <td>23405.995698</td>\n",
       "      <td>0.486714</td>\n",
       "      <td>4.854853</td>\n",
       "      <td>548.021466</td>\n",
       "      <td>2.161418</td>\n",
       "      <td>1.386694</td>\n",
       "      <td>1.811395</td>\n",
       "    </tr>\n",
       "    <tr>\n",
       "      <th>min</th>\n",
       "      <td>579533.000000</td>\n",
       "      <td>0.000000</td>\n",
       "      <td>0.000000</td>\n",
       "      <td>0.000000</td>\n",
       "      <td>0.000000</td>\n",
       "      <td>7.000000</td>\n",
       "      <td>11.000000</td>\n",
       "    </tr>\n",
       "    <tr>\n",
       "      <th>25%</th>\n",
       "      <td>596484.500000</td>\n",
       "      <td>0.000000</td>\n",
       "      <td>1.000000</td>\n",
       "      <td>12.000000</td>\n",
       "      <td>1.000000</td>\n",
       "      <td>14.000000</td>\n",
       "      <td>15.000000</td>\n",
       "    </tr>\n",
       "    <tr>\n",
       "      <th>50%</th>\n",
       "      <td>615479.000000</td>\n",
       "      <td>0.000000</td>\n",
       "      <td>3.000000</td>\n",
       "      <td>248.000000</td>\n",
       "      <td>2.000000</td>\n",
       "      <td>14.000000</td>\n",
       "      <td>16.000000</td>\n",
       "    </tr>\n",
       "    <tr>\n",
       "      <th>75%</th>\n",
       "      <td>637387.250000</td>\n",
       "      <td>1.000000</td>\n",
       "      <td>5.000000</td>\n",
       "      <td>936.000000</td>\n",
       "      <td>3.000000</td>\n",
       "      <td>15.000000</td>\n",
       "      <td>18.000000</td>\n",
       "    </tr>\n",
       "    <tr>\n",
       "      <th>max</th>\n",
       "      <td>660737.000000</td>\n",
       "      <td>1.000000</td>\n",
       "      <td>251.000000</td>\n",
       "      <td>2272.000000</td>\n",
       "      <td>55.000000</td>\n",
       "      <td>18.000000</td>\n",
       "      <td>20.000000</td>\n",
       "    </tr>\n",
       "  </tbody>\n",
       "</table>\n",
       "</div>"
      ],
      "text/plain": [
       "         Lead Number    Converted  TotalVisits  Total Time Spent on Website  \\\n",
       "count    9240.000000  9240.000000  9103.000000                  9240.000000   \n",
       "mean   617188.435606     0.385390     3.445238                   487.698268   \n",
       "std     23405.995698     0.486714     4.854853                   548.021466   \n",
       "min    579533.000000     0.000000     0.000000                     0.000000   \n",
       "25%    596484.500000     0.000000     1.000000                    12.000000   \n",
       "50%    615479.000000     0.000000     3.000000                   248.000000   \n",
       "75%    637387.250000     1.000000     5.000000                   936.000000   \n",
       "max    660737.000000     1.000000   251.000000                  2272.000000   \n",
       "\n",
       "       Page Views Per Visit  Asymmetrique Activity Score  \\\n",
       "count           9103.000000                  5022.000000   \n",
       "mean               2.362820                    14.306252   \n",
       "std                2.161418                     1.386694   \n",
       "min                0.000000                     7.000000   \n",
       "25%                1.000000                    14.000000   \n",
       "50%                2.000000                    14.000000   \n",
       "75%                3.000000                    15.000000   \n",
       "max               55.000000                    18.000000   \n",
       "\n",
       "       Asymmetrique Profile Score  \n",
       "count                 5022.000000  \n",
       "mean                    16.344883  \n",
       "std                      1.811395  \n",
       "min                     11.000000  \n",
       "25%                     15.000000  \n",
       "50%                     16.000000  \n",
       "75%                     18.000000  \n",
       "max                     20.000000  "
      ]
     },
     "execution_count": 407,
     "metadata": {},
     "output_type": "execute_result"
    }
   ],
   "source": [
    "Lead_data.describe()"
   ]
  },
  {
   "cell_type": "markdown",
   "id": "0a6c3999",
   "metadata": {},
   "source": [
    "### Inference of DataFrame:\n",
    "<span Style=\"color:blue\">\n",
    "    \n",
    "- There are 9240 rows and 37 columns in dataframe.\n",
    "\n",
    "- There are 4 variables of float type, 3 variables of int type and 30 variables of object type.\n",
    "\n",
    "- There is huge difference between 75% and maximum values in \"TotalVisits\", \"Total Time Spent on Website\" and \"Page Views Per Visit\".\n",
    "</span>"
   ]
  },
  {
   "cell_type": "markdown",
   "id": "82f78439",
   "metadata": {},
   "source": [
    "## Step 4: Data Cleaning\n"
   ]
  },
  {
   "cell_type": "markdown",
   "id": "e2bda616",
   "metadata": {},
   "source": [
    "#### Step 4.1: To check for duplicates in the dataset"
   ]
  },
  {
   "cell_type": "code",
   "execution_count": 408,
   "id": "7498a5d1",
   "metadata": {},
   "outputs": [
    {
     "data": {
      "text/html": [
       "<div>\n",
       "<style scoped>\n",
       "    .dataframe tbody tr th:only-of-type {\n",
       "        vertical-align: middle;\n",
       "    }\n",
       "\n",
       "    .dataframe tbody tr th {\n",
       "        vertical-align: top;\n",
       "    }\n",
       "\n",
       "    .dataframe thead th {\n",
       "        text-align: right;\n",
       "    }\n",
       "</style>\n",
       "<table border=\"1\" class=\"dataframe\">\n",
       "  <thead>\n",
       "    <tr style=\"text-align: right;\">\n",
       "      <th></th>\n",
       "      <th>Prospect ID</th>\n",
       "      <th>Lead Number</th>\n",
       "      <th>Lead Origin</th>\n",
       "      <th>Lead Source</th>\n",
       "      <th>Do Not Email</th>\n",
       "      <th>Do Not Call</th>\n",
       "      <th>Converted</th>\n",
       "      <th>TotalVisits</th>\n",
       "      <th>Total Time Spent on Website</th>\n",
       "      <th>Page Views Per Visit</th>\n",
       "      <th>Last Activity</th>\n",
       "      <th>Country</th>\n",
       "      <th>Specialization</th>\n",
       "      <th>How did you hear about X Education</th>\n",
       "      <th>What is your current occupation</th>\n",
       "      <th>What matters most to you in choosing a course</th>\n",
       "      <th>Search</th>\n",
       "      <th>Magazine</th>\n",
       "      <th>Newspaper Article</th>\n",
       "      <th>X Education Forums</th>\n",
       "      <th>Newspaper</th>\n",
       "      <th>Digital Advertisement</th>\n",
       "      <th>Through Recommendations</th>\n",
       "      <th>Receive More Updates About Our Courses</th>\n",
       "      <th>Tags</th>\n",
       "      <th>Lead Quality</th>\n",
       "      <th>Update me on Supply Chain Content</th>\n",
       "      <th>Get updates on DM Content</th>\n",
       "      <th>Lead Profile</th>\n",
       "      <th>City</th>\n",
       "      <th>Asymmetrique Activity Index</th>\n",
       "      <th>Asymmetrique Profile Index</th>\n",
       "      <th>Asymmetrique Activity Score</th>\n",
       "      <th>Asymmetrique Profile Score</th>\n",
       "      <th>I agree to pay the amount through cheque</th>\n",
       "      <th>A free copy of Mastering The Interview</th>\n",
       "      <th>Last Notable Activity</th>\n",
       "    </tr>\n",
       "  </thead>\n",
       "  <tbody>\n",
       "  </tbody>\n",
       "</table>\n",
       "</div>"
      ],
      "text/plain": [
       "Empty DataFrame\n",
       "Columns: [Prospect ID, Lead Number, Lead Origin, Lead Source, Do Not Email, Do Not Call, Converted, TotalVisits, Total Time Spent on Website, Page Views Per Visit, Last Activity, Country, Specialization, How did you hear about X Education, What is your current occupation, What matters most to you in choosing a course, Search, Magazine, Newspaper Article, X Education Forums, Newspaper, Digital Advertisement, Through Recommendations, Receive More Updates About Our Courses, Tags, Lead Quality, Update me on Supply Chain Content, Get updates on DM Content, Lead Profile, City, Asymmetrique Activity Index, Asymmetrique Profile Index, Asymmetrique Activity Score, Asymmetrique Profile Score, I agree to pay the amount through cheque, A free copy of Mastering The Interview, Last Notable Activity]\n",
       "Index: []"
      ]
     },
     "execution_count": 408,
     "metadata": {},
     "output_type": "execute_result"
    }
   ],
   "source": [
    "Lead_data[Lead_data.duplicated(keep=False)]"
   ]
  },
  {
   "cell_type": "markdown",
   "id": "9b3c3e54",
   "metadata": {},
   "source": [
    "### Inference of duplicates:\n",
    "<span Style=\"color:blue\">\n",
    "    \n",
    "- There are no duplicates in the dataframe.\n",
    "\n",
    "</span>"
   ]
  },
  {
   "cell_type": "markdown",
   "id": "6af87439",
   "metadata": {},
   "source": [
    "#### Step 4.2a: To check for unique values"
   ]
  },
  {
   "cell_type": "code",
   "execution_count": 409,
   "id": "b1443f56",
   "metadata": {
    "scrolled": false
   },
   "outputs": [
    {
     "data": {
      "text/plain": [
       "Prospect ID                                      9240\n",
       "Lead Number                                      9240\n",
       "Total Time Spent on Website                      1731\n",
       "Page Views Per Visit                              114\n",
       "TotalVisits                                        41\n",
       "Country                                            38\n",
       "Tags                                               26\n",
       "Lead Source                                        21\n",
       "Specialization                                     19\n",
       "Last Activity                                      17\n",
       "Last Notable Activity                              16\n",
       "Asymmetrique Activity Score                        12\n",
       "How did you hear about X Education                 10\n",
       "Asymmetrique Profile Score                         10\n",
       "City                                                7\n",
       "What is your current occupation                     6\n",
       "Lead Profile                                        6\n",
       "Lead Origin                                         5\n",
       "Lead Quality                                        5\n",
       "What matters most to you in choosing a course       3\n",
       "Asymmetrique Profile Index                          3\n",
       "Asymmetrique Activity Index                         3\n",
       "Do Not Call                                         2\n",
       "A free copy of Mastering The Interview              2\n",
       "Converted                                           2\n",
       "Through Recommendations                             2\n",
       "Digital Advertisement                               2\n",
       "Newspaper                                           2\n",
       "X Education Forums                                  2\n",
       "Do Not Email                                        2\n",
       "Search                                              2\n",
       "Newspaper Article                                   2\n",
       "Receive More Updates About Our Courses              1\n",
       "Update me on Supply Chain Content                   1\n",
       "Get updates on DM Content                           1\n",
       "Magazine                                            1\n",
       "I agree to pay the amount through cheque            1\n",
       "dtype: int64"
      ]
     },
     "execution_count": 409,
     "metadata": {},
     "output_type": "execute_result"
    }
   ],
   "source": [
    "Lead_data.nunique().sort_values(ascending = False)"
   ]
  },
  {
   "cell_type": "markdown",
   "id": "f367eff9",
   "metadata": {},
   "source": [
    "### Inference of unique values:\n",
    "<span Style=\"color:blue\">\n",
    "    \n",
    "- There are 5 columns with only single unique values in the dataframe.\n",
    "\n",
    "- These five columns will be dropped as they will not provide any extra information.\n",
    "\n",
    "</span>"
   ]
  },
  {
   "cell_type": "markdown",
   "id": "aba8eae4",
   "metadata": {},
   "source": [
    "#### Step 4.2b: To drop the single unique value columns"
   ]
  },
  {
   "cell_type": "code",
   "execution_count": 410,
   "id": "4f12d3b5",
   "metadata": {},
   "outputs": [
    {
     "data": {
      "text/plain": [
       "(9240, 32)"
      ]
     },
     "execution_count": 410,
     "metadata": {},
     "output_type": "execute_result"
    }
   ],
   "source": [
    "# Dropping unique valued columns- columns which have only one value and would not add any value to the analysis\n",
    "Lead_data= Lead_data.drop(['Receive More Updates About Our Courses', 'Update me on Supply Chain Content', \n",
    "              'Get updates on DM Content', 'Magazine', 'I agree to pay the amount through cheque'], axis=1)\n",
    "Lead_data.shape"
   ]
  },
  {
   "cell_type": "markdown",
   "id": "9f8d4cac",
   "metadata": {},
   "source": [
    "#### Step 4.2c: To replace all \"Select\" values in the dataframe"
   ]
  },
  {
   "cell_type": "code",
   "execution_count": 411,
   "id": "69ae95b2",
   "metadata": {},
   "outputs": [
    {
     "name": "stdout",
     "output_type": "stream",
     "text": [
      "Prospect ID                                      False\n",
      "Lead Number                                      False\n",
      "Lead Origin                                      False\n",
      "Lead Source                                      False\n",
      "Do Not Email                                     False\n",
      "Do Not Call                                      False\n",
      "Converted                                        False\n",
      "TotalVisits                                      False\n",
      "Total Time Spent on Website                      False\n",
      "Page Views Per Visit                             False\n",
      "Last Activity                                    False\n",
      "Country                                          False\n",
      "Specialization                                    True\n",
      "How did you hear about X Education                True\n",
      "What is your current occupation                  False\n",
      "What matters most to you in choosing a course    False\n",
      "Search                                           False\n",
      "Newspaper Article                                False\n",
      "X Education Forums                               False\n",
      "Newspaper                                        False\n",
      "Digital Advertisement                            False\n",
      "Through Recommendations                          False\n",
      "Tags                                             False\n",
      "Lead Quality                                     False\n",
      "Lead Profile                                      True\n",
      "City                                              True\n",
      "Asymmetrique Activity Index                      False\n",
      "Asymmetrique Profile Index                       False\n",
      "Asymmetrique Activity Score                      False\n",
      "Asymmetrique Profile Score                       False\n",
      "A free copy of Mastering The Interview           False\n",
      "Last Notable Activity                            False\n",
      "dtype: bool\n"
     ]
    }
   ],
   "source": [
    "#Inspecting all the columns with Select variable in the dataframe.\n",
    "colsHavingSelect = Lead_data.isin([\"Select\"]).any()\n",
    "print(colsHavingSelect)"
   ]
  },
  {
   "cell_type": "code",
   "execution_count": 412,
   "id": "86f326b2",
   "metadata": {},
   "outputs": [],
   "source": [
    "#### Step 4.2d: replace() will replace all the occurances of the given string to missing values.\n",
    "Lead_data.replace('Select', np.nan,inplace=True)"
   ]
  },
  {
   "cell_type": "markdown",
   "id": "0ea06a3e",
   "metadata": {},
   "source": [
    "#### Step 4.3a: To check for null values in the dataframe"
   ]
  },
  {
   "cell_type": "code",
   "execution_count": 413,
   "id": "6e15c127",
   "metadata": {},
   "outputs": [
    {
     "data": {
      "text/plain": [
       "How did you hear about X Education               78.46\n",
       "Lead Profile                                     74.19\n",
       "Lead Quality                                     51.59\n",
       "Asymmetrique Profile Score                       45.65\n",
       "Asymmetrique Activity Score                      45.65\n",
       "Asymmetrique Profile Index                       45.65\n",
       "Asymmetrique Activity Index                      45.65\n",
       "City                                             39.71\n",
       "Specialization                                   36.58\n",
       "Tags                                             36.29\n",
       "What matters most to you in choosing a course    29.32\n",
       "What is your current occupation                  29.11\n",
       "Country                                          26.63\n",
       "TotalVisits                                       1.48\n",
       "Page Views Per Visit                              1.48\n",
       "Last Activity                                     1.11\n",
       "Lead Source                                       0.39\n",
       "Through Recommendations                           0.00\n",
       "A free copy of Mastering The Interview            0.00\n",
       "Prospect ID                                       0.00\n",
       "Search                                            0.00\n",
       "Digital Advertisement                             0.00\n",
       "Newspaper                                         0.00\n",
       "X Education Forums                                0.00\n",
       "Newspaper Article                                 0.00\n",
       "Lead Number                                       0.00\n",
       "Total Time Spent on Website                       0.00\n",
       "Converted                                         0.00\n",
       "Do Not Call                                       0.00\n",
       "Do Not Email                                      0.00\n",
       "Lead Origin                                       0.00\n",
       "Last Notable Activity                             0.00\n",
       "dtype: float64"
      ]
     },
     "execution_count": 413,
     "metadata": {},
     "output_type": "execute_result"
    }
   ],
   "source": [
    "round((Lead_data.isnull().sum()/len(Lead_data))*100, 2).sort_values(ascending = False)"
   ]
  },
  {
   "cell_type": "markdown",
   "id": "44b5030a",
   "metadata": {},
   "source": [
    "#### Inference of null values:\n",
    "<span Style=\"color:blue\">\n",
    "    \n",
    "- There are 17 columns with null values in the dataframe.\n",
    "\n",
    "- We will consider 35% as cutoff except \"Specialization\". \n",
    "\n",
    "</span>"
   ]
  },
  {
   "cell_type": "markdown",
   "id": "315f6c0f",
   "metadata": {},
   "source": [
    "#### Step 4.3b: To drop columns above 35% except \"Specialization\""
   ]
  },
  {
   "cell_type": "code",
   "execution_count": 414,
   "id": "12abf553",
   "metadata": {},
   "outputs": [
    {
     "data": {
      "text/plain": [
       "(9240, 25)"
      ]
     },
     "execution_count": 414,
     "metadata": {},
     "output_type": "execute_result"
    }
   ],
   "source": [
    "Lead_data = Lead_data.drop(['Asymmetrique Profile Index', 'Lead Profile', 'Asymmetrique Activity Index','Asymmetrique Activity Score',\n",
    "                      'Asymmetrique Profile Score', 'Lead Quality', 'Tags'],axis=1)\n",
    "Lead_data.shape"
   ]
  },
  {
   "cell_type": "markdown",
   "id": "4879c934",
   "metadata": {},
   "source": [
    "#### Step 4.3c: To drop the remaining columns generated by sales team"
   ]
  },
  {
   "cell_type": "code",
   "execution_count": 415,
   "id": "115c7e01",
   "metadata": {},
   "outputs": [
    {
     "data": {
      "text/plain": [
       "(9240, 24)"
      ]
     },
     "execution_count": 415,
     "metadata": {},
     "output_type": "execute_result"
    }
   ],
   "source": [
    "Lead_data = Lead_data.drop(['Last Notable Activity'], axis=1)\n",
    "Lead_data.shape"
   ]
  },
  {
   "cell_type": "code",
   "execution_count": 416,
   "id": "c6dd4d27",
   "metadata": {},
   "outputs": [
    {
     "data": {
      "text/plain": [
       "How did you hear about X Education               78.46\n",
       "City                                             39.71\n",
       "Specialization                                   36.58\n",
       "What matters most to you in choosing a course    29.32\n",
       "What is your current occupation                  29.11\n",
       "Country                                          26.63\n",
       "TotalVisits                                       1.48\n",
       "Page Views Per Visit                              1.48\n",
       "Last Activity                                     1.11\n",
       "Lead Source                                       0.39\n",
       "Search                                            0.00\n",
       "Through Recommendations                           0.00\n",
       "Digital Advertisement                             0.00\n",
       "Newspaper                                         0.00\n",
       "X Education Forums                                0.00\n",
       "Newspaper Article                                 0.00\n",
       "Prospect ID                                       0.00\n",
       "Lead Number                                       0.00\n",
       "Total Time Spent on Website                       0.00\n",
       "Converted                                         0.00\n",
       "Do Not Call                                       0.00\n",
       "Do Not Email                                      0.00\n",
       "Lead Origin                                       0.00\n",
       "A free copy of Mastering The Interview            0.00\n",
       "dtype: float64"
      ]
     },
     "execution_count": 416,
     "metadata": {},
     "output_type": "execute_result"
    }
   ],
   "source": [
    "# To check the null values after replacing \"Select\"\n",
    "round((Lead_data.isnull().sum()/len(Lead_data))*100, 2).sort_values(ascending = False)"
   ]
  },
  {
   "cell_type": "markdown",
   "id": "0e514840",
   "metadata": {},
   "source": [
    "#### Step 4.3d: To drop columns above 38% after replacing \"Select\""
   ]
  },
  {
   "cell_type": "code",
   "execution_count": 417,
   "id": "0572943c",
   "metadata": {},
   "outputs": [
    {
     "data": {
      "text/plain": [
       "(9240, 22)"
      ]
     },
     "execution_count": 417,
     "metadata": {},
     "output_type": "execute_result"
    }
   ],
   "source": [
    "Lead_data = Lead_data.drop(['How did you hear about X Education', 'City'], axis=1)\n",
    "Lead_data.shape"
   ]
  },
  {
   "cell_type": "code",
   "execution_count": 418,
   "id": "56756bd3",
   "metadata": {},
   "outputs": [
    {
     "data": {
      "text/plain": [
       "Specialization                                   36.58\n",
       "What matters most to you in choosing a course    29.32\n",
       "What is your current occupation                  29.11\n",
       "Country                                          26.63\n",
       "TotalVisits                                       1.48\n",
       "Page Views Per Visit                              1.48\n",
       "Last Activity                                     1.11\n",
       "Lead Source                                       0.39\n",
       "Through Recommendations                           0.00\n",
       "Digital Advertisement                             0.00\n",
       "Newspaper                                         0.00\n",
       "X Education Forums                                0.00\n",
       "Newspaper Article                                 0.00\n",
       "Search                                            0.00\n",
       "Prospect ID                                       0.00\n",
       "Lead Number                                       0.00\n",
       "Total Time Spent on Website                       0.00\n",
       "Converted                                         0.00\n",
       "Do Not Call                                       0.00\n",
       "Do Not Email                                      0.00\n",
       "Lead Origin                                       0.00\n",
       "A free copy of Mastering The Interview            0.00\n",
       "dtype: float64"
      ]
     },
     "execution_count": 418,
     "metadata": {},
     "output_type": "execute_result"
    }
   ],
   "source": [
    "# To check the data after dropping the above columns\n",
    "round((Lead_data.isnull().sum()/len(Lead_data))*100, 2).sort_values(ascending = False)"
   ]
  },
  {
   "cell_type": "markdown",
   "id": "7c8d3de5",
   "metadata": {},
   "source": [
    "### Step 4.4: To check the value counts of remaining null value columns to replace with mean, median, or mode"
   ]
  },
  {
   "cell_type": "markdown",
   "id": "bdfdcb5a",
   "metadata": {},
   "source": [
    "#### Step 4.4a: To check \"Specialization\" value counts"
   ]
  },
  {
   "cell_type": "code",
   "execution_count": 419,
   "id": "935dba3f",
   "metadata": {
    "scrolled": true
   },
   "outputs": [
    {
     "data": {
      "text/plain": [
       "Finance Management                   16.655290\n",
       "Human Resource Management            14.470990\n",
       "Marketing Management                 14.300341\n",
       "Operations Management                 8.583618\n",
       "Business Administration               6.877133\n",
       "IT Projects Management                6.245734\n",
       "Supply Chain Management               5.955631\n",
       "Banking, Investment And Insurance     5.767918\n",
       "Travel and Tourism                    3.464164\n",
       "Media and Advertising                 3.464164\n",
       "International Business                3.037543\n",
       "Healthcare Management                 2.713311\n",
       "Hospitality Management                1.945392\n",
       "E-COMMERCE                            1.911263\n",
       "Retail Management                     1.706485\n",
       "Rural and Agribusiness                1.245734\n",
       "E-Business                            0.972696\n",
       "Services Excellence                   0.682594\n",
       "Name: Specialization, dtype: float64"
      ]
     },
     "execution_count": 419,
     "metadata": {},
     "output_type": "execute_result"
    }
   ],
   "source": [
    "Lead_data['Specialization'].value_counts(normalize = True)*100"
   ]
  },
  {
   "cell_type": "markdown",
   "id": "16cf5975",
   "metadata": {},
   "source": [
    "#### Step 4.4b: To check \"What matters most to you in choosing a course\" value counts"
   ]
  },
  {
   "cell_type": "code",
   "execution_count": 420,
   "id": "0bce23e2",
   "metadata": {},
   "outputs": [
    {
     "data": {
      "text/plain": [
       "Better Career Prospects      99.954065\n",
       "Flexibility & Convenience     0.030623\n",
       "Other                         0.015312\n",
       "Name: What matters most to you in choosing a course, dtype: float64"
      ]
     },
     "execution_count": 420,
     "metadata": {},
     "output_type": "execute_result"
    }
   ],
   "source": [
    "Lead_data['What matters most to you in choosing a course'].value_counts(normalize = True)*100"
   ]
  },
  {
   "cell_type": "markdown",
   "id": "284f05cd",
   "metadata": {},
   "source": [
    "#### Step 4.4c: To check \"What is your current occupation\" value counts"
   ]
  },
  {
   "cell_type": "code",
   "execution_count": 421,
   "id": "83656c7a",
   "metadata": {},
   "outputs": [
    {
     "data": {
      "text/plain": [
       "Unemployed              5600\n",
       "Working Professional     706\n",
       "Student                  210\n",
       "Other                     16\n",
       "Housewife                 10\n",
       "Businessman                8\n",
       "Name: What is your current occupation, dtype: int64"
      ]
     },
     "execution_count": 421,
     "metadata": {},
     "output_type": "execute_result"
    }
   ],
   "source": [
    "Lead_data['What is your current occupation'].value_counts()"
   ]
  },
  {
   "cell_type": "markdown",
   "id": "7f457400",
   "metadata": {},
   "source": [
    "#### step 4.4d: To check \"Country\" value counts"
   ]
  },
  {
   "cell_type": "code",
   "execution_count": 422,
   "id": "d078b906",
   "metadata": {},
   "outputs": [
    {
     "data": {
      "text/plain": [
       "India                   95.766337\n",
       "United States            1.017849\n",
       "United Arab Emirates     0.781826\n",
       "Singapore                0.354035\n",
       "Saudi Arabia             0.309780\n",
       "United Kingdom           0.221272\n",
       "Australia                0.191769\n",
       "Qatar                    0.147514\n",
       "Hong Kong                0.103260\n",
       "Bahrain                  0.103260\n",
       "Oman                     0.088509\n",
       "France                   0.088509\n",
       "unknown                  0.073757\n",
       "South Africa             0.059006\n",
       "Nigeria                  0.059006\n",
       "Germany                  0.059006\n",
       "Kuwait                   0.059006\n",
       "Canada                   0.059006\n",
       "Sweden                   0.044254\n",
       "China                    0.029503\n",
       "Asia/Pacific Region      0.029503\n",
       "Uganda                   0.029503\n",
       "Bangladesh               0.029503\n",
       "Italy                    0.029503\n",
       "Belgium                  0.029503\n",
       "Netherlands              0.029503\n",
       "Ghana                    0.029503\n",
       "Philippines              0.029503\n",
       "Russia                   0.014751\n",
       "Switzerland              0.014751\n",
       "Vietnam                  0.014751\n",
       "Denmark                  0.014751\n",
       "Tanzania                 0.014751\n",
       "Liberia                  0.014751\n",
       "Malaysia                 0.014751\n",
       "Kenya                    0.014751\n",
       "Sri Lanka                0.014751\n",
       "Indonesia                0.014751\n",
       "Name: Country, dtype: float64"
      ]
     },
     "execution_count": 422,
     "metadata": {},
     "output_type": "execute_result"
    }
   ],
   "source": [
    "Lead_data.Country.value_counts(normalize=True)*100"
   ]
  },
  {
   "cell_type": "markdown",
   "id": "92590b43",
   "metadata": {},
   "source": [
    "#### Step 4.4e: To check \"TotalVisits\" value counts"
   ]
  },
  {
   "cell_type": "code",
   "execution_count": 423,
   "id": "6891e54b",
   "metadata": {},
   "outputs": [
    {
     "data": {
      "text/plain": [
       "0.0      24.047017\n",
       "2.0      18.455454\n",
       "3.0      14.346919\n",
       "4.0      12.303636\n",
       "5.0       8.601560\n",
       "6.0       5.119191\n",
       "1.0       4.339229\n",
       "7.0       3.394485\n",
       "8.0       2.460727\n",
       "9.0       1.801604\n",
       "10.0      1.252334\n",
       "11.0      0.944743\n",
       "13.0      0.527299\n",
       "12.0      0.494343\n",
       "14.0      0.395474\n",
       "16.0      0.230693\n",
       "15.0      0.197737\n",
       "17.0      0.175766\n",
       "18.0      0.164781\n",
       "20.0      0.131825\n",
       "19.0      0.098869\n",
       "21.0      0.065912\n",
       "23.0      0.065912\n",
       "24.0      0.054927\n",
       "25.0      0.054927\n",
       "27.0      0.054927\n",
       "22.0      0.032956\n",
       "29.0      0.021971\n",
       "28.0      0.021971\n",
       "26.0      0.021971\n",
       "141.0     0.010985\n",
       "55.0      0.010985\n",
       "30.0      0.010985\n",
       "43.0      0.010985\n",
       "74.0      0.010985\n",
       "41.0      0.010985\n",
       "54.0      0.010985\n",
       "115.0     0.010985\n",
       "251.0     0.010985\n",
       "32.0      0.010985\n",
       "42.0      0.010985\n",
       "Name: TotalVisits, dtype: float64"
      ]
     },
     "execution_count": 423,
     "metadata": {},
     "output_type": "execute_result"
    }
   ],
   "source": [
    "Lead_data['TotalVisits'].value_counts(normalize=True)*100"
   ]
  },
  {
   "cell_type": "markdown",
   "id": "41cdef00",
   "metadata": {},
   "source": [
    "#### Step 4.4f: To check the value counts of \"Page Views Per Visit\" column"
   ]
  },
  {
   "cell_type": "code",
   "execution_count": 424,
   "id": "a364bd91",
   "metadata": {},
   "outputs": [
    {
     "data": {
      "text/plain": [
       "0.00    24.047017\n",
       "2.00    19.718774\n",
       "3.00    13.138526\n",
       "4.00     9.842909\n",
       "1.00     7.151489\n",
       "          ...    \n",
       "3.43     0.010985\n",
       "2.56     0.010985\n",
       "6.33     0.010985\n",
       "1.64     0.010985\n",
       "2.08     0.010985\n",
       "Name: Page Views Per Visit, Length: 114, dtype: float64"
      ]
     },
     "execution_count": 424,
     "metadata": {},
     "output_type": "execute_result"
    }
   ],
   "source": [
    "Lead_data['Page Views Per Visit'].value_counts(normalize=True)*100"
   ]
  },
  {
   "cell_type": "markdown",
   "id": "dae1ac35",
   "metadata": {},
   "source": [
    "#### Step 4.4g: To check \"Lead Source\" value counts"
   ]
  },
  {
   "cell_type": "code",
   "execution_count": 425,
   "id": "200382cc",
   "metadata": {
    "scrolled": false
   },
   "outputs": [
    {
     "data": {
      "text/plain": [
       "Google               2868\n",
       "Direct Traffic       2543\n",
       "Olark Chat           1755\n",
       "Organic Search       1154\n",
       "Reference             534\n",
       "Welingak Website      142\n",
       "Referral Sites        125\n",
       "Facebook               55\n",
       "bing                    6\n",
       "google                  5\n",
       "Click2call              4\n",
       "Press_Release           2\n",
       "Social Media            2\n",
       "Live Chat               2\n",
       "youtubechannel          1\n",
       "testone                 1\n",
       "Pay per Click Ads       1\n",
       "welearnblog_Home        1\n",
       "WeLearn                 1\n",
       "blog                    1\n",
       "NC_EDM                  1\n",
       "Name: Lead Source, dtype: int64"
      ]
     },
     "execution_count": 425,
     "metadata": {},
     "output_type": "execute_result"
    }
   ],
   "source": [
    "Lead_data['Lead Source'].value_counts()"
   ]
  },
  {
   "cell_type": "markdown",
   "id": "57181f2e",
   "metadata": {},
   "source": [
    "#### Step 4.4h: To check \"Through Recommendations\" value counts"
   ]
  },
  {
   "cell_type": "code",
   "execution_count": 426,
   "id": "cd6f4e99",
   "metadata": {},
   "outputs": [
    {
     "data": {
      "text/plain": [
       "No     99.924242\n",
       "Yes     0.075758\n",
       "Name: Through Recommendations, dtype: float64"
      ]
     },
     "execution_count": 426,
     "metadata": {},
     "output_type": "execute_result"
    }
   ],
   "source": [
    "Lead_data['Through Recommendations'].value_counts(normalize=True)*100"
   ]
  },
  {
   "cell_type": "markdown",
   "id": "5149c95c",
   "metadata": {},
   "source": [
    "#### Step 4.4i: To check \"Digital Advertisement\" value counts"
   ]
  },
  {
   "cell_type": "code",
   "execution_count": 427,
   "id": "e18c4e78",
   "metadata": {},
   "outputs": [
    {
     "data": {
      "text/plain": [
       "No     99.95671\n",
       "Yes     0.04329\n",
       "Name: Digital Advertisement, dtype: float64"
      ]
     },
     "execution_count": 427,
     "metadata": {},
     "output_type": "execute_result"
    }
   ],
   "source": [
    "Lead_data['Digital Advertisement'].value_counts(normalize=True)*100"
   ]
  },
  {
   "cell_type": "markdown",
   "id": "e9ce5f0d",
   "metadata": {},
   "source": [
    "#### Step 4.4j: To check \"Newspaper\" value counts"
   ]
  },
  {
   "cell_type": "code",
   "execution_count": 428,
   "id": "38eadc9f",
   "metadata": {},
   "outputs": [
    {
     "data": {
      "text/plain": [
       "No     99.989177\n",
       "Yes     0.010823\n",
       "Name: Newspaper, dtype: float64"
      ]
     },
     "execution_count": 428,
     "metadata": {},
     "output_type": "execute_result"
    }
   ],
   "source": [
    "Lead_data['Newspaper'].value_counts(normalize=True)*100"
   ]
  },
  {
   "cell_type": "markdown",
   "id": "929bed28",
   "metadata": {},
   "source": [
    "#### Step 4.4k: To check \"X Education Forums\" value counts"
   ]
  },
  {
   "cell_type": "code",
   "execution_count": 429,
   "id": "ea1df414",
   "metadata": {},
   "outputs": [
    {
     "data": {
      "text/plain": [
       "No     99.989177\n",
       "Yes     0.010823\n",
       "Name: X Education Forums, dtype: float64"
      ]
     },
     "execution_count": 429,
     "metadata": {},
     "output_type": "execute_result"
    }
   ],
   "source": [
    "Lead_data['X Education Forums'].value_counts(normalize=True)*100"
   ]
  },
  {
   "cell_type": "markdown",
   "id": "3c3c313f",
   "metadata": {},
   "source": [
    "#### Step 4.4l: To check \"Newspaper Article\" value counts"
   ]
  },
  {
   "cell_type": "code",
   "execution_count": 430,
   "id": "aaff97b9",
   "metadata": {},
   "outputs": [
    {
     "data": {
      "text/plain": [
       "No     99.978355\n",
       "Yes     0.021645\n",
       "Name: Newspaper Article, dtype: float64"
      ]
     },
     "execution_count": 430,
     "metadata": {},
     "output_type": "execute_result"
    }
   ],
   "source": [
    "Lead_data['Newspaper Article'].value_counts(normalize=True)*100"
   ]
  },
  {
   "cell_type": "markdown",
   "id": "b23e0620",
   "metadata": {},
   "source": [
    "#### Step 4.4m: To check \"Search\" value counts"
   ]
  },
  {
   "cell_type": "code",
   "execution_count": 431,
   "id": "9403d933",
   "metadata": {},
   "outputs": [
    {
     "data": {
      "text/plain": [
       "No     99.848485\n",
       "Yes     0.151515\n",
       "Name: Search, dtype: float64"
      ]
     },
     "execution_count": 431,
     "metadata": {},
     "output_type": "execute_result"
    }
   ],
   "source": [
    "Lead_data['Search'].value_counts(normalize=True)*100"
   ]
  },
  {
   "cell_type": "markdown",
   "id": "a1b92816",
   "metadata": {},
   "source": [
    "#### Step 4.4n: To check \"Total Time Spent on Website\" value counts"
   ]
  },
  {
   "cell_type": "code",
   "execution_count": 432,
   "id": "74b4c020",
   "metadata": {},
   "outputs": [
    {
     "data": {
      "text/plain": [
       "0       23.733766\n",
       "60       0.205628\n",
       "74       0.194805\n",
       "75       0.194805\n",
       "127      0.194805\n",
       "          ...    \n",
       "1701     0.010823\n",
       "1952     0.010823\n",
       "1229     0.010823\n",
       "1743     0.010823\n",
       "927      0.010823\n",
       "Name: Total Time Spent on Website, Length: 1731, dtype: float64"
      ]
     },
     "execution_count": 432,
     "metadata": {},
     "output_type": "execute_result"
    }
   ],
   "source": [
    "Lead_data['Total Time Spent on Website'].value_counts(normalize=True)*100"
   ]
  },
  {
   "cell_type": "markdown",
   "id": "ab21c95d",
   "metadata": {},
   "source": [
    "#### Step 4.4o: To check \"Converted\" value counts"
   ]
  },
  {
   "cell_type": "code",
   "execution_count": 433,
   "id": "fb7f5e2d",
   "metadata": {},
   "outputs": [
    {
     "data": {
      "text/plain": [
       "0    61.461039\n",
       "1    38.538961\n",
       "Name: Converted, dtype: float64"
      ]
     },
     "execution_count": 433,
     "metadata": {},
     "output_type": "execute_result"
    }
   ],
   "source": [
    "Lead_data['Converted'].value_counts(normalize=True)*100"
   ]
  },
  {
   "cell_type": "markdown",
   "id": "8d7f576f",
   "metadata": {},
   "source": [
    "#### Step 4.4p: To check \"Do Not Call\" value counts"
   ]
  },
  {
   "cell_type": "code",
   "execution_count": 434,
   "id": "155b5f1c",
   "metadata": {},
   "outputs": [
    {
     "data": {
      "text/plain": [
       "No     99.978355\n",
       "Yes     0.021645\n",
       "Name: Do Not Call, dtype: float64"
      ]
     },
     "execution_count": 434,
     "metadata": {},
     "output_type": "execute_result"
    }
   ],
   "source": [
    "Lead_data['Do Not Call'].value_counts(normalize=True)*100"
   ]
  },
  {
   "cell_type": "markdown",
   "id": "610e1e4e",
   "metadata": {},
   "source": [
    "#### Step 4.4q: To check \"Do Not Email\" value counts"
   ]
  },
  {
   "cell_type": "code",
   "execution_count": 435,
   "id": "0f293d84",
   "metadata": {},
   "outputs": [
    {
     "data": {
      "text/plain": [
       "No     92.056277\n",
       "Yes     7.943723\n",
       "Name: Do Not Email, dtype: float64"
      ]
     },
     "execution_count": 435,
     "metadata": {},
     "output_type": "execute_result"
    }
   ],
   "source": [
    "Lead_data['Do Not Email'].value_counts(normalize=True)*100"
   ]
  },
  {
   "cell_type": "markdown",
   "id": "64b97191",
   "metadata": {},
   "source": [
    "#### Step 4.4r: To check \"Lead Origin\" value counts"
   ]
  },
  {
   "cell_type": "code",
   "execution_count": 436,
   "id": "3295e14a",
   "metadata": {},
   "outputs": [
    {
     "data": {
      "text/plain": [
       "Landing Page Submission    52.878788\n",
       "API                        38.744589\n",
       "Lead Add Form               7.770563\n",
       "Lead Import                 0.595238\n",
       "Quick Add Form              0.010823\n",
       "Name: Lead Origin, dtype: float64"
      ]
     },
     "execution_count": 436,
     "metadata": {},
     "output_type": "execute_result"
    }
   ],
   "source": [
    "Lead_data['Lead Origin'].value_counts(normalize=True)*100"
   ]
  },
  {
   "cell_type": "markdown",
   "id": "80a40a63",
   "metadata": {},
   "source": [
    "#### Step 4.4s: To check \"A free copy of Mastering The Interview\" value counts"
   ]
  },
  {
   "cell_type": "code",
   "execution_count": 437,
   "id": "e4cb704f",
   "metadata": {},
   "outputs": [
    {
     "data": {
      "text/plain": [
       "No     68.744589\n",
       "Yes    31.255411\n",
       "Name: A free copy of Mastering The Interview, dtype: float64"
      ]
     },
     "execution_count": 437,
     "metadata": {},
     "output_type": "execute_result"
    }
   ],
   "source": [
    "Lead_data['A free copy of Mastering The Interview'].value_counts(normalize=True)*100"
   ]
  },
  {
   "cell_type": "markdown",
   "id": "15e7dbde",
   "metadata": {},
   "source": [
    "#### Step 4.4t: To check \"Last Activity\" value counts"
   ]
  },
  {
   "cell_type": "code",
   "execution_count": 438,
   "id": "d7fb9540",
   "metadata": {},
   "outputs": [
    {
     "data": {
      "text/plain": [
       "Email Opened                    37.616285\n",
       "SMS Sent                        30.042684\n",
       "Olark Chat Conversation         10.649010\n",
       "Page Visited on Website          7.004487\n",
       "Converted to Lead                4.684251\n",
       "Email Bounced                    3.567911\n",
       "Email Link Clicked               2.922185\n",
       "Form Submitted on Website        1.269563\n",
       "Unreachable                      1.017840\n",
       "Unsubscribed                     0.667615\n",
       "Had a Phone Conversation         0.328335\n",
       "Approached upfront               0.098501\n",
       "View in browser link Clicked     0.065667\n",
       "Email Received                   0.021889\n",
       "Email Marked Spam                0.021889\n",
       "Visited Booth in Tradeshow       0.010945\n",
       "Resubscribed to emails           0.010945\n",
       "Name: Last Activity, dtype: float64"
      ]
     },
     "execution_count": 438,
     "metadata": {},
     "output_type": "execute_result"
    }
   ],
   "source": [
    "Lead_data['Last Activity'].value_counts(normalize=True)*100"
   ]
  },
  {
   "cell_type": "markdown",
   "id": "99920759",
   "metadata": {},
   "source": [
    "#### Step 4.4s: to drop highly skewed columns"
   ]
  },
  {
   "cell_type": "code",
   "execution_count": 439,
   "id": "c104affa",
   "metadata": {},
   "outputs": [],
   "source": [
    "Lead_data.drop(['Do Not Email','Do Not Call','Country','What matters most to you in choosing a course', \n",
    "'Search', 'Newspaper Article', 'X Education Forums','Newspaper','Digital Advertisement','Through Recommendations',],axis=1,inplace=True)"
   ]
  },
  {
   "cell_type": "markdown",
   "id": "94f94be5",
   "metadata": {},
   "source": [
    "#### Step 4.4t: To recheck the null values after dropping the above three columns"
   ]
  },
  {
   "cell_type": "code",
   "execution_count": 440,
   "id": "f2702293",
   "metadata": {
    "scrolled": false
   },
   "outputs": [
    {
     "data": {
      "text/plain": [
       "Specialization                            36.58\n",
       "What is your current occupation           29.11\n",
       "TotalVisits                                1.48\n",
       "Page Views Per Visit                       1.48\n",
       "Last Activity                              1.11\n",
       "Lead Source                                0.39\n",
       "Prospect ID                                0.00\n",
       "Lead Number                                0.00\n",
       "Lead Origin                                0.00\n",
       "Converted                                  0.00\n",
       "Total Time Spent on Website                0.00\n",
       "A free copy of Mastering The Interview     0.00\n",
       "dtype: float64"
      ]
     },
     "execution_count": 440,
     "metadata": {},
     "output_type": "execute_result"
    }
   ],
   "source": [
    "round((Lead_data.isnull().sum()/len(Lead_data))*100, 2).sort_values(ascending = False)"
   ]
  },
  {
   "cell_type": "code",
   "execution_count": 441,
   "id": "c932c617",
   "metadata": {},
   "outputs": [
    {
     "data": {
      "text/plain": [
       "(9240, 12)"
      ]
     },
     "execution_count": 441,
     "metadata": {},
     "output_type": "execute_result"
    }
   ],
   "source": [
    "Lead_data.shape\n"
   ]
  },
  {
   "cell_type": "markdown",
   "id": "9520ce3d",
   "metadata": {},
   "source": [
    "### Step 4.5: Data Cleaning - Combining columns having low percentages into one single column."
   ]
  },
  {
   "cell_type": "markdown",
   "id": "bb47502e",
   "metadata": {},
   "source": [
    "#### Step 4.5a: Combining 'Lead Origin' categories "
   ]
  },
  {
   "cell_type": "code",
   "execution_count": 442,
   "id": "83a4c895",
   "metadata": {},
   "outputs": [
    {
     "data": {
      "text/plain": [
       "Landing Page Submission    52.878788\n",
       "API                        38.744589\n",
       "Lead Add Form               7.770563\n",
       "Lead Import                 0.595238\n",
       "Quick Add Form              0.010823\n",
       "Name: Lead Origin, dtype: float64"
      ]
     },
     "execution_count": 442,
     "metadata": {},
     "output_type": "execute_result"
    }
   ],
   "source": [
    "#Inspecting the column again\n",
    "Lead_data['Lead Origin'].value_counts(normalize=True)*100"
   ]
  },
  {
   "cell_type": "code",
   "execution_count": 443,
   "id": "03f2f876",
   "metadata": {},
   "outputs": [],
   "source": [
    "Lead_data['Lead Origin'] = Lead_data['Lead Origin'].replace(['Lead Import','Quick Add Form'] ,'Others')"
   ]
  },
  {
   "cell_type": "code",
   "execution_count": 444,
   "id": "ab37966d",
   "metadata": {},
   "outputs": [
    {
     "data": {
      "text/plain": [
       "Landing Page Submission    52.878788\n",
       "API                        38.744589\n",
       "Lead Add Form               7.770563\n",
       "Others                      0.606061\n",
       "Name: Lead Origin, dtype: float64"
      ]
     },
     "execution_count": 444,
     "metadata": {},
     "output_type": "execute_result"
    }
   ],
   "source": [
    "#Checking if the category has been correctly replaced. \n",
    "Lead_data['Lead Origin'].value_counts(normalize=True)*100 "
   ]
  },
  {
   "cell_type": "markdown",
   "id": "92c4eab9",
   "metadata": {},
   "source": [
    "#### Step 4.5b: Combining 'Lead Source' categories"
   ]
  },
  {
   "cell_type": "code",
   "execution_count": 445,
   "id": "4754d91f",
   "metadata": {},
   "outputs": [
    {
     "data": {
      "text/plain": [
       "Google               31.160365\n",
       "Direct Traffic       27.629292\n",
       "Olark Chat           19.067797\n",
       "Organic Search       12.538027\n",
       "Reference             5.801825\n",
       "Welingak Website      1.542807\n",
       "Referral Sites        1.358105\n",
       "Facebook              0.597566\n",
       "bing                  0.065189\n",
       "google                0.054324\n",
       "Click2call            0.043459\n",
       "Press_Release         0.021730\n",
       "Social Media          0.021730\n",
       "Live Chat             0.021730\n",
       "youtubechannel        0.010865\n",
       "testone               0.010865\n",
       "Pay per Click Ads     0.010865\n",
       "welearnblog_Home      0.010865\n",
       "WeLearn               0.010865\n",
       "blog                  0.010865\n",
       "NC_EDM                0.010865\n",
       "Name: Lead Source, dtype: float64"
      ]
     },
     "execution_count": 445,
     "metadata": {},
     "output_type": "execute_result"
    }
   ],
   "source": [
    "#Inspecting Lead Source column.\n",
    "Lead_data['Lead Source'].value_counts(normalize=True)*100"
   ]
  },
  {
   "cell_type": "code",
   "execution_count": 446,
   "id": "04f98df8",
   "metadata": {},
   "outputs": [],
   "source": [
    "Lead_data['Lead Source'] = Lead_data['Lead Source'].replace(['Welingak Website','Referral Sites','Facebook','bing','google','Click2call', \n",
    "                                                   'Press_Release','Social Media','Live Chat','Pay per Click Ads','blog','WeLearn',\n",
    "                                                   'youtubechannel','testone','NC_EDM' ,'welearnblog_Home'] ,'Others')"
   ]
  },
  {
   "cell_type": "code",
   "execution_count": 447,
   "id": "e1f381e8",
   "metadata": {},
   "outputs": [
    {
     "data": {
      "text/plain": [
       "Google            31.160365\n",
       "Direct Traffic    27.629292\n",
       "Olark Chat        19.067797\n",
       "Organic Search    12.538027\n",
       "Reference          5.801825\n",
       "Others             3.802694\n",
       "Name: Lead Source, dtype: float64"
      ]
     },
     "execution_count": 447,
     "metadata": {},
     "output_type": "execute_result"
    }
   ],
   "source": [
    "#Checking if the category has been correctly replaced. \n",
    "Lead_data['Lead Source'].value_counts(normalize=True)*100 "
   ]
  },
  {
   "cell_type": "markdown",
   "id": "19436664",
   "metadata": {},
   "source": [
    "#### Step 4.5c: Comibining \"Last Activity\""
   ]
  },
  {
   "cell_type": "code",
   "execution_count": 448,
   "id": "594426b6",
   "metadata": {},
   "outputs": [
    {
     "data": {
      "text/plain": [
       "Email Opened                    37.616285\n",
       "SMS Sent                        30.042684\n",
       "Olark Chat Conversation         10.649010\n",
       "Page Visited on Website          7.004487\n",
       "Converted to Lead                4.684251\n",
       "Email Bounced                    3.567911\n",
       "Email Link Clicked               2.922185\n",
       "Form Submitted on Website        1.269563\n",
       "Unreachable                      1.017840\n",
       "Unsubscribed                     0.667615\n",
       "Had a Phone Conversation         0.328335\n",
       "Approached upfront               0.098501\n",
       "View in browser link Clicked     0.065667\n",
       "Email Received                   0.021889\n",
       "Email Marked Spam                0.021889\n",
       "Visited Booth in Tradeshow       0.010945\n",
       "Resubscribed to emails           0.010945\n",
       "Name: Last Activity, dtype: float64"
      ]
     },
     "execution_count": 448,
     "metadata": {},
     "output_type": "execute_result"
    }
   ],
   "source": [
    "#Inspecting 'Last Activity' column\n",
    "Lead_data['Last Activity'].value_counts(normalize=True)*100"
   ]
  },
  {
   "cell_type": "code",
   "execution_count": 449,
   "id": "2feee536",
   "metadata": {},
   "outputs": [],
   "source": [
    "#Combining together to form 'Others' Categories. \n",
    "Lead_data['Last Activity']=Lead_data['Last Activity'].replace(['Form Submitted on Website'      ,\n",
    "'Unreachable'                    ,\n",
    "'Unsubscribed'                   ,\n",
    "'Had a Phone Conversation'       ,\n",
    "'Approached upfront'             ,\n",
    "'View in browser link Clicked'   ,\n",
    "'Email Received'                 ,\n",
    "'Email Marked Spam'              ,\n",
    "'Visited Booth in Tradeshow'     ,\n",
    "'Resubscribed to emails'],'Others') "
   ]
  },
  {
   "cell_type": "code",
   "execution_count": 450,
   "id": "7e60fc08",
   "metadata": {},
   "outputs": [
    {
     "data": {
      "text/plain": [
       "Email Opened               37.616285\n",
       "SMS Sent                   30.042684\n",
       "Olark Chat Conversation    10.649010\n",
       "Page Visited on Website     7.004487\n",
       "Converted to Lead           4.684251\n",
       "Email Bounced               3.567911\n",
       "Others                      3.513188\n",
       "Email Link Clicked          2.922185\n",
       "Name: Last Activity, dtype: float64"
      ]
     },
     "execution_count": 450,
     "metadata": {},
     "output_type": "execute_result"
    }
   ],
   "source": [
    "#Checking if the category has been correctly replaced. \n",
    "Lead_data['Last Activity'].value_counts(normalize=True)*100"
   ]
  },
  {
   "cell_type": "markdown",
   "id": "c620197c",
   "metadata": {},
   "source": [
    "#### Step 4.5d: Combining 'Specialization' categories"
   ]
  },
  {
   "cell_type": "code",
   "execution_count": 451,
   "id": "58364721",
   "metadata": {},
   "outputs": [
    {
     "data": {
      "text/plain": [
       "Finance Management                   16.655290\n",
       "Human Resource Management            14.470990\n",
       "Marketing Management                 14.300341\n",
       "Operations Management                 8.583618\n",
       "Business Administration               6.877133\n",
       "IT Projects Management                6.245734\n",
       "Supply Chain Management               5.955631\n",
       "Banking, Investment And Insurance     5.767918\n",
       "Travel and Tourism                    3.464164\n",
       "Media and Advertising                 3.464164\n",
       "International Business                3.037543\n",
       "Healthcare Management                 2.713311\n",
       "Hospitality Management                1.945392\n",
       "E-COMMERCE                            1.911263\n",
       "Retail Management                     1.706485\n",
       "Rural and Agribusiness                1.245734\n",
       "E-Business                            0.972696\n",
       "Services Excellence                   0.682594\n",
       "Name: Specialization, dtype: float64"
      ]
     },
     "execution_count": 451,
     "metadata": {},
     "output_type": "execute_result"
    }
   ],
   "source": [
    "#Inspecting 'Specialization' column\n",
    "Lead_data['Specialization'].value_counts(normalize=True)*100"
   ]
  },
  {
   "cell_type": "code",
   "execution_count": 452,
   "id": "60f407cf",
   "metadata": {},
   "outputs": [],
   "source": [
    "Lead_data['Specialization']=Lead_data['Specialization'].replace(['Rural and Agribusiness','E-Business','Services Excellence','Hospitality Management','E-COMMERCE','Retail Management'],'Others')      "
   ]
  },
  {
   "cell_type": "code",
   "execution_count": 453,
   "id": "f581d4f3",
   "metadata": {},
   "outputs": [
    {
     "data": {
      "text/plain": [
       "Finance Management                   16.655290\n",
       "Human Resource Management            14.470990\n",
       "Marketing Management                 14.300341\n",
       "Operations Management                 8.583618\n",
       "Others                                8.464164\n",
       "Business Administration               6.877133\n",
       "IT Projects Management                6.245734\n",
       "Supply Chain Management               5.955631\n",
       "Banking, Investment And Insurance     5.767918\n",
       "Media and Advertising                 3.464164\n",
       "Travel and Tourism                    3.464164\n",
       "International Business                3.037543\n",
       "Healthcare Management                 2.713311\n",
       "Name: Specialization, dtype: float64"
      ]
     },
     "execution_count": 453,
     "metadata": {},
     "output_type": "execute_result"
    }
   ],
   "source": [
    "#Checking if the category has been correctly replaced. \n",
    "Lead_data['Specialization'].value_counts(normalize=True)*100 "
   ]
  },
  {
   "cell_type": "code",
   "execution_count": 454,
   "id": "752f3f72",
   "metadata": {},
   "outputs": [],
   "source": [
    "#We also handle the missing values for this Specialisation column, we add another column known as \"Not Specified\" for all missing values.\n",
    "Lead_data.Specialization.fillna('Not Specified', inplace=True)"
   ]
  },
  {
   "cell_type": "code",
   "execution_count": 455,
   "id": "2f41d9cd",
   "metadata": {},
   "outputs": [
    {
     "data": {
      "text/plain": [
       "Not Specified                        36.580087\n",
       "Finance Management                   10.562771\n",
       "Human Resource Management             9.177489\n",
       "Marketing Management                  9.069264\n",
       "Operations Management                 5.443723\n",
       "Others                                5.367965\n",
       "Business Administration               4.361472\n",
       "IT Projects Management                3.961039\n",
       "Supply Chain Management               3.777056\n",
       "Banking, Investment And Insurance     3.658009\n",
       "Media and Advertising                 2.196970\n",
       "Travel and Tourism                    2.196970\n",
       "International Business                1.926407\n",
       "Healthcare Management                 1.720779\n",
       "Name: Specialization, dtype: float64"
      ]
     },
     "execution_count": 455,
     "metadata": {},
     "output_type": "execute_result"
    }
   ],
   "source": [
    "#Inspecting the column again to recheck the same.\n",
    "Lead_data['Specialization'].value_counts(normalize=True)*100"
   ]
  },
  {
   "cell_type": "markdown",
   "id": "e45c9802",
   "metadata": {},
   "source": [
    "#### Step 4.5d: Combining \"What is your current occupation\" categories"
   ]
  },
  {
   "cell_type": "code",
   "execution_count": 456,
   "id": "f7dcf42f",
   "metadata": {},
   "outputs": [
    {
     "data": {
      "text/plain": [
       "Unemployed              85.496183\n",
       "Working Professional    10.778626\n",
       "Student                  3.206107\n",
       "Other                    0.244275\n",
       "Housewife                0.152672\n",
       "Businessman              0.122137\n",
       "Name: What is your current occupation, dtype: float64"
      ]
     },
     "execution_count": 456,
     "metadata": {},
     "output_type": "execute_result"
    }
   ],
   "source": [
    "#Inspecting value counts for Current Occupation\n",
    "Lead_data['What is your current occupation'].value_counts(normalize=True)*100"
   ]
  },
  {
   "cell_type": "code",
   "execution_count": 457,
   "id": "0810c764",
   "metadata": {},
   "outputs": [],
   "source": [
    "Lead_data['What is your current occupation']=Lead_data['What is your current occupation'].replace(['Other','Housewife','Businessman'],'Others')"
   ]
  },
  {
   "cell_type": "code",
   "execution_count": 458,
   "id": "e5f35df2",
   "metadata": {},
   "outputs": [
    {
     "data": {
      "text/plain": [
       "Unemployed              85.496183\n",
       "Working Professional    10.778626\n",
       "Student                  3.206107\n",
       "Others                   0.519084\n",
       "Name: What is your current occupation, dtype: float64"
      ]
     },
     "execution_count": 458,
     "metadata": {},
     "output_type": "execute_result"
    }
   ],
   "source": [
    "#Inspecting the column again to recheck the same.\n",
    "Lead_data['What is your current occupation'].value_counts(normalize=True)*100"
   ]
  },
  {
   "cell_type": "markdown",
   "id": "e479bb88",
   "metadata": {},
   "source": [
    "### Step 4.6: Imputing columns with low null value percentages"
   ]
  },
  {
   "cell_type": "markdown",
   "id": "225f647e",
   "metadata": {},
   "source": [
    "#### Step 4.6a: Imputing categorical columns"
   ]
  },
  {
   "cell_type": "code",
   "execution_count": 459,
   "id": "ac0d9e66",
   "metadata": {},
   "outputs": [
    {
     "data": {
      "text/plain": [
       "What is your current occupation           29.11\n",
       "TotalVisits                                1.48\n",
       "Page Views Per Visit                       1.48\n",
       "Last Activity                              1.11\n",
       "Lead Source                                0.39\n",
       "Prospect ID                                0.00\n",
       "Lead Number                                0.00\n",
       "Lead Origin                                0.00\n",
       "Converted                                  0.00\n",
       "Total Time Spent on Website                0.00\n",
       "Specialization                             0.00\n",
       "A free copy of Mastering The Interview     0.00\n",
       "dtype: float64"
      ]
     },
     "execution_count": 459,
     "metadata": {},
     "output_type": "execute_result"
    }
   ],
   "source": [
    "#Percentage of missing values in each column.\n",
    "round((Lead_data.isnull().sum()/len(Lead_data))*100, 2).sort_values(ascending = False)"
   ]
  },
  {
   "cell_type": "code",
   "execution_count": 460,
   "id": "b320a40d",
   "metadata": {},
   "outputs": [
    {
     "data": {
      "text/plain": [
       "Google            31.160365\n",
       "Direct Traffic    27.629292\n",
       "Olark Chat        19.067797\n",
       "Organic Search    12.538027\n",
       "Reference          5.801825\n",
       "Others             3.802694\n",
       "Name: Lead Source, dtype: float64"
      ]
     },
     "execution_count": 460,
     "metadata": {},
     "output_type": "execute_result"
    }
   ],
   "source": [
    "#Imputing categorical columns with Mode\n",
    "Lead_data['Lead Source'].value_counts(normalize=True)*100"
   ]
  },
  {
   "cell_type": "code",
   "execution_count": 461,
   "id": "b5c0f183",
   "metadata": {},
   "outputs": [],
   "source": [
    "#Imputing missing values in 'Lead Source' with mode. \n",
    "Lead_data['Lead Source'].fillna('Google',inplace=True)"
   ]
  },
  {
   "cell_type": "code",
   "execution_count": 462,
   "id": "7e669d59",
   "metadata": {},
   "outputs": [
    {
     "data": {
      "text/plain": [
       "Email Opened               37.616285\n",
       "SMS Sent                   30.042684\n",
       "Olark Chat Conversation    10.649010\n",
       "Page Visited on Website     7.004487\n",
       "Converted to Lead           4.684251\n",
       "Email Bounced               3.567911\n",
       "Others                      3.513188\n",
       "Email Link Clicked          2.922185\n",
       "Name: Last Activity, dtype: float64"
      ]
     },
     "execution_count": 462,
     "metadata": {},
     "output_type": "execute_result"
    }
   ],
   "source": [
    "#Imputing categorical columns with Mode\n",
    "Lead_data['Last Activity'].value_counts(normalize=True)*100"
   ]
  },
  {
   "cell_type": "code",
   "execution_count": 463,
   "id": "eecfc8e2",
   "metadata": {},
   "outputs": [],
   "source": [
    "#Imputing missing values in 'Last Activity' with mode. \n",
    "Lead_data['Last Activity'].fillna('Email Opened',inplace=True)"
   ]
  },
  {
   "cell_type": "code",
   "execution_count": 464,
   "id": "382798c0",
   "metadata": {},
   "outputs": [
    {
     "data": {
      "text/plain": [
       "Unemployed              85.496183\n",
       "Working Professional    10.778626\n",
       "Student                  3.206107\n",
       "Others                   0.519084\n",
       "Name: What is your current occupation, dtype: float64"
      ]
     },
     "execution_count": 464,
     "metadata": {},
     "output_type": "execute_result"
    }
   ],
   "source": [
    "#Imputing categorical columns with Mode\n",
    "Lead_data['What is your current occupation'].value_counts(normalize=True)*100 "
   ]
  },
  {
   "cell_type": "code",
   "execution_count": 465,
   "id": "5b1e3f69",
   "metadata": {},
   "outputs": [],
   "source": [
    "#Replacing categorical columns with Unemployed in Current Occupation \n",
    "Lead_data['What is your current occupation'].fillna('Unemployed', inplace = True)"
   ]
  },
  {
   "cell_type": "code",
   "execution_count": 466,
   "id": "e0311f77",
   "metadata": {},
   "outputs": [
    {
     "data": {
      "text/plain": [
       "Unemployed              89.718615\n",
       "Working Professional     7.640693\n",
       "Student                  2.272727\n",
       "Others                   0.367965\n",
       "Name: What is your current occupation, dtype: float64"
      ]
     },
     "execution_count": 466,
     "metadata": {},
     "output_type": "execute_result"
    }
   ],
   "source": [
    "#Imputing categorical columns with Mode\n",
    "Lead_data['What is your current occupation'].value_counts(normalize=True)*100 "
   ]
  },
  {
   "cell_type": "code",
   "execution_count": 467,
   "id": "00aa06b2",
   "metadata": {},
   "outputs": [
    {
     "data": {
      "text/plain": [
       "count    9103.000000\n",
       "mean        3.445238\n",
       "std         4.854853\n",
       "min         0.000000\n",
       "25%         1.000000\n",
       "50%         3.000000\n",
       "75%         5.000000\n",
       "max       251.000000\n",
       "Name: TotalVisits, dtype: float64"
      ]
     },
     "execution_count": 467,
     "metadata": {},
     "output_type": "execute_result"
    }
   ],
   "source": [
    "#Since TotalVisits is a numerical column, we first inspect the data.\n",
    "Lead_data['TotalVisits'].describe()"
   ]
  },
  {
   "cell_type": "code",
   "execution_count": 468,
   "id": "645fd85b",
   "metadata": {},
   "outputs": [],
   "source": [
    "#Imputing missing values in 'TotalVisits' with mean/median which is 3. \n",
    "Lead_data['TotalVisits'].fillna(Lead_data['TotalVisits'].median(),inplace=True)"
   ]
  },
  {
   "cell_type": "code",
   "execution_count": 469,
   "id": "f61874dc",
   "metadata": {},
   "outputs": [
    {
     "data": {
      "text/plain": [
       "count    9240.000000\n",
       "mean        3.438636\n",
       "std         4.819024\n",
       "min         0.000000\n",
       "25%         1.000000\n",
       "50%         3.000000\n",
       "75%         5.000000\n",
       "max       251.000000\n",
       "Name: TotalVisits, dtype: float64"
      ]
     },
     "execution_count": 469,
     "metadata": {},
     "output_type": "execute_result"
    }
   ],
   "source": [
    "#Checking for distribution\n",
    "Lead_data['TotalVisits'].describe()"
   ]
  },
  {
   "cell_type": "code",
   "execution_count": 470,
   "id": "8e7b4f51",
   "metadata": {},
   "outputs": [
    {
     "data": {
      "text/plain": [
       "count    9103.000000\n",
       "mean        2.362820\n",
       "std         2.161418\n",
       "min         0.000000\n",
       "25%         1.000000\n",
       "50%         2.000000\n",
       "75%         3.000000\n",
       "max        55.000000\n",
       "Name: Page Views Per Visit, dtype: float64"
      ]
     },
     "execution_count": 470,
     "metadata": {},
     "output_type": "execute_result"
    }
   ],
   "source": [
    "#Page Per Views is also a numerical column, hence we check the distribution first.\n",
    "Lead_data['Page Views Per Visit'].describe()"
   ]
  },
  {
   "cell_type": "code",
   "execution_count": 471,
   "id": "95892d9e",
   "metadata": {},
   "outputs": [],
   "source": [
    "#Imputing missing values with mean/median which is 2. \n",
    "Lead_data['Page Views Per Visit'].fillna(Lead_data['Page Views Per Visit'].median(),inplace=True)"
   ]
  },
  {
   "cell_type": "code",
   "execution_count": 472,
   "id": "952a3c09",
   "metadata": {},
   "outputs": [
    {
     "data": {
      "text/plain": [
       "count    9240.000000\n",
       "mean        2.357440\n",
       "std         2.145781\n",
       "min         0.000000\n",
       "25%         1.000000\n",
       "50%         2.000000\n",
       "75%         3.000000\n",
       "max        55.000000\n",
       "Name: Page Views Per Visit, dtype: float64"
      ]
     },
     "execution_count": 472,
     "metadata": {},
     "output_type": "execute_result"
    }
   ],
   "source": [
    "#Page Per Views is also a numerical column, hence we check the distribution first.\n",
    "Lead_data['Page Views Per Visit'].describe()"
   ]
  },
  {
   "cell_type": "code",
   "execution_count": 473,
   "id": "d9dca9fc",
   "metadata": {},
   "outputs": [
    {
     "data": {
      "text/plain": [
       "Prospect ID                               0.0\n",
       "Lead Number                               0.0\n",
       "Lead Origin                               0.0\n",
       "Lead Source                               0.0\n",
       "Converted                                 0.0\n",
       "TotalVisits                               0.0\n",
       "Total Time Spent on Website               0.0\n",
       "Page Views Per Visit                      0.0\n",
       "Last Activity                             0.0\n",
       "Specialization                            0.0\n",
       "What is your current occupation           0.0\n",
       "A free copy of Mastering The Interview    0.0\n",
       "dtype: float64"
      ]
     },
     "execution_count": 473,
     "metadata": {},
     "output_type": "execute_result"
    }
   ],
   "source": [
    "#Percentage of missing values in each column.\n",
    "round((Lead_data.isnull().sum()/len(Lead_data))*100, 2).sort_values(ascending = False)"
   ]
  },
  {
   "cell_type": "code",
   "execution_count": 474,
   "id": "041d320a",
   "metadata": {},
   "outputs": [
    {
     "name": "stdout",
     "output_type": "stream",
     "text": [
      "0       0\n",
      "1       0\n",
      "2       0\n",
      "3       0\n",
      "4       0\n",
      "       ..\n",
      "9235    0\n",
      "9236    0\n",
      "9237    0\n",
      "9238    0\n",
      "9239    0\n",
      "Length: 9240, dtype: int64\n"
     ]
    }
   ],
   "source": [
    "#Row-wise null count\n",
    "print(Lead_data.isnull().sum(axis=1))"
   ]
  },
  {
   "cell_type": "code",
   "execution_count": 475,
   "id": "bffe01cf",
   "metadata": {},
   "outputs": [
    {
     "data": {
      "text/plain": [
       "(9240, 12)"
      ]
     },
     "execution_count": 475,
     "metadata": {},
     "output_type": "execute_result"
    }
   ],
   "source": [
    "Lead_data.shape"
   ]
  },
  {
   "cell_type": "markdown",
   "id": "ee52e1d8",
   "metadata": {},
   "source": [
    "### Inference of Data Cleaning:\n",
    "<span Style=\"color:blue\">\n",
    "    \n",
    "- The 5 columns with only one variable in the columns were dropped.\n",
    "    \n",
    "- The six columns with null values above 30% were dropped.\n",
    "\n",
    "- Two columns with data skewness and three columns with null values above 30% were dropped.\n",
    "   \n",
    "- Specialization null values were replaced with new variable \"unknown\", Page Views per visit null values were replaced with google and numeric variables null values were replaced by median\n",
    "    \n",
    "- We are left with 12 columns after dropping the less relevant columns\n",
    "\n",
    "</span>"
   ]
  },
  {
   "cell_type": "markdown",
   "id": "e35a17cb",
   "metadata": {},
   "source": [
    "## Step 5: Outlier treatment\n"
   ]
  },
  {
   "cell_type": "markdown",
   "id": "d9956bdd",
   "metadata": {},
   "source": [
    "#### Step 5.1: To check the outliers at 25%,50%,75%,90%,95% and above before outlier treatment"
   ]
  },
  {
   "cell_type": "code",
   "execution_count": 476,
   "id": "ce0a4300",
   "metadata": {},
   "outputs": [
    {
     "data": {
      "text/html": [
       "<div>\n",
       "<style scoped>\n",
       "    .dataframe tbody tr th:only-of-type {\n",
       "        vertical-align: middle;\n",
       "    }\n",
       "\n",
       "    .dataframe tbody tr th {\n",
       "        vertical-align: top;\n",
       "    }\n",
       "\n",
       "    .dataframe thead th {\n",
       "        text-align: right;\n",
       "    }\n",
       "</style>\n",
       "<table border=\"1\" class=\"dataframe\">\n",
       "  <thead>\n",
       "    <tr style=\"text-align: right;\">\n",
       "      <th></th>\n",
       "      <th>Lead Number</th>\n",
       "      <th>Converted</th>\n",
       "      <th>TotalVisits</th>\n",
       "      <th>Total Time Spent on Website</th>\n",
       "      <th>Page Views Per Visit</th>\n",
       "    </tr>\n",
       "  </thead>\n",
       "  <tbody>\n",
       "    <tr>\n",
       "      <th>count</th>\n",
       "      <td>9240.000000</td>\n",
       "      <td>9240.000000</td>\n",
       "      <td>9240.000000</td>\n",
       "      <td>9240.000000</td>\n",
       "      <td>9240.000000</td>\n",
       "    </tr>\n",
       "    <tr>\n",
       "      <th>mean</th>\n",
       "      <td>617188.435606</td>\n",
       "      <td>0.385390</td>\n",
       "      <td>3.438636</td>\n",
       "      <td>487.698268</td>\n",
       "      <td>2.357440</td>\n",
       "    </tr>\n",
       "    <tr>\n",
       "      <th>std</th>\n",
       "      <td>23405.995698</td>\n",
       "      <td>0.486714</td>\n",
       "      <td>4.819024</td>\n",
       "      <td>548.021466</td>\n",
       "      <td>2.145781</td>\n",
       "    </tr>\n",
       "    <tr>\n",
       "      <th>min</th>\n",
       "      <td>579533.000000</td>\n",
       "      <td>0.000000</td>\n",
       "      <td>0.000000</td>\n",
       "      <td>0.000000</td>\n",
       "      <td>0.000000</td>\n",
       "    </tr>\n",
       "    <tr>\n",
       "      <th>25%</th>\n",
       "      <td>596484.500000</td>\n",
       "      <td>0.000000</td>\n",
       "      <td>1.000000</td>\n",
       "      <td>12.000000</td>\n",
       "      <td>1.000000</td>\n",
       "    </tr>\n",
       "    <tr>\n",
       "      <th>50%</th>\n",
       "      <td>615479.000000</td>\n",
       "      <td>0.000000</td>\n",
       "      <td>3.000000</td>\n",
       "      <td>248.000000</td>\n",
       "      <td>2.000000</td>\n",
       "    </tr>\n",
       "    <tr>\n",
       "      <th>75%</th>\n",
       "      <td>637387.250000</td>\n",
       "      <td>1.000000</td>\n",
       "      <td>5.000000</td>\n",
       "      <td>936.000000</td>\n",
       "      <td>3.000000</td>\n",
       "    </tr>\n",
       "    <tr>\n",
       "      <th>90%</th>\n",
       "      <td>650506.100000</td>\n",
       "      <td>1.000000</td>\n",
       "      <td>7.000000</td>\n",
       "      <td>1380.000000</td>\n",
       "      <td>5.000000</td>\n",
       "    </tr>\n",
       "    <tr>\n",
       "      <th>95%</th>\n",
       "      <td>655404.050000</td>\n",
       "      <td>1.000000</td>\n",
       "      <td>10.000000</td>\n",
       "      <td>1562.000000</td>\n",
       "      <td>6.000000</td>\n",
       "    </tr>\n",
       "    <tr>\n",
       "      <th>99%</th>\n",
       "      <td>659592.980000</td>\n",
       "      <td>1.000000</td>\n",
       "      <td>17.000000</td>\n",
       "      <td>1840.610000</td>\n",
       "      <td>9.000000</td>\n",
       "    </tr>\n",
       "    <tr>\n",
       "      <th>max</th>\n",
       "      <td>660737.000000</td>\n",
       "      <td>1.000000</td>\n",
       "      <td>251.000000</td>\n",
       "      <td>2272.000000</td>\n",
       "      <td>55.000000</td>\n",
       "    </tr>\n",
       "  </tbody>\n",
       "</table>\n",
       "</div>"
      ],
      "text/plain": [
       "         Lead Number    Converted  TotalVisits  Total Time Spent on Website  \\\n",
       "count    9240.000000  9240.000000  9240.000000                  9240.000000   \n",
       "mean   617188.435606     0.385390     3.438636                   487.698268   \n",
       "std     23405.995698     0.486714     4.819024                   548.021466   \n",
       "min    579533.000000     0.000000     0.000000                     0.000000   \n",
       "25%    596484.500000     0.000000     1.000000                    12.000000   \n",
       "50%    615479.000000     0.000000     3.000000                   248.000000   \n",
       "75%    637387.250000     1.000000     5.000000                   936.000000   \n",
       "90%    650506.100000     1.000000     7.000000                  1380.000000   \n",
       "95%    655404.050000     1.000000    10.000000                  1562.000000   \n",
       "99%    659592.980000     1.000000    17.000000                  1840.610000   \n",
       "max    660737.000000     1.000000   251.000000                  2272.000000   \n",
       "\n",
       "       Page Views Per Visit  \n",
       "count           9240.000000  \n",
       "mean               2.357440  \n",
       "std                2.145781  \n",
       "min                0.000000  \n",
       "25%                1.000000  \n",
       "50%                2.000000  \n",
       "75%                3.000000  \n",
       "90%                5.000000  \n",
       "95%                6.000000  \n",
       "99%                9.000000  \n",
       "max               55.000000  "
      ]
     },
     "execution_count": 476,
     "metadata": {},
     "output_type": "execute_result"
    }
   ],
   "source": [
    "Lead_data.describe(percentiles=[.25,.5,.75,.90,.95,.99])"
   ]
  },
  {
   "cell_type": "markdown",
   "id": "acf6204a",
   "metadata": {},
   "source": [
    "#### Step 5.2: To Check the outliers in boxplot"
   ]
  },
  {
   "cell_type": "code",
   "execution_count": 477,
   "id": "4830a48d",
   "metadata": {},
   "outputs": [
    {
     "data": {
      "image/png": "[encoded data removed]",
      "text/plain": [
       "<Figure size 1440x1800 with 3 Axes>"
      ]
     },
     "metadata": {
      "needs_background": "light"
     },
     "output_type": "display_data"
    }
   ],
   "source": [
    "plt.figure(figsize=(20, 25))\n",
    "plt.subplot(4,3,1)\n",
    "sns.boxplot(y = 'TotalVisits', palette='Set3', data = Lead_data)\n",
    "plt.subplot(4,3,2)\n",
    "sns.boxplot(y = 'Total Time Spent on Website', palette='Set3', data = Lead_data)\n",
    "plt.subplot(4,3,3)\n",
    "sns.boxplot(y = 'Page Views Per Visit', palette='Set3', data = Lead_data)\n",
    "plt.show()"
   ]
  },
  {
   "cell_type": "markdown",
   "id": "f05d0fc6",
   "metadata": {},
   "source": [
    "### Inference of Data Cleaning:\n",
    "<span Style=\"color:blue\">\n",
    "    \n",
    "- From the above, it can be seen that outlier exists in the columns \"Total Visits\" and \"Page Views Per Visit columns\".\n",
    "\n",
    "</span>"
   ]
  },
  {
   "cell_type": "markdown",
   "id": "47bb9eaa",
   "metadata": {},
   "source": [
    "#### Step 5.3: Removing values beyond 99% for \"Total visits\" and \"Page Views Per Visit\""
   ]
  },
  {
   "cell_type": "code",
   "execution_count": 478,
   "id": "0cd9b29d",
   "metadata": {},
   "outputs": [
    {
     "data": {
      "text/plain": [
       "count    9141.000000\n",
       "mean        3.179740\n",
       "std         2.913631\n",
       "min         0.000000\n",
       "25%         1.000000\n",
       "50%         3.000000\n",
       "75%         5.000000\n",
       "90%         7.000000\n",
       "95%         9.000000\n",
       "99%        13.000000\n",
       "max        16.000000\n",
       "Name: TotalVisits, dtype: float64"
      ]
     },
     "execution_count": 478,
     "metadata": {},
     "output_type": "execute_result"
    }
   ],
   "source": [
    "# Removing values beyond 99% for Total Visits\n",
    "\n",
    "quartile_total_visits = Lead_data['TotalVisits'].quantile(0.99)\n",
    "Lead_data = Lead_data[Lead_data[\"TotalVisits\"] < quartile_total_visits]\n",
    "Lead_data[\"TotalVisits\"].describe(percentiles=[.25,.5,.75,.90,.95,.99])"
   ]
  },
  {
   "cell_type": "code",
   "execution_count": 479,
   "id": "4d5d5a8b",
   "metadata": {},
   "outputs": [
    {
     "data": {
      "text/plain": [
       "count    9029.000000\n",
       "mean        2.226383\n",
       "std         1.823395\n",
       "min         0.000000\n",
       "25%         1.000000\n",
       "50%         2.000000\n",
       "75%         3.000000\n",
       "90%         5.000000\n",
       "95%         6.000000\n",
       "99%         7.000000\n",
       "max         8.000000\n",
       "Name: Page Views Per Visit, dtype: float64"
      ]
     },
     "execution_count": 479,
     "metadata": {},
     "output_type": "execute_result"
    }
   ],
   "source": [
    "# Removing values beyond 99% for Page Views Per Visit\n",
    "\n",
    "quartile_page_visits = Lead_data['Page Views Per Visit'].quantile(0.99)\n",
    "Lead_data = Lead_data[Lead_data['Page Views Per Visit'] < quartile_page_visits]\n",
    "Lead_data['Page Views Per Visit'].describe(percentiles=[.25,.5,.75,.90,.95,.99])"
   ]
  },
  {
   "cell_type": "markdown",
   "id": "4ca11c0f",
   "metadata": {},
   "source": [
    "#### Step 5.4 Checking outliers at 25%,50%,75%,90%,95% and above after outlier treatment"
   ]
  },
  {
   "cell_type": "code",
   "execution_count": 480,
   "id": "b4ebccb9",
   "metadata": {},
   "outputs": [
    {
     "data": {
      "text/html": [
       "<div>\n",
       "<style scoped>\n",
       "    .dataframe tbody tr th:only-of-type {\n",
       "        vertical-align: middle;\n",
       "    }\n",
       "\n",
       "    .dataframe tbody tr th {\n",
       "        vertical-align: top;\n",
       "    }\n",
       "\n",
       "    .dataframe thead th {\n",
       "        text-align: right;\n",
       "    }\n",
       "</style>\n",
       "<table border=\"1\" class=\"dataframe\">\n",
       "  <thead>\n",
       "    <tr style=\"text-align: right;\">\n",
       "      <th></th>\n",
       "      <th>Lead Number</th>\n",
       "      <th>Converted</th>\n",
       "      <th>TotalVisits</th>\n",
       "      <th>Total Time Spent on Website</th>\n",
       "      <th>Page Views Per Visit</th>\n",
       "    </tr>\n",
       "  </thead>\n",
       "  <tbody>\n",
       "    <tr>\n",
       "      <th>count</th>\n",
       "      <td>9029.000000</td>\n",
       "      <td>9029.000000</td>\n",
       "      <td>9029.000000</td>\n",
       "      <td>9029.000000</td>\n",
       "      <td>9029.000000</td>\n",
       "    </tr>\n",
       "    <tr>\n",
       "      <th>mean</th>\n",
       "      <td>617223.248422</td>\n",
       "      <td>0.385092</td>\n",
       "      <td>3.087164</td>\n",
       "      <td>483.133016</td>\n",
       "      <td>2.226383</td>\n",
       "    </tr>\n",
       "    <tr>\n",
       "      <th>std</th>\n",
       "      <td>23372.383121</td>\n",
       "      <td>0.486644</td>\n",
       "      <td>2.801244</td>\n",
       "      <td>547.420675</td>\n",
       "      <td>1.823395</td>\n",
       "    </tr>\n",
       "    <tr>\n",
       "      <th>min</th>\n",
       "      <td>579533.000000</td>\n",
       "      <td>0.000000</td>\n",
       "      <td>0.000000</td>\n",
       "      <td>0.000000</td>\n",
       "      <td>0.000000</td>\n",
       "    </tr>\n",
       "    <tr>\n",
       "      <th>25%</th>\n",
       "      <td>596530.000000</td>\n",
       "      <td>0.000000</td>\n",
       "      <td>1.000000</td>\n",
       "      <td>7.000000</td>\n",
       "      <td>1.000000</td>\n",
       "    </tr>\n",
       "    <tr>\n",
       "      <th>50%</th>\n",
       "      <td>615645.000000</td>\n",
       "      <td>0.000000</td>\n",
       "      <td>3.000000</td>\n",
       "      <td>245.000000</td>\n",
       "      <td>2.000000</td>\n",
       "    </tr>\n",
       "    <tr>\n",
       "      <th>75%</th>\n",
       "      <td>637360.000000</td>\n",
       "      <td>1.000000</td>\n",
       "      <td>4.000000</td>\n",
       "      <td>929.000000</td>\n",
       "      <td>3.000000</td>\n",
       "    </tr>\n",
       "    <tr>\n",
       "      <th>90%</th>\n",
       "      <td>650463.200000</td>\n",
       "      <td>1.000000</td>\n",
       "      <td>7.000000</td>\n",
       "      <td>1378.000000</td>\n",
       "      <td>5.000000</td>\n",
       "    </tr>\n",
       "    <tr>\n",
       "      <th>95%</th>\n",
       "      <td>655351.600000</td>\n",
       "      <td>1.000000</td>\n",
       "      <td>8.000000</td>\n",
       "      <td>1558.000000</td>\n",
       "      <td>6.000000</td>\n",
       "    </tr>\n",
       "    <tr>\n",
       "      <th>99%</th>\n",
       "      <td>659577.800000</td>\n",
       "      <td>1.000000</td>\n",
       "      <td>13.000000</td>\n",
       "      <td>1839.720000</td>\n",
       "      <td>7.000000</td>\n",
       "    </tr>\n",
       "    <tr>\n",
       "      <th>max</th>\n",
       "      <td>660737.000000</td>\n",
       "      <td>1.000000</td>\n",
       "      <td>16.000000</td>\n",
       "      <td>2272.000000</td>\n",
       "      <td>8.000000</td>\n",
       "    </tr>\n",
       "  </tbody>\n",
       "</table>\n",
       "</div>"
      ],
      "text/plain": [
       "         Lead Number    Converted  TotalVisits  Total Time Spent on Website  \\\n",
       "count    9029.000000  9029.000000  9029.000000                  9029.000000   \n",
       "mean   617223.248422     0.385092     3.087164                   483.133016   \n",
       "std     23372.383121     0.486644     2.801244                   547.420675   \n",
       "min    579533.000000     0.000000     0.000000                     0.000000   \n",
       "25%    596530.000000     0.000000     1.000000                     7.000000   \n",
       "50%    615645.000000     0.000000     3.000000                   245.000000   \n",
       "75%    637360.000000     1.000000     4.000000                   929.000000   \n",
       "90%    650463.200000     1.000000     7.000000                  1378.000000   \n",
       "95%    655351.600000     1.000000     8.000000                  1558.000000   \n",
       "99%    659577.800000     1.000000    13.000000                  1839.720000   \n",
       "max    660737.000000     1.000000    16.000000                  2272.000000   \n",
       "\n",
       "       Page Views Per Visit  \n",
       "count           9029.000000  \n",
       "mean               2.226383  \n",
       "std                1.823395  \n",
       "min                0.000000  \n",
       "25%                1.000000  \n",
       "50%                2.000000  \n",
       "75%                3.000000  \n",
       "90%                5.000000  \n",
       "95%                6.000000  \n",
       "99%                7.000000  \n",
       "max                8.000000  "
      ]
     },
     "execution_count": 480,
     "metadata": {},
     "output_type": "execute_result"
    }
   ],
   "source": [
    "Lead_data.describe(percentiles=[.25,.5,.75,.90,.95,.99])"
   ]
  },
  {
   "cell_type": "markdown",
   "id": "86df96e9",
   "metadata": {},
   "source": [
    "### Inference of Outlier Treatment:\n",
    "<span Style=\"color:blue\">\n",
    "    \n",
    "- After outlier treatment for the columns \"TotalVisits\" and \"Page Views Per Visit\" there is significant reduction in the maximum values and 99%.\n",
    "\n",
    "</span>"
   ]
  },
  {
   "cell_type": "code",
   "execution_count": 481,
   "id": "460ccf75",
   "metadata": {},
   "outputs": [
    {
     "name": "stdout",
     "output_type": "stream",
     "text": [
      "97.72\n"
     ]
    }
   ],
   "source": [
    "# Determine the percentage of data retained\n",
    "\n",
    "num_data = round(100*(len(Lead_data)/9240),2)\n",
    "print(num_data)"
   ]
  },
  {
   "cell_type": "markdown",
   "id": "b815b4d0",
   "metadata": {},
   "source": [
    "## Step 6: Exploratory Data Analysis\n"
   ]
  },
  {
   "cell_type": "markdown",
   "id": "5a0e83b7",
   "metadata": {},
   "source": [
    "### Step 6.1: Univariate Analysis"
   ]
  },
  {
   "cell_type": "markdown",
   "id": "5952c7f9",
   "metadata": {},
   "source": [
    "#### Step 6.1a: Catplot for \"Converted\" column"
   ]
  },
  {
   "cell_type": "code",
   "execution_count": 482,
   "id": "ebc7e4b5",
   "metadata": {},
   "outputs": [
    {
     "data": {
      "image/png": "[encoded data removed]",
      "text/plain": [
       "<Figure size 144x360 with 1 Axes>"
      ]
     },
     "metadata": {
      "needs_background": "light"
     },
     "output_type": "display_data"
    }
   ],
   "source": [
    "plot = sns.catplot(x=\"Converted\", kind=\"count\", data=Lead_data, palette=\"Set2\", aspect= 0.4);\n",
    "\n",
    "plt.title('Converted', fontsize = 14)\n",
    "plt.xlabel(\"Converted\", fontsize = 12)\n",
    "plt.ylabel(\"Count\", fontsize = 12)\n",
    "plt.show()"
   ]
  },
  {
   "cell_type": "markdown",
   "id": "e970cbb3",
   "metadata": {},
   "source": [
    "### Inference of \"Converted\" catplot:\n",
    "<span Style=\"color:blue\">\n",
    "    \n",
    "- From the above graph we can see that there is conversion rate of around 39%.\n",
    "\n",
    "</span>"
   ]
  },
  {
   "cell_type": "markdown",
   "id": "b56a9628",
   "metadata": {},
   "source": [
    "#### Step 6.1b: Univariate analysis for numerical variables"
   ]
  },
  {
   "cell_type": "code",
   "execution_count": 483,
   "id": "1e8ec995",
   "metadata": {},
   "outputs": [
    {
     "data": {
      "image/png": "[encoded data removed]",
      "text/plain": [
       "<Figure size 1440x1440 with 3 Axes>"
      ]
     },
     "metadata": {
      "needs_background": "light"
     },
     "output_type": "display_data"
    }
   ],
   "source": [
    "num_cols= ['TotalVisits','Total Time Spent on Website','Page Views Per Visit']\n",
    "sns.set_palette(\"dark\")\n",
    "plt.figure(figsize = (20, 20))\n",
    "\n",
    "for col in enumerate(num_cols):\n",
    "    plt.subplot(4, 2, col[0]+1)\n",
    "    plt.title(col[1])\n",
    "    sns.distplot(Lead_data[col[1]], hist =False)\n",
    "    plt.tight_layout()\n",
    "    plt.xticks(rotation = 90)"
   ]
  },
  {
   "cell_type": "markdown",
   "id": "3001d121",
   "metadata": {},
   "source": [
    "### Inference of \"Converted\" catplot:\n",
    "<span Style=\"color:blue\">\n",
    "    \n",
    "- The max probability for TotalVisits is found to be around 15-20. It increases initially but decreases further.\n",
    "- The max probability for PageViewsPerVisit is found to be around to be 3-5\n",
    "- The probability of time spent is found to be high for time between 0-300 seconds and decreases further.\n",
    "\n",
    "</span>"
   ]
  },
  {
   "cell_type": "markdown",
   "id": "8bead2d8",
   "metadata": {},
   "source": [
    "### Step 6.2: Bivariate Analysis"
   ]
  },
  {
   "cell_type": "markdown",
   "id": "454a1502",
   "metadata": {},
   "source": [
    "#### Step 6.2a: To plot catplot for \"Lead Source Vs Converted\""
   ]
  },
  {
   "cell_type": "code",
   "execution_count": 484,
   "id": "941af4f6",
   "metadata": {},
   "outputs": [
    {
     "data": {
      "image/png": "[encoded data removed]",
      "text/plain": [
       "<Figure size 1319.75x360 with 1 Axes>"
      ]
     },
     "metadata": {
      "needs_background": "light"
     },
     "output_type": "display_data"
    }
   ],
   "source": [
    "plot = sns.catplot(x=\"Lead Source\", hue = \"Converted\", kind=\"count\", data=Lead_data, palette=\"Set1\", aspect = 3.5);\n",
    "\n",
    "plt.title('Lead Source Vs Converted', fontsize = 14)\n",
    "plt.xlabel(\"Lead Source\", fontsize = 12)\n",
    "plt.ylabel(\"Count\", fontsize = 12)\n",
    "plt.xticks(rotation=90)\n",
    "plt.show()"
   ]
  },
  {
   "cell_type": "markdown",
   "id": "7bd1ca19",
   "metadata": {},
   "source": [
    "### Inference of \"Lead Origin Vs Converted\" catplot:\n",
    "<span Style=\"color:blue\">\n",
    "    \n",
    "- Majority of conversion in Lead Origin are from google followed by Direct Traffic.\n",
    "\n",
    "</span>\n"
   ]
  },
  {
   "cell_type": "markdown",
   "id": "79c5930d",
   "metadata": {},
   "source": [
    "#### Step 6.2b: To catplot \"A free copy of Mastering the Interview Vs Converted\""
   ]
  },
  {
   "cell_type": "code",
   "execution_count": 485,
   "id": "56a42441",
   "metadata": {},
   "outputs": [
    {
     "data": {
      "image/png": "[encoded data removed]",
      "text/plain": [
       "<Figure size 311.75x360 with 1 Axes>"
      ]
     },
     "metadata": {
      "needs_background": "light"
     },
     "output_type": "display_data"
    }
   ],
   "source": [
    "plot = sns.catplot(x=\"A free copy of Mastering The Interview\", hue = \"Converted\", kind=\"count\", data=Lead_data, palette=\"Set1\",\n",
    "                   aspect = 0.7);\n",
    "\n",
    "plt.title('Mastering Interview Copy Vs Converted', fontsize = 14)\n",
    "plt.xlabel(\"Mastering Interview Copy\", fontsize = 12)\n",
    "plt.ylabel(\"Count\", fontsize = 12)\n",
    "plt.show()"
   ]
  },
  {
   "cell_type": "markdown",
   "id": "68bacf7c",
   "metadata": {},
   "source": [
    "### Inference of \"A free copy of Mastering Interview Vs Converted\" catplot:\n",
    "<span Style=\"color:blue\">\n",
    "    \n",
    "- Conversions have taken place more in those who have not opted for a free mastering interview copy.\n",
    "\n",
    "</span>"
   ]
  },
  {
   "cell_type": "markdown",
   "id": "44175c13",
   "metadata": {},
   "source": [
    "#### Step 6.2c: To plot barplot for numerical variables"
   ]
  },
  {
   "cell_type": "code",
   "execution_count": 486,
   "id": "a806c266",
   "metadata": {},
   "outputs": [
    {
     "data": {
      "image/png": "[encoded data removed]",
      "text/plain": [
       "<Figure size 1440x1440 with 3 Axes>"
      ]
     },
     "metadata": {
      "needs_background": "light"
     },
     "output_type": "display_data"
    }
   ],
   "source": [
    "plt.figure(figsize=(20,20))\n",
    "plt.subplot(4,3,1)\n",
    "sns.barplot(y = 'TotalVisits', x='Converted', palette='Set2', data = Lead_data)\n",
    "plt.subplot(4,3,2)\n",
    "sns.barplot(y = 'Total Time Spent on Website', x='Converted', palette='Set2', data = Lead_data)\n",
    "plt.subplot(4,3,3)\n",
    "sns.barplot(y = 'Page Views Per Visit', x='Converted', palette='Set2', data = Lead_data)\n",
    "plt.show()"
   ]
  },
  {
   "cell_type": "markdown",
   "id": "758d18c4",
   "metadata": {},
   "source": [
    "### Inference of \"numerical variables Vs Converted\" catplot:\n",
    "<span Style=\"color:blue\">\n",
    "    \n",
    "- Majority of conversion are seen in all three numerical variables.\n",
    "\n",
    "</span>"
   ]
  },
  {
   "cell_type": "markdown",
   "id": "59e875d1",
   "metadata": {},
   "source": [
    "#### Step 6.2d: Categorical variables "
   ]
  },
  {
   "cell_type": "code",
   "execution_count": 487,
   "id": "2c9bb1f2",
   "metadata": {},
   "outputs": [
    {
     "data": {
      "image/png": "[encoded data removed]",
      "text/plain": [
       "<Figure size 1080x1080 with 6 Axes>"
      ]
     },
     "metadata": {
      "needs_background": "light"
     },
     "output_type": "display_data"
    }
   ],
   "source": [
    "Required_columns= ['Lead Origin','Last Activity', 'Lead Source', 'Specialization', 'What is your current occupation', 'A free copy of Mastering The Interview']\n",
    "sns.set_palette(\"bright\")\n",
    "\n",
    "plt.figure(figsize = (15, 15))\n",
    "\n",
    "for col in enumerate(Required_columns):\n",
    "    plt.subplot(3, 2, col[0]+1)\n",
    "    plt.title(col[1])\n",
    "    ax = sns.countplot(data = Lead_data, x=col[1], hue='Converted') \n",
    "    plt.xticks(rotation = 90)\n",
    "    plt.tight_layout()"
   ]
  },
  {
   "cell_type": "markdown",
   "id": "e6ad66e6",
   "metadata": {},
   "source": [
    "### Inference for Univariate analysis for Categorical data\n",
    "<span Style=\"color:blue\"> \n",
    "    \n",
    "- The percentage of Converted people is found to be greater for Landing Page Submission. We can also see that if Lead source is Add Form, the ratio of lead conversion is very high(almost not converted is very less).\n",
    "\n",
    "- Google is found to be the important source for Lead Conversion \n",
    "\n",
    "- We need to target people via Emails and SMS as it is found that the probability of response in case Converted leads is found to be higher. \n",
    "\n",
    "- We cannot infer much about conversion rate from specialisation as people who do not select any specialisation can also be converted to a lead.But the ratio of non converted leads is higher than converted ones if they didn't choose specialisation.\n",
    "\n",
    "- It is clearly visible from the graph that we need to target the Unemployed and Working Professional to get a higher conversion rate. The ratio of conversion rate is higher than not converted people for working professionals. \n",
    "\n",
    "- People usually do not subscribe for a free copy of mastering the interview.\n",
    "    \n",
    "</span>"
   ]
  },
  {
   "cell_type": "markdown",
   "id": "7c0b4b4a",
   "metadata": {},
   "source": [
    "#### Step 6.2n: Heat correlation map for numerical variables in lead score data"
   ]
  },
  {
   "cell_type": "code",
   "execution_count": 488,
   "id": "90cba208",
   "metadata": {},
   "outputs": [
    {
     "data": {
      "image/png": "[encoded data removed]",
      "text/plain": [
       "<Figure size 720x360 with 2 Axes>"
      ]
     },
     "metadata": {
      "needs_background": "light"
     },
     "output_type": "display_data"
    }
   ],
   "source": [
    "# To check the correlation among varibles\n",
    "plt.figure(figsize=(10,5))\n",
    "sns.heatmap(Lead_data.corr())\n",
    "plt.show()"
   ]
  },
  {
   "cell_type": "markdown",
   "id": "da54a572",
   "metadata": {},
   "source": [
    "### Inference of \"numerical variables \" Heat correlation map:\n",
    "<span Style=\"color:blue\">\n",
    "    \n",
    "- High correlation is shown in Total visits vs Page views per visit.\n",
    "\n",
    "</span>"
   ]
  },
  {
   "cell_type": "markdown",
   "id": "a39033cd",
   "metadata": {},
   "source": [
    "## Step 7: Data Preparation - Creating Dummies\n"
   ]
  },
  {
   "cell_type": "markdown",
   "id": "f340a56b",
   "metadata": {},
   "source": [
    "#### Step 7.1: Creating a varlist and mapping 1 for yes and 0 for no"
   ]
  },
  {
   "cell_type": "code",
   "execution_count": 489,
   "id": "718bc5a3",
   "metadata": {},
   "outputs": [],
   "source": [
    "varlist =['A free copy of Mastering The Interview']\n",
    "def binary_map(x):\n",
    "  return x.map({'Yes' : 1, \"No\": 0})\n",
    "\n",
    "Lead_data[varlist] = Lead_data[varlist].apply(binary_map)"
   ]
  },
  {
   "cell_type": "code",
   "execution_count": 490,
   "id": "ae1e705d",
   "metadata": {},
   "outputs": [
    {
     "data": {
      "text/plain": [
       "count    9029.000000\n",
       "mean        0.305682\n",
       "std         0.460721\n",
       "min         0.000000\n",
       "25%         0.000000\n",
       "50%         0.000000\n",
       "75%         1.000000\n",
       "max         1.000000\n",
       "Name: A free copy of Mastering The Interview, dtype: float64"
      ]
     },
     "execution_count": 490,
     "metadata": {},
     "output_type": "execute_result"
    }
   ],
   "source": [
    "Lead_data['A free copy of Mastering The Interview'].describe()"
   ]
  },
  {
   "cell_type": "code",
   "execution_count": 491,
   "id": "a89577d7",
   "metadata": {},
   "outputs": [
    {
     "data": {
      "text/plain": [
       "(9029, 12)"
      ]
     },
     "execution_count": 491,
     "metadata": {},
     "output_type": "execute_result"
    }
   ],
   "source": [
    "Lead_data.shape"
   ]
  },
  {
   "cell_type": "markdown",
   "id": "27bc441d",
   "metadata": {},
   "source": [
    "#### step 7.2: Creating dummies for the categorical variables and dropping the first."
   ]
  },
  {
   "cell_type": "code",
   "execution_count": 492,
   "id": "0162bf41",
   "metadata": {},
   "outputs": [
    {
     "data": {
      "text/html": [
       "<div>\n",
       "<style scoped>\n",
       "    .dataframe tbody tr th:only-of-type {\n",
       "        vertical-align: middle;\n",
       "    }\n",
       "\n",
       "    .dataframe tbody tr th {\n",
       "        vertical-align: top;\n",
       "    }\n",
       "\n",
       "    .dataframe thead th {\n",
       "        text-align: right;\n",
       "    }\n",
       "</style>\n",
       "<table border=\"1\" class=\"dataframe\">\n",
       "  <thead>\n",
       "    <tr style=\"text-align: right;\">\n",
       "      <th></th>\n",
       "      <th>Prospect ID</th>\n",
       "      <th>Lead Number</th>\n",
       "      <th>Lead Origin</th>\n",
       "      <th>Lead Source</th>\n",
       "      <th>Converted</th>\n",
       "      <th>TotalVisits</th>\n",
       "      <th>Total Time Spent on Website</th>\n",
       "      <th>Page Views Per Visit</th>\n",
       "      <th>Last Activity</th>\n",
       "      <th>Specialization</th>\n",
       "      <th>What is your current occupation</th>\n",
       "      <th>A free copy of Mastering The Interview</th>\n",
       "      <th>Lead Origin_Landing Page Submission</th>\n",
       "      <th>Lead Origin_Lead Add Form</th>\n",
       "      <th>Lead Origin_Others</th>\n",
       "      <th>Last Activity_Email Bounced</th>\n",
       "      <th>Last Activity_Email Link Clicked</th>\n",
       "      <th>Last Activity_Email Opened</th>\n",
       "      <th>Last Activity_Olark Chat Conversation</th>\n",
       "      <th>Last Activity_Others</th>\n",
       "      <th>Last Activity_Page Visited on Website</th>\n",
       "      <th>Last Activity_SMS Sent</th>\n",
       "      <th>Lead Source_Google</th>\n",
       "      <th>Lead Source_Olark Chat</th>\n",
       "      <th>Lead Source_Organic Search</th>\n",
       "      <th>Lead Source_Others</th>\n",
       "      <th>Lead Source_Reference</th>\n",
       "      <th>What is your current occupation_Student</th>\n",
       "      <th>What is your current occupation_Unemployed</th>\n",
       "      <th>What is your current occupation_Working Professional</th>\n",
       "      <th>Specialization_Business Administration</th>\n",
       "      <th>Specialization_Finance Management</th>\n",
       "      <th>Specialization_Healthcare Management</th>\n",
       "      <th>Specialization_Human Resource Management</th>\n",
       "      <th>Specialization_IT Projects Management</th>\n",
       "      <th>Specialization_International Business</th>\n",
       "      <th>Specialization_Marketing Management</th>\n",
       "      <th>Specialization_Media and Advertising</th>\n",
       "      <th>Specialization_Not Specified</th>\n",
       "      <th>Specialization_Operations Management</th>\n",
       "      <th>Specialization_Others</th>\n",
       "      <th>Specialization_Supply Chain Management</th>\n",
       "      <th>Specialization_Travel and Tourism</th>\n",
       "    </tr>\n",
       "  </thead>\n",
       "  <tbody>\n",
       "    <tr>\n",
       "      <th>0</th>\n",
       "      <td>7927b2df-8bba-4d29-b9a2-b6e0beafe620</td>\n",
       "      <td>660737</td>\n",
       "      <td>API</td>\n",
       "      <td>Olark Chat</td>\n",
       "      <td>0</td>\n",
       "      <td>0.0</td>\n",
       "      <td>0</td>\n",
       "      <td>0.0</td>\n",
       "      <td>Page Visited on Website</td>\n",
       "      <td>Not Specified</td>\n",
       "      <td>Unemployed</td>\n",
       "      <td>0</td>\n",
       "      <td>0</td>\n",
       "      <td>0</td>\n",
       "      <td>0</td>\n",
       "      <td>0</td>\n",
       "      <td>0</td>\n",
       "      <td>0</td>\n",
       "      <td>0</td>\n",
       "      <td>0</td>\n",
       "      <td>1</td>\n",
       "      <td>0</td>\n",
       "      <td>0</td>\n",
       "      <td>1</td>\n",
       "      <td>0</td>\n",
       "      <td>0</td>\n",
       "      <td>0</td>\n",
       "      <td>0</td>\n",
       "      <td>1</td>\n",
       "      <td>0</td>\n",
       "      <td>0</td>\n",
       "      <td>0</td>\n",
       "      <td>0</td>\n",
       "      <td>0</td>\n",
       "      <td>0</td>\n",
       "      <td>0</td>\n",
       "      <td>0</td>\n",
       "      <td>0</td>\n",
       "      <td>1</td>\n",
       "      <td>0</td>\n",
       "      <td>0</td>\n",
       "      <td>0</td>\n",
       "      <td>0</td>\n",
       "    </tr>\n",
       "    <tr>\n",
       "      <th>1</th>\n",
       "      <td>2a272436-5132-4136-86fa-dcc88c88f482</td>\n",
       "      <td>660728</td>\n",
       "      <td>API</td>\n",
       "      <td>Organic Search</td>\n",
       "      <td>0</td>\n",
       "      <td>5.0</td>\n",
       "      <td>674</td>\n",
       "      <td>2.5</td>\n",
       "      <td>Email Opened</td>\n",
       "      <td>Not Specified</td>\n",
       "      <td>Unemployed</td>\n",
       "      <td>0</td>\n",
       "      <td>0</td>\n",
       "      <td>0</td>\n",
       "      <td>0</td>\n",
       "      <td>0</td>\n",
       "      <td>0</td>\n",
       "      <td>1</td>\n",
       "      <td>0</td>\n",
       "      <td>0</td>\n",
       "      <td>0</td>\n",
       "      <td>0</td>\n",
       "      <td>0</td>\n",
       "      <td>0</td>\n",
       "      <td>1</td>\n",
       "      <td>0</td>\n",
       "      <td>0</td>\n",
       "      <td>0</td>\n",
       "      <td>1</td>\n",
       "      <td>0</td>\n",
       "      <td>0</td>\n",
       "      <td>0</td>\n",
       "      <td>0</td>\n",
       "      <td>0</td>\n",
       "      <td>0</td>\n",
       "      <td>0</td>\n",
       "      <td>0</td>\n",
       "      <td>0</td>\n",
       "      <td>1</td>\n",
       "      <td>0</td>\n",
       "      <td>0</td>\n",
       "      <td>0</td>\n",
       "      <td>0</td>\n",
       "    </tr>\n",
       "    <tr>\n",
       "      <th>2</th>\n",
       "      <td>8cc8c611-a219-4f35-ad23-fdfd2656bd8a</td>\n",
       "      <td>660727</td>\n",
       "      <td>Landing Page Submission</td>\n",
       "      <td>Direct Traffic</td>\n",
       "      <td>1</td>\n",
       "      <td>2.0</td>\n",
       "      <td>1532</td>\n",
       "      <td>2.0</td>\n",
       "      <td>Email Opened</td>\n",
       "      <td>Business Administration</td>\n",
       "      <td>Student</td>\n",
       "      <td>1</td>\n",
       "      <td>1</td>\n",
       "      <td>0</td>\n",
       "      <td>0</td>\n",
       "      <td>0</td>\n",
       "      <td>0</td>\n",
       "      <td>1</td>\n",
       "      <td>0</td>\n",
       "      <td>0</td>\n",
       "      <td>0</td>\n",
       "      <td>0</td>\n",
       "      <td>0</td>\n",
       "      <td>0</td>\n",
       "      <td>0</td>\n",
       "      <td>0</td>\n",
       "      <td>0</td>\n",
       "      <td>1</td>\n",
       "      <td>0</td>\n",
       "      <td>0</td>\n",
       "      <td>1</td>\n",
       "      <td>0</td>\n",
       "      <td>0</td>\n",
       "      <td>0</td>\n",
       "      <td>0</td>\n",
       "      <td>0</td>\n",
       "      <td>0</td>\n",
       "      <td>0</td>\n",
       "      <td>0</td>\n",
       "      <td>0</td>\n",
       "      <td>0</td>\n",
       "      <td>0</td>\n",
       "      <td>0</td>\n",
       "    </tr>\n",
       "    <tr>\n",
       "      <th>3</th>\n",
       "      <td>0cc2df48-7cf4-4e39-9de9-19797f9b38cc</td>\n",
       "      <td>660719</td>\n",
       "      <td>Landing Page Submission</td>\n",
       "      <td>Direct Traffic</td>\n",
       "      <td>0</td>\n",
       "      <td>1.0</td>\n",
       "      <td>305</td>\n",
       "      <td>1.0</td>\n",
       "      <td>Others</td>\n",
       "      <td>Media and Advertising</td>\n",
       "      <td>Unemployed</td>\n",
       "      <td>0</td>\n",
       "      <td>1</td>\n",
       "      <td>0</td>\n",
       "      <td>0</td>\n",
       "      <td>0</td>\n",
       "      <td>0</td>\n",
       "      <td>0</td>\n",
       "      <td>0</td>\n",
       "      <td>1</td>\n",
       "      <td>0</td>\n",
       "      <td>0</td>\n",
       "      <td>0</td>\n",
       "      <td>0</td>\n",
       "      <td>0</td>\n",
       "      <td>0</td>\n",
       "      <td>0</td>\n",
       "      <td>0</td>\n",
       "      <td>1</td>\n",
       "      <td>0</td>\n",
       "      <td>0</td>\n",
       "      <td>0</td>\n",
       "      <td>0</td>\n",
       "      <td>0</td>\n",
       "      <td>0</td>\n",
       "      <td>0</td>\n",
       "      <td>0</td>\n",
       "      <td>1</td>\n",
       "      <td>0</td>\n",
       "      <td>0</td>\n",
       "      <td>0</td>\n",
       "      <td>0</td>\n",
       "      <td>0</td>\n",
       "    </tr>\n",
       "    <tr>\n",
       "      <th>4</th>\n",
       "      <td>3256f628-e534-4826-9d63-4a8b88782852</td>\n",
       "      <td>660681</td>\n",
       "      <td>Landing Page Submission</td>\n",
       "      <td>Google</td>\n",
       "      <td>1</td>\n",
       "      <td>2.0</td>\n",
       "      <td>1428</td>\n",
       "      <td>1.0</td>\n",
       "      <td>Converted to Lead</td>\n",
       "      <td>Not Specified</td>\n",
       "      <td>Unemployed</td>\n",
       "      <td>0</td>\n",
       "      <td>1</td>\n",
       "      <td>0</td>\n",
       "      <td>0</td>\n",
       "      <td>0</td>\n",
       "      <td>0</td>\n",
       "      <td>0</td>\n",
       "      <td>0</td>\n",
       "      <td>0</td>\n",
       "      <td>0</td>\n",
       "      <td>0</td>\n",
       "      <td>1</td>\n",
       "      <td>0</td>\n",
       "      <td>0</td>\n",
       "      <td>0</td>\n",
       "      <td>0</td>\n",
       "      <td>0</td>\n",
       "      <td>1</td>\n",
       "      <td>0</td>\n",
       "      <td>0</td>\n",
       "      <td>0</td>\n",
       "      <td>0</td>\n",
       "      <td>0</td>\n",
       "      <td>0</td>\n",
       "      <td>0</td>\n",
       "      <td>0</td>\n",
       "      <td>0</td>\n",
       "      <td>1</td>\n",
       "      <td>0</td>\n",
       "      <td>0</td>\n",
       "      <td>0</td>\n",
       "      <td>0</td>\n",
       "    </tr>\n",
       "  </tbody>\n",
       "</table>\n",
       "</div>"
      ],
      "text/plain": [
       "                            Prospect ID  Lead Number              Lead Origin  \\\n",
       "0  7927b2df-8bba-4d29-b9a2-b6e0beafe620       660737                      API   \n",
       "1  2a272436-5132-4136-86fa-dcc88c88f482       660728                      API   \n",
       "2  8cc8c611-a219-4f35-ad23-fdfd2656bd8a       660727  Landing Page Submission   \n",
       "3  0cc2df48-7cf4-4e39-9de9-19797f9b38cc       660719  Landing Page Submission   \n",
       "4  3256f628-e534-4826-9d63-4a8b88782852       660681  Landing Page Submission   \n",
       "\n",
       "      Lead Source  Converted  TotalVisits  Total Time Spent on Website  \\\n",
       "0      Olark Chat          0          0.0                            0   \n",
       "1  Organic Search          0          5.0                          674   \n",
       "2  Direct Traffic          1          2.0                         1532   \n",
       "3  Direct Traffic          0          1.0                          305   \n",
       "4          Google          1          2.0                         1428   \n",
       "\n",
       "   Page Views Per Visit            Last Activity           Specialization  \\\n",
       "0                   0.0  Page Visited on Website            Not Specified   \n",
       "1                   2.5             Email Opened            Not Specified   \n",
       "2                   2.0             Email Opened  Business Administration   \n",
       "3                   1.0                   Others    Media and Advertising   \n",
       "4                   1.0        Converted to Lead            Not Specified   \n",
       "\n",
       "  What is your current occupation  A free copy of Mastering The Interview  \\\n",
       "0                      Unemployed                                       0   \n",
       "1                      Unemployed                                       0   \n",
       "2                         Student                                       1   \n",
       "3                      Unemployed                                       0   \n",
       "4                      Unemployed                                       0   \n",
       "\n",
       "   Lead Origin_Landing Page Submission  Lead Origin_Lead Add Form  \\\n",
       "0                                    0                          0   \n",
       "1                                    0                          0   \n",
       "2                                    1                          0   \n",
       "3                                    1                          0   \n",
       "4                                    1                          0   \n",
       "\n",
       "   Lead Origin_Others  Last Activity_Email Bounced  \\\n",
       "0                   0                            0   \n",
       "1                   0                            0   \n",
       "2                   0                            0   \n",
       "3                   0                            0   \n",
       "4                   0                            0   \n",
       "\n",
       "   Last Activity_Email Link Clicked  Last Activity_Email Opened  \\\n",
       "0                                 0                           0   \n",
       "1                                 0                           1   \n",
       "2                                 0                           1   \n",
       "3                                 0                           0   \n",
       "4                                 0                           0   \n",
       "\n",
       "   Last Activity_Olark Chat Conversation  Last Activity_Others  \\\n",
       "0                                      0                     0   \n",
       "1                                      0                     0   \n",
       "2                                      0                     0   \n",
       "3                                      0                     1   \n",
       "4                                      0                     0   \n",
       "\n",
       "   Last Activity_Page Visited on Website  Last Activity_SMS Sent  \\\n",
       "0                                      1                       0   \n",
       "1                                      0                       0   \n",
       "2                                      0                       0   \n",
       "3                                      0                       0   \n",
       "4                                      0                       0   \n",
       "\n",
       "   Lead Source_Google  Lead Source_Olark Chat  Lead Source_Organic Search  \\\n",
       "0                   0                       1                           0   \n",
       "1                   0                       0                           1   \n",
       "2                   0                       0                           0   \n",
       "3                   0                       0                           0   \n",
       "4                   1                       0                           0   \n",
       "\n",
       "   Lead Source_Others  Lead Source_Reference  \\\n",
       "0                   0                      0   \n",
       "1                   0                      0   \n",
       "2                   0                      0   \n",
       "3                   0                      0   \n",
       "4                   0                      0   \n",
       "\n",
       "   What is your current occupation_Student  \\\n",
       "0                                        0   \n",
       "1                                        0   \n",
       "2                                        1   \n",
       "3                                        0   \n",
       "4                                        0   \n",
       "\n",
       "   What is your current occupation_Unemployed  \\\n",
       "0                                           1   \n",
       "1                                           1   \n",
       "2                                           0   \n",
       "3                                           1   \n",
       "4                                           1   \n",
       "\n",
       "   What is your current occupation_Working Professional  \\\n",
       "0                                                  0      \n",
       "1                                                  0      \n",
       "2                                                  0      \n",
       "3                                                  0      \n",
       "4                                                  0      \n",
       "\n",
       "   Specialization_Business Administration  Specialization_Finance Management  \\\n",
       "0                                       0                                  0   \n",
       "1                                       0                                  0   \n",
       "2                                       1                                  0   \n",
       "3                                       0                                  0   \n",
       "4                                       0                                  0   \n",
       "\n",
       "   Specialization_Healthcare Management  \\\n",
       "0                                     0   \n",
       "1                                     0   \n",
       "2                                     0   \n",
       "3                                     0   \n",
       "4                                     0   \n",
       "\n",
       "   Specialization_Human Resource Management  \\\n",
       "0                                         0   \n",
       "1                                         0   \n",
       "2                                         0   \n",
       "3                                         0   \n",
       "4                                         0   \n",
       "\n",
       "   Specialization_IT Projects Management  \\\n",
       "0                                      0   \n",
       "1                                      0   \n",
       "2                                      0   \n",
       "3                                      0   \n",
       "4                                      0   \n",
       "\n",
       "   Specialization_International Business  Specialization_Marketing Management  \\\n",
       "0                                      0                                    0   \n",
       "1                                      0                                    0   \n",
       "2                                      0                                    0   \n",
       "3                                      0                                    0   \n",
       "4                                      0                                    0   \n",
       "\n",
       "   Specialization_Media and Advertising  Specialization_Not Specified  \\\n",
       "0                                     0                             1   \n",
       "1                                     0                             1   \n",
       "2                                     0                             0   \n",
       "3                                     1                             0   \n",
       "4                                     0                             1   \n",
       "\n",
       "   Specialization_Operations Management  Specialization_Others  \\\n",
       "0                                     0                      0   \n",
       "1                                     0                      0   \n",
       "2                                     0                      0   \n",
       "3                                     0                      0   \n",
       "4                                     0                      0   \n",
       "\n",
       "   Specialization_Supply Chain Management  Specialization_Travel and Tourism  \n",
       "0                                       0                                  0  \n",
       "1                                       0                                  0  \n",
       "2                                       0                                  0  \n",
       "3                                       0                                  0  \n",
       "4                                       0                                  0  "
      ]
     },
     "execution_count": 492,
     "metadata": {},
     "output_type": "execute_result"
    }
   ],
   "source": [
    "dummy_var_list=['Lead Origin', 'Last Activity', 'Lead Source', 'What is your current occupation', 'Specialization']\n",
    "\n",
    "# Creating a dummy variable for some of the categorical variables and dropping the first one.\n",
    "dummy1 = pd.get_dummies(Lead_data[dummy_var_list], drop_first=True)\n",
    "\n",
    "# Adding the results to the master dataframe\n",
    "Lead_data = pd.concat([Lead_data, dummy1], axis=1)\n",
    "\n",
    "Lead_data.head()"
   ]
  },
  {
   "cell_type": "markdown",
   "id": "2088c824",
   "metadata": {},
   "source": [
    "#### Step 7.3: To remove the unncessary columns Prospect ID and Lead Number"
   ]
  },
  {
   "cell_type": "code",
   "execution_count": 493,
   "id": "ee915070",
   "metadata": {},
   "outputs": [
    {
     "data": {
      "text/plain": [
       "(9029, 41)"
      ]
     },
     "execution_count": 493,
     "metadata": {},
     "output_type": "execute_result"
    }
   ],
   "source": [
    "# Removing Id values since they are unique for everyone\n",
    "Lead_data = Lead_data.drop(['Prospect ID','Lead Number'],1)\n",
    "Lead_data.shape"
   ]
  },
  {
   "cell_type": "markdown",
   "id": "8ea5088e",
   "metadata": {},
   "source": [
    "#### Step 7.4: Dropping the dummy var list"
   ]
  },
  {
   "cell_type": "code",
   "execution_count": 494,
   "id": "a5ff51ff",
   "metadata": {
    "scrolled": true
   },
   "outputs": [
    {
     "data": {
      "text/plain": [
       "(9029, 36)"
      ]
     },
     "execution_count": 494,
     "metadata": {},
     "output_type": "execute_result"
    }
   ],
   "source": [
    "Lead_data = Lead_data.drop(dummy_var_list,1)\n",
    "Lead_data.shape"
   ]
  },
  {
   "cell_type": "code",
   "execution_count": 495,
   "id": "d953d404",
   "metadata": {},
   "outputs": [
    {
     "data": {
      "image/png": "[encoded data removed]",
      "text/plain": [
       "<Figure size 720x360 with 2 Axes>"
      ]
     },
     "metadata": {
      "needs_background": "light"
     },
     "output_type": "display_data"
    }
   ],
   "source": [
    "# To check the correlation among varibles\n",
    "plt.figure(figsize=(10,5))\n",
    "sns.heatmap(Lead_data.corr())\n",
    "plt.show()"
   ]
  },
  {
   "cell_type": "markdown",
   "id": "4ae4890a",
   "metadata": {},
   "source": [
    "### Inference of Dummy Creation:\n",
    "<span Style=\"color:blue\">\n",
    "    \n",
    "- Dummy columns have been created and the original columns along with few columns with no significance have been dropped.\n",
    "\n",
    "- Heat correlation map is difficult to visualize due to large columns.\n",
    "\n",
    "</span>"
   ]
  },
  {
   "cell_type": "code",
   "execution_count": 496,
   "id": "6d9bb569",
   "metadata": {},
   "outputs": [
    {
     "data": {
      "text/plain": [
       "Converted                                                 int64\n",
       "TotalVisits                                             float64\n",
       "Total Time Spent on Website                               int64\n",
       "Page Views Per Visit                                    float64\n",
       "A free copy of Mastering The Interview                    int64\n",
       "Lead Origin_Landing Page Submission                       uint8\n",
       "Lead Origin_Lead Add Form                                 uint8\n",
       "Lead Origin_Others                                        uint8\n",
       "Last Activity_Email Bounced                               uint8\n",
       "Last Activity_Email Link Clicked                          uint8\n",
       "Last Activity_Email Opened                                uint8\n",
       "Last Activity_Olark Chat Conversation                     uint8\n",
       "Last Activity_Others                                      uint8\n",
       "Last Activity_Page Visited on Website                     uint8\n",
       "Last Activity_SMS Sent                                    uint8\n",
       "Lead Source_Google                                        uint8\n",
       "Lead Source_Olark Chat                                    uint8\n",
       "Lead Source_Organic Search                                uint8\n",
       "Lead Source_Others                                        uint8\n",
       "Lead Source_Reference                                     uint8\n",
       "What is your current occupation_Student                   uint8\n",
       "What is your current occupation_Unemployed                uint8\n",
       "What is your current occupation_Working Professional      uint8\n",
       "Specialization_Business Administration                    uint8\n",
       "Specialization_Finance Management                         uint8\n",
       "Specialization_Healthcare Management                      uint8\n",
       "Specialization_Human Resource Management                  uint8\n",
       "Specialization_IT Projects Management                     uint8\n",
       "Specialization_International Business                     uint8\n",
       "Specialization_Marketing Management                       uint8\n",
       "Specialization_Media and Advertising                      uint8\n",
       "Specialization_Not Specified                              uint8\n",
       "Specialization_Operations Management                      uint8\n",
       "Specialization_Others                                     uint8\n",
       "Specialization_Supply Chain Management                    uint8\n",
       "Specialization_Travel and Tourism                         uint8\n",
       "dtype: object"
      ]
     },
     "execution_count": 496,
     "metadata": {},
     "output_type": "execute_result"
    }
   ],
   "source": [
    "# Checking the datatypes of all columns\n",
    "Lead_data.dtypes"
   ]
  },
  {
   "cell_type": "markdown",
   "id": "d5825287",
   "metadata": {},
   "source": [
    "## Step 8: Test-Train Split\n"
   ]
  },
  {
   "cell_type": "markdown",
   "id": "9452f7be",
   "metadata": {},
   "source": [
    "#### Step 8.1: Allotting X variables"
   ]
  },
  {
   "cell_type": "code",
   "execution_count": 497,
   "id": "ced3d4d7",
   "metadata": {},
   "outputs": [
    {
     "data": {
      "text/html": [
       "<div>\n",
       "<style scoped>\n",
       "    .dataframe tbody tr th:only-of-type {\n",
       "        vertical-align: middle;\n",
       "    }\n",
       "\n",
       "    .dataframe tbody tr th {\n",
       "        vertical-align: top;\n",
       "    }\n",
       "\n",
       "    .dataframe thead th {\n",
       "        text-align: right;\n",
       "    }\n",
       "</style>\n",
       "<table border=\"1\" class=\"dataframe\">\n",
       "  <thead>\n",
       "    <tr style=\"text-align: right;\">\n",
       "      <th></th>\n",
       "      <th>TotalVisits</th>\n",
       "      <th>Total Time Spent on Website</th>\n",
       "      <th>Page Views Per Visit</th>\n",
       "      <th>A free copy of Mastering The Interview</th>\n",
       "      <th>Lead Origin_Landing Page Submission</th>\n",
       "      <th>Lead Origin_Lead Add Form</th>\n",
       "      <th>Lead Origin_Others</th>\n",
       "      <th>Last Activity_Email Bounced</th>\n",
       "      <th>Last Activity_Email Link Clicked</th>\n",
       "      <th>Last Activity_Email Opened</th>\n",
       "      <th>Last Activity_Olark Chat Conversation</th>\n",
       "      <th>Last Activity_Others</th>\n",
       "      <th>Last Activity_Page Visited on Website</th>\n",
       "      <th>Last Activity_SMS Sent</th>\n",
       "      <th>Lead Source_Google</th>\n",
       "      <th>Lead Source_Olark Chat</th>\n",
       "      <th>Lead Source_Organic Search</th>\n",
       "      <th>Lead Source_Others</th>\n",
       "      <th>Lead Source_Reference</th>\n",
       "      <th>What is your current occupation_Student</th>\n",
       "      <th>What is your current occupation_Unemployed</th>\n",
       "      <th>What is your current occupation_Working Professional</th>\n",
       "      <th>Specialization_Business Administration</th>\n",
       "      <th>Specialization_Finance Management</th>\n",
       "      <th>Specialization_Healthcare Management</th>\n",
       "      <th>Specialization_Human Resource Management</th>\n",
       "      <th>Specialization_IT Projects Management</th>\n",
       "      <th>Specialization_International Business</th>\n",
       "      <th>Specialization_Marketing Management</th>\n",
       "      <th>Specialization_Media and Advertising</th>\n",
       "      <th>Specialization_Not Specified</th>\n",
       "      <th>Specialization_Operations Management</th>\n",
       "      <th>Specialization_Others</th>\n",
       "      <th>Specialization_Supply Chain Management</th>\n",
       "      <th>Specialization_Travel and Tourism</th>\n",
       "    </tr>\n",
       "  </thead>\n",
       "  <tbody>\n",
       "    <tr>\n",
       "      <th>0</th>\n",
       "      <td>0.0</td>\n",
       "      <td>0</td>\n",
       "      <td>0.0</td>\n",
       "      <td>0</td>\n",
       "      <td>0</td>\n",
       "      <td>0</td>\n",
       "      <td>0</td>\n",
       "      <td>0</td>\n",
       "      <td>0</td>\n",
       "      <td>0</td>\n",
       "      <td>0</td>\n",
       "      <td>0</td>\n",
       "      <td>1</td>\n",
       "      <td>0</td>\n",
       "      <td>0</td>\n",
       "      <td>1</td>\n",
       "      <td>0</td>\n",
       "      <td>0</td>\n",
       "      <td>0</td>\n",
       "      <td>0</td>\n",
       "      <td>1</td>\n",
       "      <td>0</td>\n",
       "      <td>0</td>\n",
       "      <td>0</td>\n",
       "      <td>0</td>\n",
       "      <td>0</td>\n",
       "      <td>0</td>\n",
       "      <td>0</td>\n",
       "      <td>0</td>\n",
       "      <td>0</td>\n",
       "      <td>1</td>\n",
       "      <td>0</td>\n",
       "      <td>0</td>\n",
       "      <td>0</td>\n",
       "      <td>0</td>\n",
       "    </tr>\n",
       "    <tr>\n",
       "      <th>1</th>\n",
       "      <td>5.0</td>\n",
       "      <td>674</td>\n",
       "      <td>2.5</td>\n",
       "      <td>0</td>\n",
       "      <td>0</td>\n",
       "      <td>0</td>\n",
       "      <td>0</td>\n",
       "      <td>0</td>\n",
       "      <td>0</td>\n",
       "      <td>1</td>\n",
       "      <td>0</td>\n",
       "      <td>0</td>\n",
       "      <td>0</td>\n",
       "      <td>0</td>\n",
       "      <td>0</td>\n",
       "      <td>0</td>\n",
       "      <td>1</td>\n",
       "      <td>0</td>\n",
       "      <td>0</td>\n",
       "      <td>0</td>\n",
       "      <td>1</td>\n",
       "      <td>0</td>\n",
       "      <td>0</td>\n",
       "      <td>0</td>\n",
       "      <td>0</td>\n",
       "      <td>0</td>\n",
       "      <td>0</td>\n",
       "      <td>0</td>\n",
       "      <td>0</td>\n",
       "      <td>0</td>\n",
       "      <td>1</td>\n",
       "      <td>0</td>\n",
       "      <td>0</td>\n",
       "      <td>0</td>\n",
       "      <td>0</td>\n",
       "    </tr>\n",
       "    <tr>\n",
       "      <th>2</th>\n",
       "      <td>2.0</td>\n",
       "      <td>1532</td>\n",
       "      <td>2.0</td>\n",
       "      <td>1</td>\n",
       "      <td>1</td>\n",
       "      <td>0</td>\n",
       "      <td>0</td>\n",
       "      <td>0</td>\n",
       "      <td>0</td>\n",
       "      <td>1</td>\n",
       "      <td>0</td>\n",
       "      <td>0</td>\n",
       "      <td>0</td>\n",
       "      <td>0</td>\n",
       "      <td>0</td>\n",
       "      <td>0</td>\n",
       "      <td>0</td>\n",
       "      <td>0</td>\n",
       "      <td>0</td>\n",
       "      <td>1</td>\n",
       "      <td>0</td>\n",
       "      <td>0</td>\n",
       "      <td>1</td>\n",
       "      <td>0</td>\n",
       "      <td>0</td>\n",
       "      <td>0</td>\n",
       "      <td>0</td>\n",
       "      <td>0</td>\n",
       "      <td>0</td>\n",
       "      <td>0</td>\n",
       "      <td>0</td>\n",
       "      <td>0</td>\n",
       "      <td>0</td>\n",
       "      <td>0</td>\n",
       "      <td>0</td>\n",
       "    </tr>\n",
       "    <tr>\n",
       "      <th>3</th>\n",
       "      <td>1.0</td>\n",
       "      <td>305</td>\n",
       "      <td>1.0</td>\n",
       "      <td>0</td>\n",
       "      <td>1</td>\n",
       "      <td>0</td>\n",
       "      <td>0</td>\n",
       "      <td>0</td>\n",
       "      <td>0</td>\n",
       "      <td>0</td>\n",
       "      <td>0</td>\n",
       "      <td>1</td>\n",
       "      <td>0</td>\n",
       "      <td>0</td>\n",
       "      <td>0</td>\n",
       "      <td>0</td>\n",
       "      <td>0</td>\n",
       "      <td>0</td>\n",
       "      <td>0</td>\n",
       "      <td>0</td>\n",
       "      <td>1</td>\n",
       "      <td>0</td>\n",
       "      <td>0</td>\n",
       "      <td>0</td>\n",
       "      <td>0</td>\n",
       "      <td>0</td>\n",
       "      <td>0</td>\n",
       "      <td>0</td>\n",
       "      <td>0</td>\n",
       "      <td>1</td>\n",
       "      <td>0</td>\n",
       "      <td>0</td>\n",
       "      <td>0</td>\n",
       "      <td>0</td>\n",
       "      <td>0</td>\n",
       "    </tr>\n",
       "    <tr>\n",
       "      <th>4</th>\n",
       "      <td>2.0</td>\n",
       "      <td>1428</td>\n",
       "      <td>1.0</td>\n",
       "      <td>0</td>\n",
       "      <td>1</td>\n",
       "      <td>0</td>\n",
       "      <td>0</td>\n",
       "      <td>0</td>\n",
       "      <td>0</td>\n",
       "      <td>0</td>\n",
       "      <td>0</td>\n",
       "      <td>0</td>\n",
       "      <td>0</td>\n",
       "      <td>0</td>\n",
       "      <td>1</td>\n",
       "      <td>0</td>\n",
       "      <td>0</td>\n",
       "      <td>0</td>\n",
       "      <td>0</td>\n",
       "      <td>0</td>\n",
       "      <td>1</td>\n",
       "      <td>0</td>\n",
       "      <td>0</td>\n",
       "      <td>0</td>\n",
       "      <td>0</td>\n",
       "      <td>0</td>\n",
       "      <td>0</td>\n",
       "      <td>0</td>\n",
       "      <td>0</td>\n",
       "      <td>0</td>\n",
       "      <td>1</td>\n",
       "      <td>0</td>\n",
       "      <td>0</td>\n",
       "      <td>0</td>\n",
       "      <td>0</td>\n",
       "    </tr>\n",
       "  </tbody>\n",
       "</table>\n",
       "</div>"
      ],
      "text/plain": [
       "   TotalVisits  Total Time Spent on Website  Page Views Per Visit  \\\n",
       "0          0.0                            0                   0.0   \n",
       "1          5.0                          674                   2.5   \n",
       "2          2.0                         1532                   2.0   \n",
       "3          1.0                          305                   1.0   \n",
       "4          2.0                         1428                   1.0   \n",
       "\n",
       "   A free copy of Mastering The Interview  \\\n",
       "0                                       0   \n",
       "1                                       0   \n",
       "2                                       1   \n",
       "3                                       0   \n",
       "4                                       0   \n",
       "\n",
       "   Lead Origin_Landing Page Submission  Lead Origin_Lead Add Form  \\\n",
       "0                                    0                          0   \n",
       "1                                    0                          0   \n",
       "2                                    1                          0   \n",
       "3                                    1                          0   \n",
       "4                                    1                          0   \n",
       "\n",
       "   Lead Origin_Others  Last Activity_Email Bounced  \\\n",
       "0                   0                            0   \n",
       "1                   0                            0   \n",
       "2                   0                            0   \n",
       "3                   0                            0   \n",
       "4                   0                            0   \n",
       "\n",
       "   Last Activity_Email Link Clicked  Last Activity_Email Opened  \\\n",
       "0                                 0                           0   \n",
       "1                                 0                           1   \n",
       "2                                 0                           1   \n",
       "3                                 0                           0   \n",
       "4                                 0                           0   \n",
       "\n",
       "   Last Activity_Olark Chat Conversation  Last Activity_Others  \\\n",
       "0                                      0                     0   \n",
       "1                                      0                     0   \n",
       "2                                      0                     0   \n",
       "3                                      0                     1   \n",
       "4                                      0                     0   \n",
       "\n",
       "   Last Activity_Page Visited on Website  Last Activity_SMS Sent  \\\n",
       "0                                      1                       0   \n",
       "1                                      0                       0   \n",
       "2                                      0                       0   \n",
       "3                                      0                       0   \n",
       "4                                      0                       0   \n",
       "\n",
       "   Lead Source_Google  Lead Source_Olark Chat  Lead Source_Organic Search  \\\n",
       "0                   0                       1                           0   \n",
       "1                   0                       0                           1   \n",
       "2                   0                       0                           0   \n",
       "3                   0                       0                           0   \n",
       "4                   1                       0                           0   \n",
       "\n",
       "   Lead Source_Others  Lead Source_Reference  \\\n",
       "0                   0                      0   \n",
       "1                   0                      0   \n",
       "2                   0                      0   \n",
       "3                   0                      0   \n",
       "4                   0                      0   \n",
       "\n",
       "   What is your current occupation_Student  \\\n",
       "0                                        0   \n",
       "1                                        0   \n",
       "2                                        1   \n",
       "3                                        0   \n",
       "4                                        0   \n",
       "\n",
       "   What is your current occupation_Unemployed  \\\n",
       "0                                           1   \n",
       "1                                           1   \n",
       "2                                           0   \n",
       "3                                           1   \n",
       "4                                           1   \n",
       "\n",
       "   What is your current occupation_Working Professional  \\\n",
       "0                                                  0      \n",
       "1                                                  0      \n",
       "2                                                  0      \n",
       "3                                                  0      \n",
       "4                                                  0      \n",
       "\n",
       "   Specialization_Business Administration  Specialization_Finance Management  \\\n",
       "0                                       0                                  0   \n",
       "1                                       0                                  0   \n",
       "2                                       1                                  0   \n",
       "3                                       0                                  0   \n",
       "4                                       0                                  0   \n",
       "\n",
       "   Specialization_Healthcare Management  \\\n",
       "0                                     0   \n",
       "1                                     0   \n",
       "2                                     0   \n",
       "3                                     0   \n",
       "4                                     0   \n",
       "\n",
       "   Specialization_Human Resource Management  \\\n",
       "0                                         0   \n",
       "1                                         0   \n",
       "2                                         0   \n",
       "3                                         0   \n",
       "4                                         0   \n",
       "\n",
       "   Specialization_IT Projects Management  \\\n",
       "0                                      0   \n",
       "1                                      0   \n",
       "2                                      0   \n",
       "3                                      0   \n",
       "4                                      0   \n",
       "\n",
       "   Specialization_International Business  Specialization_Marketing Management  \\\n",
       "0                                      0                                    0   \n",
       "1                                      0                                    0   \n",
       "2                                      0                                    0   \n",
       "3                                      0                                    0   \n",
       "4                                      0                                    0   \n",
       "\n",
       "   Specialization_Media and Advertising  Specialization_Not Specified  \\\n",
       "0                                     0                             1   \n",
       "1                                     0                             1   \n",
       "2                                     0                             0   \n",
       "3                                     1                             0   \n",
       "4                                     0                             1   \n",
       "\n",
       "   Specialization_Operations Management  Specialization_Others  \\\n",
       "0                                     0                      0   \n",
       "1                                     0                      0   \n",
       "2                                     0                      0   \n",
       "3                                     0                      0   \n",
       "4                                     0                      0   \n",
       "\n",
       "   Specialization_Supply Chain Management  Specialization_Travel and Tourism  \n",
       "0                                       0                                  0  \n",
       "1                                       0                                  0  \n",
       "2                                       0                                  0  \n",
       "3                                       0                                  0  \n",
       "4                                       0                                  0  "
      ]
     },
     "execution_count": 497,
     "metadata": {},
     "output_type": "execute_result"
    }
   ],
   "source": [
    "X = Lead_data.drop(['Converted'], axis=1)\n",
    "X.head()"
   ]
  },
  {
   "cell_type": "markdown",
   "id": "8f18ce0f",
   "metadata": {},
   "source": [
    "#### Step 8.2: Allotting y variables"
   ]
  },
  {
   "cell_type": "code",
   "execution_count": 498,
   "id": "b2fa82d5",
   "metadata": {},
   "outputs": [
    {
     "data": {
      "text/plain": [
       "0    0\n",
       "1    0\n",
       "2    1\n",
       "3    0\n",
       "4    1\n",
       "Name: Converted, dtype: int64"
      ]
     },
     "execution_count": 498,
     "metadata": {},
     "output_type": "execute_result"
    }
   ],
   "source": [
    "y = Lead_data['Converted']\n",
    "y.head()"
   ]
  },
  {
   "cell_type": "markdown",
   "id": "27ede257",
   "metadata": {},
   "source": [
    "#### Step 8.3: Splitting the data set into train and test data set"
   ]
  },
  {
   "cell_type": "code",
   "execution_count": 499,
   "id": "a7ee6e76",
   "metadata": {},
   "outputs": [],
   "source": [
    "X_train, X_test, y_train, y_test = train_test_split(X, y, train_size=0.7, test_size=0.3, random_state=100)"
   ]
  },
  {
   "cell_type": "markdown",
   "id": "0669a795",
   "metadata": {},
   "source": [
    "#### Step 8.4: Checking the shape of test and train set"
   ]
  },
  {
   "cell_type": "code",
   "execution_count": 500,
   "id": "d9c7e2c5",
   "metadata": {},
   "outputs": [
    {
     "name": "stdout",
     "output_type": "stream",
     "text": [
      "X_train = (6320, 35)\n",
      "X_test = (2709, 35)\n",
      "y_train = (6320,)\n",
      "y_test = (2709,)\n"
     ]
    }
   ],
   "source": [
    "print(\"X_train =\", X_train.shape)\n",
    "print(\"X_test =\", X_test.shape)\n",
    "print(\"y_train =\", y_train.shape)\n",
    "print(\"y_test =\", y_test.shape)"
   ]
  },
  {
   "cell_type": "markdown",
   "id": "8ff02933",
   "metadata": {},
   "source": [
    "## Step 9: Rescaling the features with MinMax Scaling\n"
   ]
  },
  {
   "cell_type": "markdown",
   "id": "2678636d",
   "metadata": {},
   "source": [
    "#### Step 9.1: To apply MinMax scaler for X_train\n"
   ]
  },
  {
   "cell_type": "code",
   "execution_count": 501,
   "id": "9a3f66e1",
   "metadata": {},
   "outputs": [
    {
     "data": {
      "text/html": [
       "<div>\n",
       "<style scoped>\n",
       "    .dataframe tbody tr th:only-of-type {\n",
       "        vertical-align: middle;\n",
       "    }\n",
       "\n",
       "    .dataframe tbody tr th {\n",
       "        vertical-align: top;\n",
       "    }\n",
       "\n",
       "    .dataframe thead th {\n",
       "        text-align: right;\n",
       "    }\n",
       "</style>\n",
       "<table border=\"1\" class=\"dataframe\">\n",
       "  <thead>\n",
       "    <tr style=\"text-align: right;\">\n",
       "      <th></th>\n",
       "      <th>TotalVisits</th>\n",
       "      <th>Total Time Spent on Website</th>\n",
       "      <th>Page Views Per Visit</th>\n",
       "      <th>A free copy of Mastering The Interview</th>\n",
       "      <th>Lead Origin_Landing Page Submission</th>\n",
       "      <th>Lead Origin_Lead Add Form</th>\n",
       "      <th>Lead Origin_Others</th>\n",
       "      <th>Last Activity_Email Bounced</th>\n",
       "      <th>Last Activity_Email Link Clicked</th>\n",
       "      <th>Last Activity_Email Opened</th>\n",
       "      <th>Last Activity_Olark Chat Conversation</th>\n",
       "      <th>Last Activity_Others</th>\n",
       "      <th>Last Activity_Page Visited on Website</th>\n",
       "      <th>Last Activity_SMS Sent</th>\n",
       "      <th>Lead Source_Google</th>\n",
       "      <th>Lead Source_Olark Chat</th>\n",
       "      <th>Lead Source_Organic Search</th>\n",
       "      <th>Lead Source_Others</th>\n",
       "      <th>Lead Source_Reference</th>\n",
       "      <th>What is your current occupation_Student</th>\n",
       "      <th>What is your current occupation_Unemployed</th>\n",
       "      <th>What is your current occupation_Working Professional</th>\n",
       "      <th>Specialization_Business Administration</th>\n",
       "      <th>Specialization_Finance Management</th>\n",
       "      <th>Specialization_Healthcare Management</th>\n",
       "      <th>Specialization_Human Resource Management</th>\n",
       "      <th>Specialization_IT Projects Management</th>\n",
       "      <th>Specialization_International Business</th>\n",
       "      <th>Specialization_Marketing Management</th>\n",
       "      <th>Specialization_Media and Advertising</th>\n",
       "      <th>Specialization_Not Specified</th>\n",
       "      <th>Specialization_Operations Management</th>\n",
       "      <th>Specialization_Others</th>\n",
       "      <th>Specialization_Supply Chain Management</th>\n",
       "      <th>Specialization_Travel and Tourism</th>\n",
       "    </tr>\n",
       "  </thead>\n",
       "  <tbody>\n",
       "    <tr>\n",
       "      <th>0</th>\n",
       "      <td>0.0</td>\n",
       "      <td>0</td>\n",
       "      <td>0.0</td>\n",
       "      <td>0</td>\n",
       "      <td>0</td>\n",
       "      <td>0</td>\n",
       "      <td>0</td>\n",
       "      <td>0</td>\n",
       "      <td>0</td>\n",
       "      <td>0</td>\n",
       "      <td>0</td>\n",
       "      <td>0</td>\n",
       "      <td>1</td>\n",
       "      <td>0</td>\n",
       "      <td>0</td>\n",
       "      <td>1</td>\n",
       "      <td>0</td>\n",
       "      <td>0</td>\n",
       "      <td>0</td>\n",
       "      <td>0</td>\n",
       "      <td>1</td>\n",
       "      <td>0</td>\n",
       "      <td>0</td>\n",
       "      <td>0</td>\n",
       "      <td>0</td>\n",
       "      <td>0</td>\n",
       "      <td>0</td>\n",
       "      <td>0</td>\n",
       "      <td>0</td>\n",
       "      <td>0</td>\n",
       "      <td>1</td>\n",
       "      <td>0</td>\n",
       "      <td>0</td>\n",
       "      <td>0</td>\n",
       "      <td>0</td>\n",
       "    </tr>\n",
       "    <tr>\n",
       "      <th>1</th>\n",
       "      <td>5.0</td>\n",
       "      <td>674</td>\n",
       "      <td>2.5</td>\n",
       "      <td>0</td>\n",
       "      <td>0</td>\n",
       "      <td>0</td>\n",
       "      <td>0</td>\n",
       "      <td>0</td>\n",
       "      <td>0</td>\n",
       "      <td>1</td>\n",
       "      <td>0</td>\n",
       "      <td>0</td>\n",
       "      <td>0</td>\n",
       "      <td>0</td>\n",
       "      <td>0</td>\n",
       "      <td>0</td>\n",
       "      <td>1</td>\n",
       "      <td>0</td>\n",
       "      <td>0</td>\n",
       "      <td>0</td>\n",
       "      <td>1</td>\n",
       "      <td>0</td>\n",
       "      <td>0</td>\n",
       "      <td>0</td>\n",
       "      <td>0</td>\n",
       "      <td>0</td>\n",
       "      <td>0</td>\n",
       "      <td>0</td>\n",
       "      <td>0</td>\n",
       "      <td>0</td>\n",
       "      <td>1</td>\n",
       "      <td>0</td>\n",
       "      <td>0</td>\n",
       "      <td>0</td>\n",
       "      <td>0</td>\n",
       "    </tr>\n",
       "    <tr>\n",
       "      <th>2</th>\n",
       "      <td>2.0</td>\n",
       "      <td>1532</td>\n",
       "      <td>2.0</td>\n",
       "      <td>1</td>\n",
       "      <td>1</td>\n",
       "      <td>0</td>\n",
       "      <td>0</td>\n",
       "      <td>0</td>\n",
       "      <td>0</td>\n",
       "      <td>1</td>\n",
       "      <td>0</td>\n",
       "      <td>0</td>\n",
       "      <td>0</td>\n",
       "      <td>0</td>\n",
       "      <td>0</td>\n",
       "      <td>0</td>\n",
       "      <td>0</td>\n",
       "      <td>0</td>\n",
       "      <td>0</td>\n",
       "      <td>1</td>\n",
       "      <td>0</td>\n",
       "      <td>0</td>\n",
       "      <td>1</td>\n",
       "      <td>0</td>\n",
       "      <td>0</td>\n",
       "      <td>0</td>\n",
       "      <td>0</td>\n",
       "      <td>0</td>\n",
       "      <td>0</td>\n",
       "      <td>0</td>\n",
       "      <td>0</td>\n",
       "      <td>0</td>\n",
       "      <td>0</td>\n",
       "      <td>0</td>\n",
       "      <td>0</td>\n",
       "    </tr>\n",
       "    <tr>\n",
       "      <th>3</th>\n",
       "      <td>1.0</td>\n",
       "      <td>305</td>\n",
       "      <td>1.0</td>\n",
       "      <td>0</td>\n",
       "      <td>1</td>\n",
       "      <td>0</td>\n",
       "      <td>0</td>\n",
       "      <td>0</td>\n",
       "      <td>0</td>\n",
       "      <td>0</td>\n",
       "      <td>0</td>\n",
       "      <td>1</td>\n",
       "      <td>0</td>\n",
       "      <td>0</td>\n",
       "      <td>0</td>\n",
       "      <td>0</td>\n",
       "      <td>0</td>\n",
       "      <td>0</td>\n",
       "      <td>0</td>\n",
       "      <td>0</td>\n",
       "      <td>1</td>\n",
       "      <td>0</td>\n",
       "      <td>0</td>\n",
       "      <td>0</td>\n",
       "      <td>0</td>\n",
       "      <td>0</td>\n",
       "      <td>0</td>\n",
       "      <td>0</td>\n",
       "      <td>0</td>\n",
       "      <td>1</td>\n",
       "      <td>0</td>\n",
       "      <td>0</td>\n",
       "      <td>0</td>\n",
       "      <td>0</td>\n",
       "      <td>0</td>\n",
       "    </tr>\n",
       "    <tr>\n",
       "      <th>4</th>\n",
       "      <td>2.0</td>\n",
       "      <td>1428</td>\n",
       "      <td>1.0</td>\n",
       "      <td>0</td>\n",
       "      <td>1</td>\n",
       "      <td>0</td>\n",
       "      <td>0</td>\n",
       "      <td>0</td>\n",
       "      <td>0</td>\n",
       "      <td>0</td>\n",
       "      <td>0</td>\n",
       "      <td>0</td>\n",
       "      <td>0</td>\n",
       "      <td>0</td>\n",
       "      <td>1</td>\n",
       "      <td>0</td>\n",
       "      <td>0</td>\n",
       "      <td>0</td>\n",
       "      <td>0</td>\n",
       "      <td>0</td>\n",
       "      <td>1</td>\n",
       "      <td>0</td>\n",
       "      <td>0</td>\n",
       "      <td>0</td>\n",
       "      <td>0</td>\n",
       "      <td>0</td>\n",
       "      <td>0</td>\n",
       "      <td>0</td>\n",
       "      <td>0</td>\n",
       "      <td>0</td>\n",
       "      <td>1</td>\n",
       "      <td>0</td>\n",
       "      <td>0</td>\n",
       "      <td>0</td>\n",
       "      <td>0</td>\n",
       "    </tr>\n",
       "  </tbody>\n",
       "</table>\n",
       "</div>"
      ],
      "text/plain": [
       "   TotalVisits  Total Time Spent on Website  Page Views Per Visit  \\\n",
       "0          0.0                            0                   0.0   \n",
       "1          5.0                          674                   2.5   \n",
       "2          2.0                         1532                   2.0   \n",
       "3          1.0                          305                   1.0   \n",
       "4          2.0                         1428                   1.0   \n",
       "\n",
       "   A free copy of Mastering The Interview  \\\n",
       "0                                       0   \n",
       "1                                       0   \n",
       "2                                       1   \n",
       "3                                       0   \n",
       "4                                       0   \n",
       "\n",
       "   Lead Origin_Landing Page Submission  Lead Origin_Lead Add Form  \\\n",
       "0                                    0                          0   \n",
       "1                                    0                          0   \n",
       "2                                    1                          0   \n",
       "3                                    1                          0   \n",
       "4                                    1                          0   \n",
       "\n",
       "   Lead Origin_Others  Last Activity_Email Bounced  \\\n",
       "0                   0                            0   \n",
       "1                   0                            0   \n",
       "2                   0                            0   \n",
       "3                   0                            0   \n",
       "4                   0                            0   \n",
       "\n",
       "   Last Activity_Email Link Clicked  Last Activity_Email Opened  \\\n",
       "0                                 0                           0   \n",
       "1                                 0                           1   \n",
       "2                                 0                           1   \n",
       "3                                 0                           0   \n",
       "4                                 0                           0   \n",
       "\n",
       "   Last Activity_Olark Chat Conversation  Last Activity_Others  \\\n",
       "0                                      0                     0   \n",
       "1                                      0                     0   \n",
       "2                                      0                     0   \n",
       "3                                      0                     1   \n",
       "4                                      0                     0   \n",
       "\n",
       "   Last Activity_Page Visited on Website  Last Activity_SMS Sent  \\\n",
       "0                                      1                       0   \n",
       "1                                      0                       0   \n",
       "2                                      0                       0   \n",
       "3                                      0                       0   \n",
       "4                                      0                       0   \n",
       "\n",
       "   Lead Source_Google  Lead Source_Olark Chat  Lead Source_Organic Search  \\\n",
       "0                   0                       1                           0   \n",
       "1                   0                       0                           1   \n",
       "2                   0                       0                           0   \n",
       "3                   0                       0                           0   \n",
       "4                   1                       0                           0   \n",
       "\n",
       "   Lead Source_Others  Lead Source_Reference  \\\n",
       "0                   0                      0   \n",
       "1                   0                      0   \n",
       "2                   0                      0   \n",
       "3                   0                      0   \n",
       "4                   0                      0   \n",
       "\n",
       "   What is your current occupation_Student  \\\n",
       "0                                        0   \n",
       "1                                        0   \n",
       "2                                        1   \n",
       "3                                        0   \n",
       "4                                        0   \n",
       "\n",
       "   What is your current occupation_Unemployed  \\\n",
       "0                                           1   \n",
       "1                                           1   \n",
       "2                                           0   \n",
       "3                                           1   \n",
       "4                                           1   \n",
       "\n",
       "   What is your current occupation_Working Professional  \\\n",
       "0                                                  0      \n",
       "1                                                  0      \n",
       "2                                                  0      \n",
       "3                                                  0      \n",
       "4                                                  0      \n",
       "\n",
       "   Specialization_Business Administration  Specialization_Finance Management  \\\n",
       "0                                       0                                  0   \n",
       "1                                       0                                  0   \n",
       "2                                       1                                  0   \n",
       "3                                       0                                  0   \n",
       "4                                       0                                  0   \n",
       "\n",
       "   Specialization_Healthcare Management  \\\n",
       "0                                     0   \n",
       "1                                     0   \n",
       "2                                     0   \n",
       "3                                     0   \n",
       "4                                     0   \n",
       "\n",
       "   Specialization_Human Resource Management  \\\n",
       "0                                         0   \n",
       "1                                         0   \n",
       "2                                         0   \n",
       "3                                         0   \n",
       "4                                         0   \n",
       "\n",
       "   Specialization_IT Projects Management  \\\n",
       "0                                      0   \n",
       "1                                      0   \n",
       "2                                      0   \n",
       "3                                      0   \n",
       "4                                      0   \n",
       "\n",
       "   Specialization_International Business  Specialization_Marketing Management  \\\n",
       "0                                      0                                    0   \n",
       "1                                      0                                    0   \n",
       "2                                      0                                    0   \n",
       "3                                      0                                    0   \n",
       "4                                      0                                    0   \n",
       "\n",
       "   Specialization_Media and Advertising  Specialization_Not Specified  \\\n",
       "0                                     0                             1   \n",
       "1                                     0                             1   \n",
       "2                                     0                             0   \n",
       "3                                     1                             0   \n",
       "4                                     0                             1   \n",
       "\n",
       "   Specialization_Operations Management  Specialization_Others  \\\n",
       "0                                     0                      0   \n",
       "1                                     0                      0   \n",
       "2                                     0                      0   \n",
       "3                                     0                      0   \n",
       "4                                     0                      0   \n",
       "\n",
       "   Specialization_Supply Chain Management  Specialization_Travel and Tourism  \n",
       "0                                       0                                  0  \n",
       "1                                       0                                  0  \n",
       "2                                       0                                  0  \n",
       "3                                       0                                  0  \n",
       "4                                       0                                  0  "
      ]
     },
     "execution_count": 501,
     "metadata": {},
     "output_type": "execute_result"
    }
   ],
   "source": [
    "scaler = MinMaxScaler()\n",
    "\n",
    "X_train[['TotalVisits','Total Time Spent on Website','Page Views Per Visit']] = scaler.fit_transform(X_train[['TotalVisits',\n",
    "                                                                        'Total Time Spent on Website','Page Views Per Visit']])\n",
    "\n",
    "X.head()"
   ]
  },
  {
   "cell_type": "code",
   "execution_count": 502,
   "id": "9baf900e",
   "metadata": {},
   "outputs": [
    {
     "data": {
      "text/html": [
       "<div>\n",
       "<style scoped>\n",
       "    .dataframe tbody tr th:only-of-type {\n",
       "        vertical-align: middle;\n",
       "    }\n",
       "\n",
       "    .dataframe tbody tr th {\n",
       "        vertical-align: top;\n",
       "    }\n",
       "\n",
       "    .dataframe thead th {\n",
       "        text-align: right;\n",
       "    }\n",
       "</style>\n",
       "<table border=\"1\" class=\"dataframe\">\n",
       "  <thead>\n",
       "    <tr style=\"text-align: right;\">\n",
       "      <th></th>\n",
       "      <th>TotalVisits</th>\n",
       "      <th>Total Time Spent on Website</th>\n",
       "      <th>Page Views Per Visit</th>\n",
       "      <th>A free copy of Mastering The Interview</th>\n",
       "      <th>Lead Origin_Landing Page Submission</th>\n",
       "      <th>Lead Origin_Lead Add Form</th>\n",
       "      <th>Lead Origin_Others</th>\n",
       "      <th>Last Activity_Email Bounced</th>\n",
       "      <th>Last Activity_Email Link Clicked</th>\n",
       "      <th>Last Activity_Email Opened</th>\n",
       "      <th>Last Activity_Olark Chat Conversation</th>\n",
       "      <th>Last Activity_Others</th>\n",
       "      <th>Last Activity_Page Visited on Website</th>\n",
       "      <th>Last Activity_SMS Sent</th>\n",
       "      <th>Lead Source_Google</th>\n",
       "      <th>Lead Source_Olark Chat</th>\n",
       "      <th>Lead Source_Organic Search</th>\n",
       "      <th>Lead Source_Others</th>\n",
       "      <th>Lead Source_Reference</th>\n",
       "      <th>What is your current occupation_Student</th>\n",
       "      <th>What is your current occupation_Unemployed</th>\n",
       "      <th>What is your current occupation_Working Professional</th>\n",
       "      <th>Specialization_Business Administration</th>\n",
       "      <th>Specialization_Finance Management</th>\n",
       "      <th>Specialization_Healthcare Management</th>\n",
       "      <th>Specialization_Human Resource Management</th>\n",
       "      <th>Specialization_IT Projects Management</th>\n",
       "      <th>Specialization_International Business</th>\n",
       "      <th>Specialization_Marketing Management</th>\n",
       "      <th>Specialization_Media and Advertising</th>\n",
       "      <th>Specialization_Not Specified</th>\n",
       "      <th>Specialization_Operations Management</th>\n",
       "      <th>Specialization_Others</th>\n",
       "      <th>Specialization_Supply Chain Management</th>\n",
       "      <th>Specialization_Travel and Tourism</th>\n",
       "    </tr>\n",
       "  </thead>\n",
       "  <tbody>\n",
       "    <tr>\n",
       "      <th>count</th>\n",
       "      <td>6320.000000</td>\n",
       "      <td>6320.000000</td>\n",
       "      <td>6320.000000</td>\n",
       "      <td>6320.000000</td>\n",
       "      <td>6320.000000</td>\n",
       "      <td>6320.000000</td>\n",
       "      <td>6320.000000</td>\n",
       "      <td>6320.000000</td>\n",
       "      <td>6320.000000</td>\n",
       "      <td>6320.000000</td>\n",
       "      <td>6320.000000</td>\n",
       "      <td>6320.000000</td>\n",
       "      <td>6320.000000</td>\n",
       "      <td>6320.000000</td>\n",
       "      <td>6320.000000</td>\n",
       "      <td>6320.000000</td>\n",
       "      <td>6320.000000</td>\n",
       "      <td>6320.000000</td>\n",
       "      <td>6320.000000</td>\n",
       "      <td>6320.000000</td>\n",
       "      <td>6320.000000</td>\n",
       "      <td>6320.000000</td>\n",
       "      <td>6320.000000</td>\n",
       "      <td>6320.000000</td>\n",
       "      <td>6320.000000</td>\n",
       "      <td>6320.000000</td>\n",
       "      <td>6320.000000</td>\n",
       "      <td>6320.000000</td>\n",
       "      <td>6320.000000</td>\n",
       "      <td>6320.000000</td>\n",
       "      <td>6320.000000</td>\n",
       "      <td>6320.000000</td>\n",
       "      <td>6320.000000</td>\n",
       "      <td>6320.000000</td>\n",
       "      <td>6320.000000</td>\n",
       "    </tr>\n",
       "    <tr>\n",
       "      <th>mean</th>\n",
       "      <td>0.194502</td>\n",
       "      <td>0.212107</td>\n",
       "      <td>0.280978</td>\n",
       "      <td>0.306487</td>\n",
       "      <td>0.527690</td>\n",
       "      <td>0.075949</td>\n",
       "      <td>0.006487</td>\n",
       "      <td>0.037184</td>\n",
       "      <td>0.028956</td>\n",
       "      <td>0.381171</td>\n",
       "      <td>0.109335</td>\n",
       "      <td>0.035443</td>\n",
       "      <td>0.065823</td>\n",
       "      <td>0.293987</td>\n",
       "      <td>0.316139</td>\n",
       "      <td>0.193513</td>\n",
       "      <td>0.118354</td>\n",
       "      <td>0.037184</td>\n",
       "      <td>0.055063</td>\n",
       "      <td>0.022468</td>\n",
       "      <td>0.899051</td>\n",
       "      <td>0.075158</td>\n",
       "      <td>0.042563</td>\n",
       "      <td>0.108228</td>\n",
       "      <td>0.018513</td>\n",
       "      <td>0.089399</td>\n",
       "      <td>0.037342</td>\n",
       "      <td>0.020411</td>\n",
       "      <td>0.095728</td>\n",
       "      <td>0.021203</td>\n",
       "      <td>0.371994</td>\n",
       "      <td>0.052057</td>\n",
       "      <td>0.051266</td>\n",
       "      <td>0.036867</td>\n",
       "      <td>0.022627</td>\n",
       "    </tr>\n",
       "    <tr>\n",
       "      <th>std</th>\n",
       "      <td>0.176284</td>\n",
       "      <td>0.239873</td>\n",
       "      <td>0.229087</td>\n",
       "      <td>0.461071</td>\n",
       "      <td>0.499272</td>\n",
       "      <td>0.264938</td>\n",
       "      <td>0.080289</td>\n",
       "      <td>0.189226</td>\n",
       "      <td>0.167695</td>\n",
       "      <td>0.485713</td>\n",
       "      <td>0.312084</td>\n",
       "      <td>0.184911</td>\n",
       "      <td>0.247992</td>\n",
       "      <td>0.455622</td>\n",
       "      <td>0.465005</td>\n",
       "      <td>0.395083</td>\n",
       "      <td>0.323053</td>\n",
       "      <td>0.189226</td>\n",
       "      <td>0.228122</td>\n",
       "      <td>0.148213</td>\n",
       "      <td>0.301286</td>\n",
       "      <td>0.263667</td>\n",
       "      <td>0.201886</td>\n",
       "      <td>0.310693</td>\n",
       "      <td>0.134807</td>\n",
       "      <td>0.285341</td>\n",
       "      <td>0.189613</td>\n",
       "      <td>0.141414</td>\n",
       "      <td>0.294241</td>\n",
       "      <td>0.144070</td>\n",
       "      <td>0.483375</td>\n",
       "      <td>0.222160</td>\n",
       "      <td>0.220557</td>\n",
       "      <td>0.188450</td>\n",
       "      <td>0.148722</td>\n",
       "    </tr>\n",
       "    <tr>\n",
       "      <th>min</th>\n",
       "      <td>0.000000</td>\n",
       "      <td>0.000000</td>\n",
       "      <td>0.000000</td>\n",
       "      <td>0.000000</td>\n",
       "      <td>0.000000</td>\n",
       "      <td>0.000000</td>\n",
       "      <td>0.000000</td>\n",
       "      <td>0.000000</td>\n",
       "      <td>0.000000</td>\n",
       "      <td>0.000000</td>\n",
       "      <td>0.000000</td>\n",
       "      <td>0.000000</td>\n",
       "      <td>0.000000</td>\n",
       "      <td>0.000000</td>\n",
       "      <td>0.000000</td>\n",
       "      <td>0.000000</td>\n",
       "      <td>0.000000</td>\n",
       "      <td>0.000000</td>\n",
       "      <td>0.000000</td>\n",
       "      <td>0.000000</td>\n",
       "      <td>0.000000</td>\n",
       "      <td>0.000000</td>\n",
       "      <td>0.000000</td>\n",
       "      <td>0.000000</td>\n",
       "      <td>0.000000</td>\n",
       "      <td>0.000000</td>\n",
       "      <td>0.000000</td>\n",
       "      <td>0.000000</td>\n",
       "      <td>0.000000</td>\n",
       "      <td>0.000000</td>\n",
       "      <td>0.000000</td>\n",
       "      <td>0.000000</td>\n",
       "      <td>0.000000</td>\n",
       "      <td>0.000000</td>\n",
       "      <td>0.000000</td>\n",
       "    </tr>\n",
       "    <tr>\n",
       "      <th>25%</th>\n",
       "      <td>0.062500</td>\n",
       "      <td>0.004291</td>\n",
       "      <td>0.125000</td>\n",
       "      <td>0.000000</td>\n",
       "      <td>0.000000</td>\n",
       "      <td>0.000000</td>\n",
       "      <td>0.000000</td>\n",
       "      <td>0.000000</td>\n",
       "      <td>0.000000</td>\n",
       "      <td>0.000000</td>\n",
       "      <td>0.000000</td>\n",
       "      <td>0.000000</td>\n",
       "      <td>0.000000</td>\n",
       "      <td>0.000000</td>\n",
       "      <td>0.000000</td>\n",
       "      <td>0.000000</td>\n",
       "      <td>0.000000</td>\n",
       "      <td>0.000000</td>\n",
       "      <td>0.000000</td>\n",
       "      <td>0.000000</td>\n",
       "      <td>1.000000</td>\n",
       "      <td>0.000000</td>\n",
       "      <td>0.000000</td>\n",
       "      <td>0.000000</td>\n",
       "      <td>0.000000</td>\n",
       "      <td>0.000000</td>\n",
       "      <td>0.000000</td>\n",
       "      <td>0.000000</td>\n",
       "      <td>0.000000</td>\n",
       "      <td>0.000000</td>\n",
       "      <td>0.000000</td>\n",
       "      <td>0.000000</td>\n",
       "      <td>0.000000</td>\n",
       "      <td>0.000000</td>\n",
       "      <td>0.000000</td>\n",
       "    </tr>\n",
       "    <tr>\n",
       "      <th>50%</th>\n",
       "      <td>0.187500</td>\n",
       "      <td>0.105634</td>\n",
       "      <td>0.250000</td>\n",
       "      <td>0.000000</td>\n",
       "      <td>1.000000</td>\n",
       "      <td>0.000000</td>\n",
       "      <td>0.000000</td>\n",
       "      <td>0.000000</td>\n",
       "      <td>0.000000</td>\n",
       "      <td>0.000000</td>\n",
       "      <td>0.000000</td>\n",
       "      <td>0.000000</td>\n",
       "      <td>0.000000</td>\n",
       "      <td>0.000000</td>\n",
       "      <td>0.000000</td>\n",
       "      <td>0.000000</td>\n",
       "      <td>0.000000</td>\n",
       "      <td>0.000000</td>\n",
       "      <td>0.000000</td>\n",
       "      <td>0.000000</td>\n",
       "      <td>1.000000</td>\n",
       "      <td>0.000000</td>\n",
       "      <td>0.000000</td>\n",
       "      <td>0.000000</td>\n",
       "      <td>0.000000</td>\n",
       "      <td>0.000000</td>\n",
       "      <td>0.000000</td>\n",
       "      <td>0.000000</td>\n",
       "      <td>0.000000</td>\n",
       "      <td>0.000000</td>\n",
       "      <td>0.000000</td>\n",
       "      <td>0.000000</td>\n",
       "      <td>0.000000</td>\n",
       "      <td>0.000000</td>\n",
       "      <td>0.000000</td>\n",
       "    </tr>\n",
       "    <tr>\n",
       "      <th>75%</th>\n",
       "      <td>0.250000</td>\n",
       "      <td>0.406690</td>\n",
       "      <td>0.375000</td>\n",
       "      <td>1.000000</td>\n",
       "      <td>1.000000</td>\n",
       "      <td>0.000000</td>\n",
       "      <td>0.000000</td>\n",
       "      <td>0.000000</td>\n",
       "      <td>0.000000</td>\n",
       "      <td>1.000000</td>\n",
       "      <td>0.000000</td>\n",
       "      <td>0.000000</td>\n",
       "      <td>0.000000</td>\n",
       "      <td>1.000000</td>\n",
       "      <td>1.000000</td>\n",
       "      <td>0.000000</td>\n",
       "      <td>0.000000</td>\n",
       "      <td>0.000000</td>\n",
       "      <td>0.000000</td>\n",
       "      <td>0.000000</td>\n",
       "      <td>1.000000</td>\n",
       "      <td>0.000000</td>\n",
       "      <td>0.000000</td>\n",
       "      <td>0.000000</td>\n",
       "      <td>0.000000</td>\n",
       "      <td>0.000000</td>\n",
       "      <td>0.000000</td>\n",
       "      <td>0.000000</td>\n",
       "      <td>0.000000</td>\n",
       "      <td>0.000000</td>\n",
       "      <td>1.000000</td>\n",
       "      <td>0.000000</td>\n",
       "      <td>0.000000</td>\n",
       "      <td>0.000000</td>\n",
       "      <td>0.000000</td>\n",
       "    </tr>\n",
       "    <tr>\n",
       "      <th>max</th>\n",
       "      <td>1.000000</td>\n",
       "      <td>1.000000</td>\n",
       "      <td>1.000000</td>\n",
       "      <td>1.000000</td>\n",
       "      <td>1.000000</td>\n",
       "      <td>1.000000</td>\n",
       "      <td>1.000000</td>\n",
       "      <td>1.000000</td>\n",
       "      <td>1.000000</td>\n",
       "      <td>1.000000</td>\n",
       "      <td>1.000000</td>\n",
       "      <td>1.000000</td>\n",
       "      <td>1.000000</td>\n",
       "      <td>1.000000</td>\n",
       "      <td>1.000000</td>\n",
       "      <td>1.000000</td>\n",
       "      <td>1.000000</td>\n",
       "      <td>1.000000</td>\n",
       "      <td>1.000000</td>\n",
       "      <td>1.000000</td>\n",
       "      <td>1.000000</td>\n",
       "      <td>1.000000</td>\n",
       "      <td>1.000000</td>\n",
       "      <td>1.000000</td>\n",
       "      <td>1.000000</td>\n",
       "      <td>1.000000</td>\n",
       "      <td>1.000000</td>\n",
       "      <td>1.000000</td>\n",
       "      <td>1.000000</td>\n",
       "      <td>1.000000</td>\n",
       "      <td>1.000000</td>\n",
       "      <td>1.000000</td>\n",
       "      <td>1.000000</td>\n",
       "      <td>1.000000</td>\n",
       "      <td>1.000000</td>\n",
       "    </tr>\n",
       "  </tbody>\n",
       "</table>\n",
       "</div>"
      ],
      "text/plain": [
       "       TotalVisits  Total Time Spent on Website  Page Views Per Visit  \\\n",
       "count  6320.000000                  6320.000000           6320.000000   \n",
       "mean      0.194502                     0.212107              0.280978   \n",
       "std       0.176284                     0.239873              0.229087   \n",
       "min       0.000000                     0.000000              0.000000   \n",
       "25%       0.062500                     0.004291              0.125000   \n",
       "50%       0.187500                     0.105634              0.250000   \n",
       "75%       0.250000                     0.406690              0.375000   \n",
       "max       1.000000                     1.000000              1.000000   \n",
       "\n",
       "       A free copy of Mastering The Interview  \\\n",
       "count                             6320.000000   \n",
       "mean                                 0.306487   \n",
       "std                                  0.461071   \n",
       "min                                  0.000000   \n",
       "25%                                  0.000000   \n",
       "50%                                  0.000000   \n",
       "75%                                  1.000000   \n",
       "max                                  1.000000   \n",
       "\n",
       "       Lead Origin_Landing Page Submission  Lead Origin_Lead Add Form  \\\n",
       "count                          6320.000000                6320.000000   \n",
       "mean                              0.527690                   0.075949   \n",
       "std                               0.499272                   0.264938   \n",
       "min                               0.000000                   0.000000   \n",
       "25%                               0.000000                   0.000000   \n",
       "50%                               1.000000                   0.000000   \n",
       "75%                               1.000000                   0.000000   \n",
       "max                               1.000000                   1.000000   \n",
       "\n",
       "       Lead Origin_Others  Last Activity_Email Bounced  \\\n",
       "count         6320.000000                  6320.000000   \n",
       "mean             0.006487                     0.037184   \n",
       "std              0.080289                     0.189226   \n",
       "min              0.000000                     0.000000   \n",
       "25%              0.000000                     0.000000   \n",
       "50%              0.000000                     0.000000   \n",
       "75%              0.000000                     0.000000   \n",
       "max              1.000000                     1.000000   \n",
       "\n",
       "       Last Activity_Email Link Clicked  Last Activity_Email Opened  \\\n",
       "count                       6320.000000                 6320.000000   \n",
       "mean                           0.028956                    0.381171   \n",
       "std                            0.167695                    0.485713   \n",
       "min                            0.000000                    0.000000   \n",
       "25%                            0.000000                    0.000000   \n",
       "50%                            0.000000                    0.000000   \n",
       "75%                            0.000000                    1.000000   \n",
       "max                            1.000000                    1.000000   \n",
       "\n",
       "       Last Activity_Olark Chat Conversation  Last Activity_Others  \\\n",
       "count                            6320.000000           6320.000000   \n",
       "mean                                0.109335              0.035443   \n",
       "std                                 0.312084              0.184911   \n",
       "min                                 0.000000              0.000000   \n",
       "25%                                 0.000000              0.000000   \n",
       "50%                                 0.000000              0.000000   \n",
       "75%                                 0.000000              0.000000   \n",
       "max                                 1.000000              1.000000   \n",
       "\n",
       "       Last Activity_Page Visited on Website  Last Activity_SMS Sent  \\\n",
       "count                            6320.000000             6320.000000   \n",
       "mean                                0.065823                0.293987   \n",
       "std                                 0.247992                0.455622   \n",
       "min                                 0.000000                0.000000   \n",
       "25%                                 0.000000                0.000000   \n",
       "50%                                 0.000000                0.000000   \n",
       "75%                                 0.000000                1.000000   \n",
       "max                                 1.000000                1.000000   \n",
       "\n",
       "       Lead Source_Google  Lead Source_Olark Chat  Lead Source_Organic Search  \\\n",
       "count         6320.000000             6320.000000                 6320.000000   \n",
       "mean             0.316139                0.193513                    0.118354   \n",
       "std              0.465005                0.395083                    0.323053   \n",
       "min              0.000000                0.000000                    0.000000   \n",
       "25%              0.000000                0.000000                    0.000000   \n",
       "50%              0.000000                0.000000                    0.000000   \n",
       "75%              1.000000                0.000000                    0.000000   \n",
       "max              1.000000                1.000000                    1.000000   \n",
       "\n",
       "       Lead Source_Others  Lead Source_Reference  \\\n",
       "count         6320.000000            6320.000000   \n",
       "mean             0.037184               0.055063   \n",
       "std              0.189226               0.228122   \n",
       "min              0.000000               0.000000   \n",
       "25%              0.000000               0.000000   \n",
       "50%              0.000000               0.000000   \n",
       "75%              0.000000               0.000000   \n",
       "max              1.000000               1.000000   \n",
       "\n",
       "       What is your current occupation_Student  \\\n",
       "count                              6320.000000   \n",
       "mean                                  0.022468   \n",
       "std                                   0.148213   \n",
       "min                                   0.000000   \n",
       "25%                                   0.000000   \n",
       "50%                                   0.000000   \n",
       "75%                                   0.000000   \n",
       "max                                   1.000000   \n",
       "\n",
       "       What is your current occupation_Unemployed  \\\n",
       "count                                 6320.000000   \n",
       "mean                                     0.899051   \n",
       "std                                      0.301286   \n",
       "min                                      0.000000   \n",
       "25%                                      1.000000   \n",
       "50%                                      1.000000   \n",
       "75%                                      1.000000   \n",
       "max                                      1.000000   \n",
       "\n",
       "       What is your current occupation_Working Professional  \\\n",
       "count                                        6320.000000      \n",
       "mean                                            0.075158      \n",
       "std                                             0.263667      \n",
       "min                                             0.000000      \n",
       "25%                                             0.000000      \n",
       "50%                                             0.000000      \n",
       "75%                                             0.000000      \n",
       "max                                             1.000000      \n",
       "\n",
       "       Specialization_Business Administration  \\\n",
       "count                             6320.000000   \n",
       "mean                                 0.042563   \n",
       "std                                  0.201886   \n",
       "min                                  0.000000   \n",
       "25%                                  0.000000   \n",
       "50%                                  0.000000   \n",
       "75%                                  0.000000   \n",
       "max                                  1.000000   \n",
       "\n",
       "       Specialization_Finance Management  \\\n",
       "count                        6320.000000   \n",
       "mean                            0.108228   \n",
       "std                             0.310693   \n",
       "min                             0.000000   \n",
       "25%                             0.000000   \n",
       "50%                             0.000000   \n",
       "75%                             0.000000   \n",
       "max                             1.000000   \n",
       "\n",
       "       Specialization_Healthcare Management  \\\n",
       "count                           6320.000000   \n",
       "mean                               0.018513   \n",
       "std                                0.134807   \n",
       "min                                0.000000   \n",
       "25%                                0.000000   \n",
       "50%                                0.000000   \n",
       "75%                                0.000000   \n",
       "max                                1.000000   \n",
       "\n",
       "       Specialization_Human Resource Management  \\\n",
       "count                               6320.000000   \n",
       "mean                                   0.089399   \n",
       "std                                    0.285341   \n",
       "min                                    0.000000   \n",
       "25%                                    0.000000   \n",
       "50%                                    0.000000   \n",
       "75%                                    0.000000   \n",
       "max                                    1.000000   \n",
       "\n",
       "       Specialization_IT Projects Management  \\\n",
       "count                            6320.000000   \n",
       "mean                                0.037342   \n",
       "std                                 0.189613   \n",
       "min                                 0.000000   \n",
       "25%                                 0.000000   \n",
       "50%                                 0.000000   \n",
       "75%                                 0.000000   \n",
       "max                                 1.000000   \n",
       "\n",
       "       Specialization_International Business  \\\n",
       "count                            6320.000000   \n",
       "mean                                0.020411   \n",
       "std                                 0.141414   \n",
       "min                                 0.000000   \n",
       "25%                                 0.000000   \n",
       "50%                                 0.000000   \n",
       "75%                                 0.000000   \n",
       "max                                 1.000000   \n",
       "\n",
       "       Specialization_Marketing Management  \\\n",
       "count                          6320.000000   \n",
       "mean                              0.095728   \n",
       "std                               0.294241   \n",
       "min                               0.000000   \n",
       "25%                               0.000000   \n",
       "50%                               0.000000   \n",
       "75%                               0.000000   \n",
       "max                               1.000000   \n",
       "\n",
       "       Specialization_Media and Advertising  Specialization_Not Specified  \\\n",
       "count                           6320.000000                   6320.000000   \n",
       "mean                               0.021203                      0.371994   \n",
       "std                                0.144070                      0.483375   \n",
       "min                                0.000000                      0.000000   \n",
       "25%                                0.000000                      0.000000   \n",
       "50%                                0.000000                      0.000000   \n",
       "75%                                0.000000                      1.000000   \n",
       "max                                1.000000                      1.000000   \n",
       "\n",
       "       Specialization_Operations Management  Specialization_Others  \\\n",
       "count                           6320.000000            6320.000000   \n",
       "mean                               0.052057               0.051266   \n",
       "std                                0.222160               0.220557   \n",
       "min                                0.000000               0.000000   \n",
       "25%                                0.000000               0.000000   \n",
       "50%                                0.000000               0.000000   \n",
       "75%                                0.000000               0.000000   \n",
       "max                                1.000000               1.000000   \n",
       "\n",
       "       Specialization_Supply Chain Management  \\\n",
       "count                             6320.000000   \n",
       "mean                                 0.036867   \n",
       "std                                  0.188450   \n",
       "min                                  0.000000   \n",
       "25%                                  0.000000   \n",
       "50%                                  0.000000   \n",
       "75%                                  0.000000   \n",
       "max                                  1.000000   \n",
       "\n",
       "       Specialization_Travel and Tourism  \n",
       "count                        6320.000000  \n",
       "mean                            0.022627  \n",
       "std                             0.148722  \n",
       "min                             0.000000  \n",
       "25%                             0.000000  \n",
       "50%                             0.000000  \n",
       "75%                             0.000000  \n",
       "max                             1.000000  "
      ]
     },
     "execution_count": 502,
     "metadata": {},
     "output_type": "execute_result"
    }
   ],
   "source": [
    "# Checking the mean and standard deviation\n",
    "X_train.describe()"
   ]
  },
  {
   "cell_type": "code",
   "execution_count": 503,
   "id": "423ffa20",
   "metadata": {},
   "outputs": [
    {
     "data": {
      "text/plain": [
       "38.50924797873519"
      ]
     },
     "execution_count": 503,
     "metadata": {},
     "output_type": "execute_result"
    }
   ],
   "source": [
    "### Checking the Conversion Rate percentage\n",
    "\n",
    "converted = (sum(Lead_data['Converted'])/len(Lead_data['Converted'].index))*100\n",
    "converted"
   ]
  },
  {
   "cell_type": "markdown",
   "id": "4ca88cb1",
   "metadata": {},
   "source": [
    "### Inference of conversion rate:\n",
    "<span Style=\"color:blue\">\n",
    "    \n",
    "- We have almost 39% conversion rate.\n",
    "\n",
    "</span>"
   ]
  },
  {
   "cell_type": "markdown",
   "id": "62340f36",
   "metadata": {},
   "source": [
    "## Step 10: Feature Selection using RFE\n"
   ]
  },
  {
   "cell_type": "markdown",
   "id": "3e0772e0",
   "metadata": {},
   "source": [
    "### Model-1"
   ]
  },
  {
   "cell_type": "code",
   "execution_count": 504,
   "id": "1a905374",
   "metadata": {},
   "outputs": [
    {
     "data": {
      "text/html": [
       "<table class=\"simpletable\">\n",
       "<caption>Generalized Linear Model Regression Results</caption>\n",
       "<tr>\n",
       "  <th>Dep. Variable:</th>       <td>Converted</td>    <th>  No. Observations:  </th>  <td>  6320</td> \n",
       "</tr>\n",
       "<tr>\n",
       "  <th>Model:</th>                  <td>GLM</td>       <th>  Df Residuals:      </th>  <td>  6284</td> \n",
       "</tr>\n",
       "<tr>\n",
       "  <th>Model Family:</th>        <td>Binomial</td>     <th>  Df Model:          </th>  <td>    35</td> \n",
       "</tr>\n",
       "<tr>\n",
       "  <th>Link Function:</th>         <td>Logit</td>      <th>  Scale:             </th> <td>  1.0000</td>\n",
       "</tr>\n",
       "<tr>\n",
       "  <th>Method:</th>                <td>IRLS</td>       <th>  Log-Likelihood:    </th> <td> -2647.0</td>\n",
       "</tr>\n",
       "<tr>\n",
       "  <th>Date:</th>            <td>Mon, 17 Oct 2022</td> <th>  Deviance:          </th> <td>  5294.0</td>\n",
       "</tr>\n",
       "<tr>\n",
       "  <th>Time:</th>                <td>19:59:44</td>     <th>  Pearson chi2:      </th> <td>7.80e+03</td>\n",
       "</tr>\n",
       "<tr>\n",
       "  <th>No. Iterations:</th>          <td>6</td>        <th>  Pseudo R-squ. (CS):</th>  <td>0.3885</td> \n",
       "</tr>\n",
       "<tr>\n",
       "  <th>Covariance Type:</th>     <td>nonrobust</td>    <th>                     </th>     <td> </td>   \n",
       "</tr>\n",
       "</table>\n",
       "<table class=\"simpletable\">\n",
       "<tr>\n",
       "                            <td></td>                              <th>coef</th>     <th>std err</th>      <th>z</th>      <th>P>|z|</th>  <th>[0.025</th>    <th>0.975]</th>  \n",
       "</tr>\n",
       "<tr>\n",
       "  <th>const</th>                                                <td>   -1.5019</td> <td>    0.618</td> <td>   -2.429</td> <td> 0.015</td> <td>   -2.714</td> <td>   -0.290</td>\n",
       "</tr>\n",
       "<tr>\n",
       "  <th>TotalVisits</th>                                          <td>    1.5601</td> <td>    0.290</td> <td>    5.373</td> <td> 0.000</td> <td>    0.991</td> <td>    2.129</td>\n",
       "</tr>\n",
       "<tr>\n",
       "  <th>Total Time Spent on Website</th>                          <td>    4.4824</td> <td>    0.167</td> <td>   26.808</td> <td> 0.000</td> <td>    4.155</td> <td>    4.810</td>\n",
       "</tr>\n",
       "<tr>\n",
       "  <th>Page Views Per Visit</th>                                 <td>   -1.0454</td> <td>    0.249</td> <td>   -4.202</td> <td> 0.000</td> <td>   -1.533</td> <td>   -0.558</td>\n",
       "</tr>\n",
       "<tr>\n",
       "  <th>A free copy of Mastering The Interview</th>               <td>   -0.1810</td> <td>    0.109</td> <td>   -1.661</td> <td> 0.097</td> <td>   -0.395</td> <td>    0.033</td>\n",
       "</tr>\n",
       "<tr>\n",
       "  <th>Lead Origin_Landing Page Submission</th>                  <td>   -0.9606</td> <td>    0.138</td> <td>   -6.954</td> <td> 0.000</td> <td>   -1.231</td> <td>   -0.690</td>\n",
       "</tr>\n",
       "<tr>\n",
       "  <th>Lead Origin_Lead Add Form</th>                            <td>    4.2741</td> <td>    0.442</td> <td>    9.669</td> <td> 0.000</td> <td>    3.408</td> <td>    5.141</td>\n",
       "</tr>\n",
       "<tr>\n",
       "  <th>Lead Origin_Others</th>                                   <td>   -0.4826</td> <td>    0.514</td> <td>   -0.939</td> <td> 0.348</td> <td>   -1.490</td> <td>    0.524</td>\n",
       "</tr>\n",
       "<tr>\n",
       "  <th>Last Activity_Email Bounced</th>                          <td>   -0.7386</td> <td>    0.363</td> <td>   -2.037</td> <td> 0.042</td> <td>   -1.449</td> <td>   -0.028</td>\n",
       "</tr>\n",
       "<tr>\n",
       "  <th>Last Activity_Email Link Clicked</th>                     <td>    0.6893</td> <td>    0.288</td> <td>    2.390</td> <td> 0.017</td> <td>    0.124</td> <td>    1.255</td>\n",
       "</tr>\n",
       "<tr>\n",
       "  <th>Last Activity_Email Opened</th>                           <td>    1.0199</td> <td>    0.211</td> <td>    4.829</td> <td> 0.000</td> <td>    0.606</td> <td>    1.434</td>\n",
       "</tr>\n",
       "<tr>\n",
       "  <th>Last Activity_Olark Chat Conversation</th>                <td>   -0.5738</td> <td>    0.261</td> <td>   -2.202</td> <td> 0.028</td> <td>   -1.085</td> <td>   -0.063</td>\n",
       "</tr>\n",
       "<tr>\n",
       "  <th>Last Activity_Others</th>                                 <td>    0.9345</td> <td>    0.269</td> <td>    3.468</td> <td> 0.001</td> <td>    0.406</td> <td>    1.463</td>\n",
       "</tr>\n",
       "<tr>\n",
       "  <th>Last Activity_Page Visited on Website</th>                <td>    0.2621</td> <td>    0.256</td> <td>    1.026</td> <td> 0.305</td> <td>   -0.239</td> <td>    0.763</td>\n",
       "</tr>\n",
       "<tr>\n",
       "  <th>Last Activity_SMS Sent</th>                               <td>    2.2096</td> <td>    0.213</td> <td>   10.396</td> <td> 0.000</td> <td>    1.793</td> <td>    2.626</td>\n",
       "</tr>\n",
       "<tr>\n",
       "  <th>Lead Source_Google</th>                                   <td>    0.1707</td> <td>    0.114</td> <td>    1.499</td> <td> 0.134</td> <td>   -0.052</td> <td>    0.394</td>\n",
       "</tr>\n",
       "<tr>\n",
       "  <th>Lead Source_Olark Chat</th>                               <td>    1.2358</td> <td>    0.165</td> <td>    7.480</td> <td> 0.000</td> <td>    0.912</td> <td>    1.560</td>\n",
       "</tr>\n",
       "<tr>\n",
       "  <th>Lead Source_Organic Search</th>                           <td>    0.1079</td> <td>    0.132</td> <td>    0.820</td> <td> 0.412</td> <td>   -0.150</td> <td>    0.366</td>\n",
       "</tr>\n",
       "<tr>\n",
       "  <th>Lead Source_Others</th>                                   <td>    0.4019</td> <td>    0.284</td> <td>    1.417</td> <td> 0.157</td> <td>   -0.154</td> <td>    0.958</td>\n",
       "</tr>\n",
       "<tr>\n",
       "  <th>Lead Source_Reference</th>                                <td>   -1.1127</td> <td>    0.492</td> <td>   -2.263</td> <td> 0.024</td> <td>   -2.076</td> <td>   -0.149</td>\n",
       "</tr>\n",
       "<tr>\n",
       "  <th>What is your current occupation_Student</th>              <td>   -0.1537</td> <td>    0.581</td> <td>   -0.265</td> <td> 0.791</td> <td>   -1.292</td> <td>    0.984</td>\n",
       "</tr>\n",
       "<tr>\n",
       "  <th>What is your current occupation_Unemployed</th>           <td>   -0.6226</td> <td>    0.536</td> <td>   -1.161</td> <td> 0.246</td> <td>   -1.674</td> <td>    0.428</td>\n",
       "</tr>\n",
       "<tr>\n",
       "  <th>What is your current occupation_Working Professional</th> <td>    1.9172</td> <td>    0.564</td> <td>    3.398</td> <td> 0.001</td> <td>    0.811</td> <td>    3.023</td>\n",
       "</tr>\n",
       "<tr>\n",
       "  <th>Specialization_Business Administration</th>               <td>   -0.3528</td> <td>    0.247</td> <td>   -1.428</td> <td> 0.153</td> <td>   -0.837</td> <td>    0.131</td>\n",
       "</tr>\n",
       "<tr>\n",
       "  <th>Specialization_Finance Management</th>                    <td>   -0.3148</td> <td>    0.216</td> <td>   -1.461</td> <td> 0.144</td> <td>   -0.737</td> <td>    0.108</td>\n",
       "</tr>\n",
       "<tr>\n",
       "  <th>Specialization_Healthcare Management</th>                 <td>   -0.3837</td> <td>    0.313</td> <td>   -1.227</td> <td> 0.220</td> <td>   -0.996</td> <td>    0.229</td>\n",
       "</tr>\n",
       "<tr>\n",
       "  <th>Specialization_Human Resource Management</th>             <td>   -0.1286</td> <td>    0.220</td> <td>   -0.585</td> <td> 0.559</td> <td>   -0.560</td> <td>    0.302</td>\n",
       "</tr>\n",
       "<tr>\n",
       "  <th>Specialization_IT Projects Management</th>                <td>   -0.3589</td> <td>    0.264</td> <td>   -1.361</td> <td> 0.173</td> <td>   -0.876</td> <td>    0.158</td>\n",
       "</tr>\n",
       "<tr>\n",
       "  <th>Specialization_International Business</th>                <td>   -0.0058</td> <td>    0.291</td> <td>   -0.020</td> <td> 0.984</td> <td>   -0.575</td> <td>    0.564</td>\n",
       "</tr>\n",
       "<tr>\n",
       "  <th>Specialization_Marketing Management</th>                  <td>   -0.0999</td> <td>    0.218</td> <td>   -0.458</td> <td> 0.647</td> <td>   -0.528</td> <td>    0.328</td>\n",
       "</tr>\n",
       "<tr>\n",
       "  <th>Specialization_Media and Advertising</th>                 <td>   -0.6058</td> <td>    0.292</td> <td>   -2.078</td> <td> 0.038</td> <td>   -1.177</td> <td>   -0.034</td>\n",
       "</tr>\n",
       "<tr>\n",
       "  <th>Specialization_Not Specified</th>                         <td>   -1.4308</td> <td>    0.222</td> <td>   -6.439</td> <td> 0.000</td> <td>   -1.866</td> <td>   -0.995</td>\n",
       "</tr>\n",
       "<tr>\n",
       "  <th>Specialization_Operations Management</th>                 <td>   -0.1641</td> <td>    0.242</td> <td>   -0.677</td> <td> 0.498</td> <td>   -0.639</td> <td>    0.311</td>\n",
       "</tr>\n",
       "<tr>\n",
       "  <th>Specialization_Others</th>                                <td>   -0.4006</td> <td>    0.244</td> <td>   -1.642</td> <td> 0.101</td> <td>   -0.879</td> <td>    0.078</td>\n",
       "</tr>\n",
       "<tr>\n",
       "  <th>Specialization_Supply Chain Management</th>               <td>   -0.3559</td> <td>    0.258</td> <td>   -1.379</td> <td> 0.168</td> <td>   -0.862</td> <td>    0.150</td>\n",
       "</tr>\n",
       "<tr>\n",
       "  <th>Specialization_Travel and Tourism</th>                    <td>   -0.4319</td> <td>    0.297</td> <td>   -1.454</td> <td> 0.146</td> <td>   -1.014</td> <td>    0.150</td>\n",
       "</tr>\n",
       "</table>"
      ],
      "text/plain": [
       "<class 'statsmodels.iolib.summary.Summary'>\n",
       "\"\"\"\n",
       "                 Generalized Linear Model Regression Results                  \n",
       "==============================================================================\n",
       "Dep. Variable:              Converted   No. Observations:                 6320\n",
       "Model:                            GLM   Df Residuals:                     6284\n",
       "Model Family:                Binomial   Df Model:                           35\n",
       "Link Function:                  Logit   Scale:                          1.0000\n",
       "Method:                          IRLS   Log-Likelihood:                -2647.0\n",
       "Date:                Mon, 17 Oct 2022   Deviance:                       5294.0\n",
       "Time:                        19:59:44   Pearson chi2:                 7.80e+03\n",
       "No. Iterations:                     6   Pseudo R-squ. (CS):             0.3885\n",
       "Covariance Type:            nonrobust                                         \n",
       "========================================================================================================================\n",
       "                                                           coef    std err          z      P>|z|      [0.025      0.975]\n",
       "------------------------------------------------------------------------------------------------------------------------\n",
       "const                                                   -1.5019      0.618     -2.429      0.015      -2.714      -0.290\n",
       "TotalVisits                                              1.5601      0.290      5.373      0.000       0.991       2.129\n",
       "Total Time Spent on Website                              4.4824      0.167     26.808      0.000       4.155       4.810\n",
       "Page Views Per Visit                                    -1.0454      0.249     -4.202      0.000      -1.533      -0.558\n",
       "A free copy of Mastering The Interview                  -0.1810      0.109     -1.661      0.097      -0.395       0.033\n",
       "Lead Origin_Landing Page Submission                     -0.9606      0.138     -6.954      0.000      -1.231      -0.690\n",
       "Lead Origin_Lead Add Form                                4.2741      0.442      9.669      0.000       3.408       5.141\n",
       "Lead Origin_Others                                      -0.4826      0.514     -0.939      0.348      -1.490       0.524\n",
       "Last Activity_Email Bounced                             -0.7386      0.363     -2.037      0.042      -1.449      -0.028\n",
       "Last Activity_Email Link Clicked                         0.6893      0.288      2.390      0.017       0.124       1.255\n",
       "Last Activity_Email Opened                               1.0199      0.211      4.829      0.000       0.606       1.434\n",
       "Last Activity_Olark Chat Conversation                   -0.5738      0.261     -2.202      0.028      -1.085      -0.063\n",
       "Last Activity_Others                                     0.9345      0.269      3.468      0.001       0.406       1.463\n",
       "Last Activity_Page Visited on Website                    0.2621      0.256      1.026      0.305      -0.239       0.763\n",
       "Last Activity_SMS Sent                                   2.2096      0.213     10.396      0.000       1.793       2.626\n",
       "Lead Source_Google                                       0.1707      0.114      1.499      0.134      -0.052       0.394\n",
       "Lead Source_Olark Chat                                   1.2358      0.165      7.480      0.000       0.912       1.560\n",
       "Lead Source_Organic Search                               0.1079      0.132      0.820      0.412      -0.150       0.366\n",
       "Lead Source_Others                                       0.4019      0.284      1.417      0.157      -0.154       0.958\n",
       "Lead Source_Reference                                   -1.1127      0.492     -2.263      0.024      -2.076      -0.149\n",
       "What is your current occupation_Student                 -0.1537      0.581     -0.265      0.791      -1.292       0.984\n",
       "What is your current occupation_Unemployed              -0.6226      0.536     -1.161      0.246      -1.674       0.428\n",
       "What is your current occupation_Working Professional     1.9172      0.564      3.398      0.001       0.811       3.023\n",
       "Specialization_Business Administration                  -0.3528      0.247     -1.428      0.153      -0.837       0.131\n",
       "Specialization_Finance Management                       -0.3148      0.216     -1.461      0.144      -0.737       0.108\n",
       "Specialization_Healthcare Management                    -0.3837      0.313     -1.227      0.220      -0.996       0.229\n",
       "Specialization_Human Resource Management                -0.1286      0.220     -0.585      0.559      -0.560       0.302\n",
       "Specialization_IT Projects Management                   -0.3589      0.264     -1.361      0.173      -0.876       0.158\n",
       "Specialization_International Business                   -0.0058      0.291     -0.020      0.984      -0.575       0.564\n",
       "Specialization_Marketing Management                     -0.0999      0.218     -0.458      0.647      -0.528       0.328\n",
       "Specialization_Media and Advertising                    -0.6058      0.292     -2.078      0.038      -1.177      -0.034\n",
       "Specialization_Not Specified                            -1.4308      0.222     -6.439      0.000      -1.866      -0.995\n",
       "Specialization_Operations Management                    -0.1641      0.242     -0.677      0.498      -0.639       0.311\n",
       "Specialization_Others                                   -0.4006      0.244     -1.642      0.101      -0.879       0.078\n",
       "Specialization_Supply Chain Management                  -0.3559      0.258     -1.379      0.168      -0.862       0.150\n",
       "Specialization_Travel and Tourism                       -0.4319      0.297     -1.454      0.146      -1.014       0.150\n",
       "========================================================================================================================\n",
       "\"\"\""
      ]
     },
     "execution_count": 504,
     "metadata": {},
     "output_type": "execute_result"
    }
   ],
   "source": [
    "# Logistic regression model\n",
    "logm1 = sm.GLM(y_train,(sm.add_constant(X_train)), family = sm.families.Binomial())\n",
    "logm1.fit().summary()"
   ]
  },
  {
   "cell_type": "code",
   "execution_count": 505,
   "id": "10920f9f",
   "metadata": {},
   "outputs": [
    {
     "name": "stdout",
     "output_type": "stream",
     "text": [
      "35\n"
     ]
    }
   ],
   "source": [
    "#Total number of columns\n",
    "print(len(X_train.columns))"
   ]
  },
  {
   "cell_type": "markdown",
   "id": "14ec1d65",
   "metadata": {},
   "source": [
    "#### Step 10.1: Defining Logistic Regression"
   ]
  },
  {
   "cell_type": "code",
   "execution_count": 506,
   "id": "3ce4e97e",
   "metadata": {},
   "outputs": [],
   "source": [
    "logreg = LogisticRegression()"
   ]
  },
  {
   "cell_type": "markdown",
   "id": "f12945fe",
   "metadata": {},
   "source": [
    "#### Step 10.2: Running RFE with 20 variables as output"
   ]
  },
  {
   "cell_type": "code",
   "execution_count": 507,
   "id": "160f8796",
   "metadata": {},
   "outputs": [],
   "source": [
    "rfe = RFE(logreg, step = 20)           \n",
    "rfe = rfe.fit(X_train, y_train)"
   ]
  },
  {
   "cell_type": "markdown",
   "id": "7c940261",
   "metadata": {},
   "source": [
    "#### Step 10.3: Checking the columns where RFE is supported"
   ]
  },
  {
   "cell_type": "code",
   "execution_count": 508,
   "id": "9a5ffb1a",
   "metadata": {},
   "outputs": [
    {
     "data": {
      "text/plain": [
       "[('TotalVisits', True, 1),\n",
       " ('Total Time Spent on Website', True, 1),\n",
       " ('Page Views Per Visit', True, 1),\n",
       " ('A free copy of Mastering The Interview', False, 2),\n",
       " ('Lead Origin_Landing Page Submission', True, 1),\n",
       " ('Lead Origin_Lead Add Form', True, 1),\n",
       " ('Lead Origin_Others', True, 1),\n",
       " ('Last Activity_Email Bounced', True, 1),\n",
       " ('Last Activity_Email Link Clicked', True, 1),\n",
       " ('Last Activity_Email Opened', True, 1),\n",
       " ('Last Activity_Olark Chat Conversation', True, 1),\n",
       " ('Last Activity_Others', True, 1),\n",
       " ('Last Activity_Page Visited on Website', False, 2),\n",
       " ('Last Activity_SMS Sent', True, 1),\n",
       " ('Lead Source_Google', False, 2),\n",
       " ('Lead Source_Olark Chat', True, 1),\n",
       " ('Lead Source_Organic Search', False, 2),\n",
       " ('Lead Source_Others', True, 1),\n",
       " ('Lead Source_Reference', False, 2),\n",
       " ('What is your current occupation_Student', False, 2),\n",
       " ('What is your current occupation_Unemployed', True, 1),\n",
       " ('What is your current occupation_Working Professional', True, 1),\n",
       " ('Specialization_Business Administration', False, 2),\n",
       " ('Specialization_Finance Management', False, 2),\n",
       " ('Specialization_Healthcare Management', False, 2),\n",
       " ('Specialization_Human Resource Management', False, 2),\n",
       " ('Specialization_IT Projects Management', False, 2),\n",
       " ('Specialization_International Business', False, 2),\n",
       " ('Specialization_Marketing Management', False, 2),\n",
       " ('Specialization_Media and Advertising', False, 2),\n",
       " ('Specialization_Not Specified', True, 1),\n",
       " ('Specialization_Operations Management', False, 2),\n",
       " ('Specialization_Others', False, 2),\n",
       " ('Specialization_Supply Chain Management', False, 2),\n",
       " ('Specialization_Travel and Tourism', False, 2)]"
      ]
     },
     "execution_count": 508,
     "metadata": {},
     "output_type": "execute_result"
    }
   ],
   "source": [
    "list(zip(X_train.columns, rfe.support_, rfe.ranking_))"
   ]
  },
  {
   "cell_type": "code",
   "execution_count": 509,
   "id": "ff57074f",
   "metadata": {},
   "outputs": [
    {
     "data": {
      "text/plain": [
       "Index(['TotalVisits', 'Total Time Spent on Website', 'Page Views Per Visit',\n",
       "       'Lead Origin_Landing Page Submission', 'Lead Origin_Lead Add Form',\n",
       "       'Lead Origin_Others', 'Last Activity_Email Bounced',\n",
       "       'Last Activity_Email Link Clicked', 'Last Activity_Email Opened',\n",
       "       'Last Activity_Olark Chat Conversation', 'Last Activity_Others',\n",
       "       'Last Activity_SMS Sent', 'Lead Source_Olark Chat',\n",
       "       'Lead Source_Others', 'What is your current occupation_Unemployed',\n",
       "       'What is your current occupation_Working Professional',\n",
       "       'Specialization_Not Specified'],\n",
       "      dtype='object')"
      ]
     },
     "execution_count": 509,
     "metadata": {},
     "output_type": "execute_result"
    }
   ],
   "source": [
    "col = X_train.columns[rfe.support_]\n",
    "col"
   ]
  },
  {
   "cell_type": "code",
   "execution_count": 510,
   "id": "a4b88686",
   "metadata": {},
   "outputs": [
    {
     "data": {
      "text/plain": [
       "Index(['A free copy of Mastering The Interview',\n",
       "       'Last Activity_Page Visited on Website', 'Lead Source_Google',\n",
       "       'Lead Source_Organic Search', 'Lead Source_Reference',\n",
       "       'What is your current occupation_Student',\n",
       "       'Specialization_Business Administration',\n",
       "       'Specialization_Finance Management',\n",
       "       'Specialization_Healthcare Management',\n",
       "       'Specialization_Human Resource Management',\n",
       "       'Specialization_IT Projects Management',\n",
       "       'Specialization_International Business',\n",
       "       'Specialization_Marketing Management',\n",
       "       'Specialization_Media and Advertising',\n",
       "       'Specialization_Operations Management', 'Specialization_Others',\n",
       "       'Specialization_Supply Chain Management',\n",
       "       'Specialization_Travel and Tourism'],\n",
       "      dtype='object')"
      ]
     },
     "execution_count": 510,
     "metadata": {},
     "output_type": "execute_result"
    }
   ],
   "source": [
    "#Columns that have been rejected because of RFE.\n",
    "X_train.columns[~rfe.support_]"
   ]
  },
  {
   "cell_type": "markdown",
   "id": "0e1d7b2e",
   "metadata": {},
   "source": [
    "## Step 11: Model Building\n"
   ]
  },
  {
   "cell_type": "markdown",
   "id": "2de948d2",
   "metadata": {},
   "source": [
    "#### Step 11.1: Model 2"
   ]
  },
  {
   "cell_type": "code",
   "execution_count": 511,
   "id": "d9bff19c",
   "metadata": {},
   "outputs": [
    {
     "data": {
      "text/html": [
       "<table class=\"simpletable\">\n",
       "<caption>Generalized Linear Model Regression Results</caption>\n",
       "<tr>\n",
       "  <th>Dep. Variable:</th>       <td>Converted</td>    <th>  No. Observations:  </th>  <td>  6320</td> \n",
       "</tr>\n",
       "<tr>\n",
       "  <th>Model:</th>                  <td>GLM</td>       <th>  Df Residuals:      </th>  <td>  6302</td> \n",
       "</tr>\n",
       "<tr>\n",
       "  <th>Model Family:</th>        <td>Binomial</td>     <th>  Df Model:          </th>  <td>    17</td> \n",
       "</tr>\n",
       "<tr>\n",
       "  <th>Link Function:</th>         <td>Logit</td>      <th>  Scale:             </th> <td>  1.0000</td>\n",
       "</tr>\n",
       "<tr>\n",
       "  <th>Method:</th>                <td>IRLS</td>       <th>  Log-Likelihood:    </th> <td> -2663.9</td>\n",
       "</tr>\n",
       "<tr>\n",
       "  <th>Date:</th>            <td>Mon, 17 Oct 2022</td> <th>  Deviance:          </th> <td>  5327.8</td>\n",
       "</tr>\n",
       "<tr>\n",
       "  <th>Time:</th>                <td>19:59:44</td>     <th>  Pearson chi2:      </th> <td>8.11e+03</td>\n",
       "</tr>\n",
       "<tr>\n",
       "  <th>No. Iterations:</th>          <td>6</td>        <th>  Pseudo R-squ. (CS):</th>  <td>0.3853</td> \n",
       "</tr>\n",
       "<tr>\n",
       "  <th>Covariance Type:</th>     <td>nonrobust</td>    <th>                     </th>     <td> </td>   \n",
       "</tr>\n",
       "</table>\n",
       "<table class=\"simpletable\">\n",
       "<tr>\n",
       "                            <td></td>                              <th>coef</th>     <th>std err</th>      <th>z</th>      <th>P>|z|</th>  <th>[0.025</th>    <th>0.975]</th>  \n",
       "</tr>\n",
       "<tr>\n",
       "  <th>const</th>                                                <td>   -1.7190</td> <td>    0.279</td> <td>   -6.164</td> <td> 0.000</td> <td>   -2.266</td> <td>   -1.172</td>\n",
       "</tr>\n",
       "<tr>\n",
       "  <th>TotalVisits</th>                                          <td>    1.5966</td> <td>    0.279</td> <td>    5.727</td> <td> 0.000</td> <td>    1.050</td> <td>    2.143</td>\n",
       "</tr>\n",
       "<tr>\n",
       "  <th>Total Time Spent on Website</th>                          <td>    4.4890</td> <td>    0.166</td> <td>   26.976</td> <td> 0.000</td> <td>    4.163</td> <td>    4.815</td>\n",
       "</tr>\n",
       "<tr>\n",
       "  <th>Page Views Per Visit</th>                                 <td>   -0.9455</td> <td>    0.243</td> <td>   -3.899</td> <td> 0.000</td> <td>   -1.421</td> <td>   -0.470</td>\n",
       "</tr>\n",
       "<tr>\n",
       "  <th>Lead Origin_Landing Page Submission</th>                  <td>   -1.0745</td> <td>    0.130</td> <td>   -8.285</td> <td> 0.000</td> <td>   -1.329</td> <td>   -0.820</td>\n",
       "</tr>\n",
       "<tr>\n",
       "  <th>Lead Origin_Lead Add Form</th>                            <td>    3.3929</td> <td>    0.219</td> <td>   15.508</td> <td> 0.000</td> <td>    2.964</td> <td>    3.822</td>\n",
       "</tr>\n",
       "<tr>\n",
       "  <th>Lead Origin_Others</th>                                   <td>   -0.7736</td> <td>    0.494</td> <td>   -1.567</td> <td> 0.117</td> <td>   -1.741</td> <td>    0.194</td>\n",
       "</tr>\n",
       "<tr>\n",
       "  <th>Last Activity_Email Bounced</th>                          <td>   -0.8517</td> <td>    0.317</td> <td>   -2.687</td> <td> 0.007</td> <td>   -1.473</td> <td>   -0.230</td>\n",
       "</tr>\n",
       "<tr>\n",
       "  <th>Last Activity_Email Link Clicked</th>                     <td>    0.5542</td> <td>    0.235</td> <td>    2.356</td> <td> 0.018</td> <td>    0.093</td> <td>    1.015</td>\n",
       "</tr>\n",
       "<tr>\n",
       "  <th>Last Activity_Email Opened</th>                           <td>    0.8811</td> <td>    0.130</td> <td>    6.768</td> <td> 0.000</td> <td>    0.626</td> <td>    1.136</td>\n",
       "</tr>\n",
       "<tr>\n",
       "  <th>Last Activity_Olark Chat Conversation</th>                <td>   -0.7141</td> <td>    0.199</td> <td>   -3.583</td> <td> 0.000</td> <td>   -1.105</td> <td>   -0.323</td>\n",
       "</tr>\n",
       "<tr>\n",
       "  <th>Last Activity_Others</th>                                 <td>    0.7970</td> <td>    0.212</td> <td>    3.753</td> <td> 0.000</td> <td>    0.381</td> <td>    1.213</td>\n",
       "</tr>\n",
       "<tr>\n",
       "  <th>Last Activity_SMS Sent</th>                               <td>    2.0683</td> <td>    0.134</td> <td>   15.425</td> <td> 0.000</td> <td>    1.806</td> <td>    2.331</td>\n",
       "</tr>\n",
       "<tr>\n",
       "  <th>Lead Source_Olark Chat</th>                               <td>    1.1464</td> <td>    0.140</td> <td>    8.193</td> <td> 0.000</td> <td>    0.872</td> <td>    1.421</td>\n",
       "</tr>\n",
       "<tr>\n",
       "  <th>Lead Source_Others</th>                                   <td>    0.5968</td> <td>    0.225</td> <td>    2.653</td> <td> 0.008</td> <td>    0.156</td> <td>    1.038</td>\n",
       "</tr>\n",
       "<tr>\n",
       "  <th>What is your current occupation_Unemployed</th>           <td>   -0.4736</td> <td>    0.211</td> <td>   -2.241</td> <td> 0.025</td> <td>   -0.888</td> <td>   -0.059</td>\n",
       "</tr>\n",
       "<tr>\n",
       "  <th>What is your current occupation_Working Professional</th> <td>    2.0605</td> <td>    0.276</td> <td>    7.460</td> <td> 0.000</td> <td>    1.519</td> <td>    2.602</td>\n",
       "</tr>\n",
       "<tr>\n",
       "  <th>Specialization_Not Specified</th>                         <td>   -1.1312</td> <td>    0.125</td> <td>   -9.068</td> <td> 0.000</td> <td>   -1.376</td> <td>   -0.887</td>\n",
       "</tr>\n",
       "</table>"
      ],
      "text/plain": [
       "<class 'statsmodels.iolib.summary.Summary'>\n",
       "\"\"\"\n",
       "                 Generalized Linear Model Regression Results                  \n",
       "==============================================================================\n",
       "Dep. Variable:              Converted   No. Observations:                 6320\n",
       "Model:                            GLM   Df Residuals:                     6302\n",
       "Model Family:                Binomial   Df Model:                           17\n",
       "Link Function:                  Logit   Scale:                          1.0000\n",
       "Method:                          IRLS   Log-Likelihood:                -2663.9\n",
       "Date:                Mon, 17 Oct 2022   Deviance:                       5327.8\n",
       "Time:                        19:59:44   Pearson chi2:                 8.11e+03\n",
       "No. Iterations:                     6   Pseudo R-squ. (CS):             0.3853\n",
       "Covariance Type:            nonrobust                                         \n",
       "========================================================================================================================\n",
       "                                                           coef    std err          z      P>|z|      [0.025      0.975]\n",
       "------------------------------------------------------------------------------------------------------------------------\n",
       "const                                                   -1.7190      0.279     -6.164      0.000      -2.266      -1.172\n",
       "TotalVisits                                              1.5966      0.279      5.727      0.000       1.050       2.143\n",
       "Total Time Spent on Website                              4.4890      0.166     26.976      0.000       4.163       4.815\n",
       "Page Views Per Visit                                    -0.9455      0.243     -3.899      0.000      -1.421      -0.470\n",
       "Lead Origin_Landing Page Submission                     -1.0745      0.130     -8.285      0.000      -1.329      -0.820\n",
       "Lead Origin_Lead Add Form                                3.3929      0.219     15.508      0.000       2.964       3.822\n",
       "Lead Origin_Others                                      -0.7736      0.494     -1.567      0.117      -1.741       0.194\n",
       "Last Activity_Email Bounced                             -0.8517      0.317     -2.687      0.007      -1.473      -0.230\n",
       "Last Activity_Email Link Clicked                         0.5542      0.235      2.356      0.018       0.093       1.015\n",
       "Last Activity_Email Opened                               0.8811      0.130      6.768      0.000       0.626       1.136\n",
       "Last Activity_Olark Chat Conversation                   -0.7141      0.199     -3.583      0.000      -1.105      -0.323\n",
       "Last Activity_Others                                     0.7970      0.212      3.753      0.000       0.381       1.213\n",
       "Last Activity_SMS Sent                                   2.0683      0.134     15.425      0.000       1.806       2.331\n",
       "Lead Source_Olark Chat                                   1.1464      0.140      8.193      0.000       0.872       1.421\n",
       "Lead Source_Others                                       0.5968      0.225      2.653      0.008       0.156       1.038\n",
       "What is your current occupation_Unemployed              -0.4736      0.211     -2.241      0.025      -0.888      -0.059\n",
       "What is your current occupation_Working Professional     2.0605      0.276      7.460      0.000       1.519       2.602\n",
       "Specialization_Not Specified                            -1.1312      0.125     -9.068      0.000      -1.376      -0.887\n",
       "========================================================================================================================\n",
       "\"\"\""
      ]
     },
     "execution_count": 511,
     "metadata": {},
     "output_type": "execute_result"
    }
   ],
   "source": [
    "X_train_sm = sm.add_constant(X_train[col])\n",
    "logm2 = sm.GLM(y_train,X_train_sm, family = sm.families.Binomial())\n",
    "res = logm2.fit()\n",
    "res.summary()"
   ]
  },
  {
   "cell_type": "code",
   "execution_count": 512,
   "id": "2fecdc27",
   "metadata": {},
   "outputs": [
    {
     "data": {
      "text/html": [
       "<div>\n",
       "<style scoped>\n",
       "    .dataframe tbody tr th:only-of-type {\n",
       "        vertical-align: middle;\n",
       "    }\n",
       "\n",
       "    .dataframe tbody tr th {\n",
       "        vertical-align: top;\n",
       "    }\n",
       "\n",
       "    .dataframe thead th {\n",
       "        text-align: right;\n",
       "    }\n",
       "</style>\n",
       "<table border=\"1\" class=\"dataframe\">\n",
       "  <thead>\n",
       "    <tr style=\"text-align: right;\">\n",
       "      <th></th>\n",
       "      <th>Features</th>\n",
       "      <th>VIF</th>\n",
       "    </tr>\n",
       "  </thead>\n",
       "  <tbody>\n",
       "    <tr>\n",
       "      <th>14</th>\n",
       "      <td>What is your current occupation_Unemployed</td>\n",
       "      <td>14.87</td>\n",
       "    </tr>\n",
       "    <tr>\n",
       "      <th>2</th>\n",
       "      <td>Page Views Per Visit</td>\n",
       "      <td>6.87</td>\n",
       "    </tr>\n",
       "    <tr>\n",
       "      <th>3</th>\n",
       "      <td>Lead Origin_Landing Page Submission</td>\n",
       "      <td>6.04</td>\n",
       "    </tr>\n",
       "    <tr>\n",
       "      <th>0</th>\n",
       "      <td>TotalVisits</td>\n",
       "      <td>4.87</td>\n",
       "    </tr>\n",
       "    <tr>\n",
       "      <th>8</th>\n",
       "      <td>Last Activity_Email Opened</td>\n",
       "      <td>4.10</td>\n",
       "    </tr>\n",
       "    <tr>\n",
       "      <th>16</th>\n",
       "      <td>Specialization_Not Specified</td>\n",
       "      <td>4.03</td>\n",
       "    </tr>\n",
       "    <tr>\n",
       "      <th>11</th>\n",
       "      <td>Last Activity_SMS Sent</td>\n",
       "      <td>3.53</td>\n",
       "    </tr>\n",
       "    <tr>\n",
       "      <th>12</th>\n",
       "      <td>Lead Source_Olark Chat</td>\n",
       "      <td>2.89</td>\n",
       "    </tr>\n",
       "    <tr>\n",
       "      <th>9</th>\n",
       "      <td>Last Activity_Olark Chat Conversation</td>\n",
       "      <td>2.26</td>\n",
       "    </tr>\n",
       "    <tr>\n",
       "      <th>1</th>\n",
       "      <td>Total Time Spent on Website</td>\n",
       "      <td>2.24</td>\n",
       "    </tr>\n",
       "    <tr>\n",
       "      <th>15</th>\n",
       "      <td>What is your current occupation_Working Profes...</td>\n",
       "      <td>2.11</td>\n",
       "    </tr>\n",
       "    <tr>\n",
       "      <th>4</th>\n",
       "      <td>Lead Origin_Lead Add Form</td>\n",
       "      <td>1.80</td>\n",
       "    </tr>\n",
       "    <tr>\n",
       "      <th>13</th>\n",
       "      <td>Lead Source_Others</td>\n",
       "      <td>1.44</td>\n",
       "    </tr>\n",
       "    <tr>\n",
       "      <th>6</th>\n",
       "      <td>Last Activity_Email Bounced</td>\n",
       "      <td>1.30</td>\n",
       "    </tr>\n",
       "    <tr>\n",
       "      <th>10</th>\n",
       "      <td>Last Activity_Others</td>\n",
       "      <td>1.29</td>\n",
       "    </tr>\n",
       "    <tr>\n",
       "      <th>5</th>\n",
       "      <td>Lead Origin_Others</td>\n",
       "      <td>1.27</td>\n",
       "    </tr>\n",
       "    <tr>\n",
       "      <th>7</th>\n",
       "      <td>Last Activity_Email Link Clicked</td>\n",
       "      <td>1.25</td>\n",
       "    </tr>\n",
       "  </tbody>\n",
       "</table>\n",
       "</div>"
      ],
      "text/plain": [
       "                                             Features    VIF\n",
       "14         What is your current occupation_Unemployed  14.87\n",
       "2                                Page Views Per Visit   6.87\n",
       "3                 Lead Origin_Landing Page Submission   6.04\n",
       "0                                         TotalVisits   4.87\n",
       "8                          Last Activity_Email Opened   4.10\n",
       "16                       Specialization_Not Specified   4.03\n",
       "11                             Last Activity_SMS Sent   3.53\n",
       "12                             Lead Source_Olark Chat   2.89\n",
       "9               Last Activity_Olark Chat Conversation   2.26\n",
       "1                         Total Time Spent on Website   2.24\n",
       "15  What is your current occupation_Working Profes...   2.11\n",
       "4                           Lead Origin_Lead Add Form   1.80\n",
       "13                                 Lead Source_Others   1.44\n",
       "6                         Last Activity_Email Bounced   1.30\n",
       "10                               Last Activity_Others   1.29\n",
       "5                                  Lead Origin_Others   1.27\n",
       "7                    Last Activity_Email Link Clicked   1.25"
      ]
     },
     "execution_count": 512,
     "metadata": {},
     "output_type": "execute_result"
    }
   ],
   "source": [
    "# Create a dataframe that will contain the names of all the feature variables and their respective VIFs\n",
    "vif = pd.DataFrame()\n",
    "vif['Features'] = X_train[col].columns\n",
    "vif['VIF'] = [variance_inflation_factor(X_train[col].values, i) for i in range(X_train[col].shape[1])]\n",
    "vif['VIF'] = round(vif['VIF'], 2)\n",
    "vif = vif.sort_values(by = \"VIF\", ascending = False)\n",
    "vif"
   ]
  },
  {
   "cell_type": "markdown",
   "id": "adaeff3e",
   "metadata": {},
   "source": [
    "<span Style=\"color:blue\">\n",
    "    \n",
    "- Removing column \"What is your current occupation_Unemployed\" as it has a high VIF value and hence it is insignificant.\n",
    "\n",
    "</span>"
   ]
  },
  {
   "cell_type": "code",
   "execution_count": 513,
   "id": "1148f073",
   "metadata": {},
   "outputs": [],
   "source": [
    "#Removing column \"What is your current occupation_Unemployed\" as it has a high p value and hence it is insignificant\n",
    "col = col.drop('What is your current occupation_Unemployed',1)"
   ]
  },
  {
   "cell_type": "code",
   "execution_count": 514,
   "id": "eb32d1b0",
   "metadata": {},
   "outputs": [
    {
     "data": {
      "text/plain": [
       "16"
      ]
     },
     "execution_count": 514,
     "metadata": {},
     "output_type": "execute_result"
    }
   ],
   "source": [
    "len(col)"
   ]
  },
  {
   "cell_type": "markdown",
   "id": "56ddf70d",
   "metadata": {},
   "source": [
    "#### Step 11.2: Model 3"
   ]
  },
  {
   "cell_type": "code",
   "execution_count": 515,
   "id": "c37f61f7",
   "metadata": {},
   "outputs": [
    {
     "data": {
      "text/html": [
       "<table class=\"simpletable\">\n",
       "<caption>Generalized Linear Model Regression Results</caption>\n",
       "<tr>\n",
       "  <th>Dep. Variable:</th>       <td>Converted</td>    <th>  No. Observations:  </th>  <td>  6320</td> \n",
       "</tr>\n",
       "<tr>\n",
       "  <th>Model:</th>                  <td>GLM</td>       <th>  Df Residuals:      </th>  <td>  6303</td> \n",
       "</tr>\n",
       "<tr>\n",
       "  <th>Model Family:</th>        <td>Binomial</td>     <th>  Df Model:          </th>  <td>    16</td> \n",
       "</tr>\n",
       "<tr>\n",
       "  <th>Link Function:</th>         <td>Logit</td>      <th>  Scale:             </th> <td>  1.0000</td>\n",
       "</tr>\n",
       "<tr>\n",
       "  <th>Method:</th>                <td>IRLS</td>       <th>  Log-Likelihood:    </th> <td> -2666.4</td>\n",
       "</tr>\n",
       "<tr>\n",
       "  <th>Date:</th>            <td>Mon, 17 Oct 2022</td> <th>  Deviance:          </th> <td>  5332.8</td>\n",
       "</tr>\n",
       "<tr>\n",
       "  <th>Time:</th>                <td>19:59:45</td>     <th>  Pearson chi2:      </th> <td>8.12e+03</td>\n",
       "</tr>\n",
       "<tr>\n",
       "  <th>No. Iterations:</th>          <td>6</td>        <th>  Pseudo R-squ. (CS):</th>  <td>0.3848</td> \n",
       "</tr>\n",
       "<tr>\n",
       "  <th>Covariance Type:</th>     <td>nonrobust</td>    <th>                     </th>     <td> </td>   \n",
       "</tr>\n",
       "</table>\n",
       "<table class=\"simpletable\">\n",
       "<tr>\n",
       "                            <td></td>                              <th>coef</th>     <th>std err</th>      <th>z</th>      <th>P>|z|</th>  <th>[0.025</th>    <th>0.975]</th>  \n",
       "</tr>\n",
       "<tr>\n",
       "  <th>const</th>                                                <td>   -2.1744</td> <td>    0.191</td> <td>  -11.361</td> <td> 0.000</td> <td>   -2.549</td> <td>   -1.799</td>\n",
       "</tr>\n",
       "<tr>\n",
       "  <th>TotalVisits</th>                                          <td>    1.6066</td> <td>    0.279</td> <td>    5.766</td> <td> 0.000</td> <td>    1.060</td> <td>    2.153</td>\n",
       "</tr>\n",
       "<tr>\n",
       "  <th>Total Time Spent on Website</th>                          <td>    4.4971</td> <td>    0.166</td> <td>   27.028</td> <td> 0.000</td> <td>    4.171</td> <td>    4.823</td>\n",
       "</tr>\n",
       "<tr>\n",
       "  <th>Page Views Per Visit</th>                                 <td>   -0.9637</td> <td>    0.242</td> <td>   -3.978</td> <td> 0.000</td> <td>   -1.438</td> <td>   -0.489</td>\n",
       "</tr>\n",
       "<tr>\n",
       "  <th>Lead Origin_Landing Page Submission</th>                  <td>   -1.0728</td> <td>    0.130</td> <td>   -8.270</td> <td> 0.000</td> <td>   -1.327</td> <td>   -0.819</td>\n",
       "</tr>\n",
       "<tr>\n",
       "  <th>Lead Origin_Lead Add Form</th>                            <td>    3.4011</td> <td>    0.219</td> <td>   15.559</td> <td> 0.000</td> <td>    2.973</td> <td>    3.830</td>\n",
       "</tr>\n",
       "<tr>\n",
       "  <th>Lead Origin_Others</th>                                   <td>   -0.7755</td> <td>    0.494</td> <td>   -1.571</td> <td> 0.116</td> <td>   -1.743</td> <td>    0.192</td>\n",
       "</tr>\n",
       "<tr>\n",
       "  <th>Last Activity_Email Bounced</th>                          <td>   -0.8530</td> <td>    0.317</td> <td>   -2.688</td> <td> 0.007</td> <td>   -1.475</td> <td>   -0.231</td>\n",
       "</tr>\n",
       "<tr>\n",
       "  <th>Last Activity_Email Link Clicked</th>                     <td>    0.5452</td> <td>    0.235</td> <td>    2.319</td> <td> 0.020</td> <td>    0.084</td> <td>    1.006</td>\n",
       "</tr>\n",
       "<tr>\n",
       "  <th>Last Activity_Email Opened</th>                           <td>    0.8816</td> <td>    0.130</td> <td>    6.775</td> <td> 0.000</td> <td>    0.627</td> <td>    1.137</td>\n",
       "</tr>\n",
       "<tr>\n",
       "  <th>Last Activity_Olark Chat Conversation</th>                <td>   -0.7071</td> <td>    0.199</td> <td>   -3.554</td> <td> 0.000</td> <td>   -1.097</td> <td>   -0.317</td>\n",
       "</tr>\n",
       "<tr>\n",
       "  <th>Last Activity_Others</th>                                 <td>    0.7857</td> <td>    0.212</td> <td>    3.699</td> <td> 0.000</td> <td>    0.369</td> <td>    1.202</td>\n",
       "</tr>\n",
       "<tr>\n",
       "  <th>Last Activity_SMS Sent</th>                               <td>    2.0573</td> <td>    0.134</td> <td>   15.367</td> <td> 0.000</td> <td>    1.795</td> <td>    2.320</td>\n",
       "</tr>\n",
       "<tr>\n",
       "  <th>Lead Source_Olark Chat</th>                               <td>    1.1512</td> <td>    0.140</td> <td>    8.231</td> <td> 0.000</td> <td>    0.877</td> <td>    1.425</td>\n",
       "</tr>\n",
       "<tr>\n",
       "  <th>Lead Source_Others</th>                                   <td>    0.5877</td> <td>    0.225</td> <td>    2.610</td> <td> 0.009</td> <td>    0.146</td> <td>    1.029</td>\n",
       "</tr>\n",
       "<tr>\n",
       "  <th>What is your current occupation_Working Professional</th> <td>    2.5199</td> <td>    0.185</td> <td>   13.589</td> <td> 0.000</td> <td>    2.156</td> <td>    2.883</td>\n",
       "</tr>\n",
       "<tr>\n",
       "  <th>Specialization_Not Specified</th>                         <td>   -1.1359</td> <td>    0.125</td> <td>   -9.098</td> <td> 0.000</td> <td>   -1.381</td> <td>   -0.891</td>\n",
       "</tr>\n",
       "</table>"
      ],
      "text/plain": [
       "<class 'statsmodels.iolib.summary.Summary'>\n",
       "\"\"\"\n",
       "                 Generalized Linear Model Regression Results                  \n",
       "==============================================================================\n",
       "Dep. Variable:              Converted   No. Observations:                 6320\n",
       "Model:                            GLM   Df Residuals:                     6303\n",
       "Model Family:                Binomial   Df Model:                           16\n",
       "Link Function:                  Logit   Scale:                          1.0000\n",
       "Method:                          IRLS   Log-Likelihood:                -2666.4\n",
       "Date:                Mon, 17 Oct 2022   Deviance:                       5332.8\n",
       "Time:                        19:59:45   Pearson chi2:                 8.12e+03\n",
       "No. Iterations:                     6   Pseudo R-squ. (CS):             0.3848\n",
       "Covariance Type:            nonrobust                                         \n",
       "========================================================================================================================\n",
       "                                                           coef    std err          z      P>|z|      [0.025      0.975]\n",
       "------------------------------------------------------------------------------------------------------------------------\n",
       "const                                                   -2.1744      0.191    -11.361      0.000      -2.549      -1.799\n",
       "TotalVisits                                              1.6066      0.279      5.766      0.000       1.060       2.153\n",
       "Total Time Spent on Website                              4.4971      0.166     27.028      0.000       4.171       4.823\n",
       "Page Views Per Visit                                    -0.9637      0.242     -3.978      0.000      -1.438      -0.489\n",
       "Lead Origin_Landing Page Submission                     -1.0728      0.130     -8.270      0.000      -1.327      -0.819\n",
       "Lead Origin_Lead Add Form                                3.4011      0.219     15.559      0.000       2.973       3.830\n",
       "Lead Origin_Others                                      -0.7755      0.494     -1.571      0.116      -1.743       0.192\n",
       "Last Activity_Email Bounced                             -0.8530      0.317     -2.688      0.007      -1.475      -0.231\n",
       "Last Activity_Email Link Clicked                         0.5452      0.235      2.319      0.020       0.084       1.006\n",
       "Last Activity_Email Opened                               0.8816      0.130      6.775      0.000       0.627       1.137\n",
       "Last Activity_Olark Chat Conversation                   -0.7071      0.199     -3.554      0.000      -1.097      -0.317\n",
       "Last Activity_Others                                     0.7857      0.212      3.699      0.000       0.369       1.202\n",
       "Last Activity_SMS Sent                                   2.0573      0.134     15.367      0.000       1.795       2.320\n",
       "Lead Source_Olark Chat                                   1.1512      0.140      8.231      0.000       0.877       1.425\n",
       "Lead Source_Others                                       0.5877      0.225      2.610      0.009       0.146       1.029\n",
       "What is your current occupation_Working Professional     2.5199      0.185     13.589      0.000       2.156       2.883\n",
       "Specialization_Not Specified                            -1.1359      0.125     -9.098      0.000      -1.381      -0.891\n",
       "========================================================================================================================\n",
       "\"\"\""
      ]
     },
     "execution_count": 515,
     "metadata": {},
     "output_type": "execute_result"
    }
   ],
   "source": [
    "X_train_sm = sm.add_constant(X_train[col])\n",
    "logm3 = sm.GLM(y_train,X_train_sm, family = sm.families.Binomial())\n",
    "res = logm3.fit()\n",
    "res.summary()"
   ]
  },
  {
   "cell_type": "code",
   "execution_count": 516,
   "id": "8c6f6d3c",
   "metadata": {},
   "outputs": [
    {
     "data": {
      "text/html": [
       "<div>\n",
       "<style scoped>\n",
       "    .dataframe tbody tr th:only-of-type {\n",
       "        vertical-align: middle;\n",
       "    }\n",
       "\n",
       "    .dataframe tbody tr th {\n",
       "        vertical-align: top;\n",
       "    }\n",
       "\n",
       "    .dataframe thead th {\n",
       "        text-align: right;\n",
       "    }\n",
       "</style>\n",
       "<table border=\"1\" class=\"dataframe\">\n",
       "  <thead>\n",
       "    <tr style=\"text-align: right;\">\n",
       "      <th></th>\n",
       "      <th>Features</th>\n",
       "      <th>VIF</th>\n",
       "    </tr>\n",
       "  </thead>\n",
       "  <tbody>\n",
       "    <tr>\n",
       "      <th>2</th>\n",
       "      <td>Page Views Per Visit</td>\n",
       "      <td>6.66</td>\n",
       "    </tr>\n",
       "    <tr>\n",
       "      <th>0</th>\n",
       "      <td>TotalVisits</td>\n",
       "      <td>4.77</td>\n",
       "    </tr>\n",
       "    <tr>\n",
       "      <th>3</th>\n",
       "      <td>Lead Origin_Landing Page Submission</td>\n",
       "      <td>4.34</td>\n",
       "    </tr>\n",
       "    <tr>\n",
       "      <th>8</th>\n",
       "      <td>Last Activity_Email Opened</td>\n",
       "      <td>3.54</td>\n",
       "    </tr>\n",
       "    <tr>\n",
       "      <th>11</th>\n",
       "      <td>Last Activity_SMS Sent</td>\n",
       "      <td>3.08</td>\n",
       "    </tr>\n",
       "    <tr>\n",
       "      <th>15</th>\n",
       "      <td>Specialization_Not Specified</td>\n",
       "      <td>3.00</td>\n",
       "    </tr>\n",
       "    <tr>\n",
       "      <th>12</th>\n",
       "      <td>Lead Source_Olark Chat</td>\n",
       "      <td>2.61</td>\n",
       "    </tr>\n",
       "    <tr>\n",
       "      <th>1</th>\n",
       "      <td>Total Time Spent on Website</td>\n",
       "      <td>2.19</td>\n",
       "    </tr>\n",
       "    <tr>\n",
       "      <th>9</th>\n",
       "      <td>Last Activity_Olark Chat Conversation</td>\n",
       "      <td>2.11</td>\n",
       "    </tr>\n",
       "    <tr>\n",
       "      <th>4</th>\n",
       "      <td>Lead Origin_Lead Add Form</td>\n",
       "      <td>1.59</td>\n",
       "    </tr>\n",
       "    <tr>\n",
       "      <th>13</th>\n",
       "      <td>Lead Source_Others</td>\n",
       "      <td>1.44</td>\n",
       "    </tr>\n",
       "    <tr>\n",
       "      <th>5</th>\n",
       "      <td>Lead Origin_Others</td>\n",
       "      <td>1.26</td>\n",
       "    </tr>\n",
       "    <tr>\n",
       "      <th>6</th>\n",
       "      <td>Last Activity_Email Bounced</td>\n",
       "      <td>1.24</td>\n",
       "    </tr>\n",
       "    <tr>\n",
       "      <th>10</th>\n",
       "      <td>Last Activity_Others</td>\n",
       "      <td>1.23</td>\n",
       "    </tr>\n",
       "    <tr>\n",
       "      <th>7</th>\n",
       "      <td>Last Activity_Email Link Clicked</td>\n",
       "      <td>1.20</td>\n",
       "    </tr>\n",
       "    <tr>\n",
       "      <th>14</th>\n",
       "      <td>What is your current occupation_Working Profes...</td>\n",
       "      <td>1.20</td>\n",
       "    </tr>\n",
       "  </tbody>\n",
       "</table>\n",
       "</div>"
      ],
      "text/plain": [
       "                                             Features   VIF\n",
       "2                                Page Views Per Visit  6.66\n",
       "0                                         TotalVisits  4.77\n",
       "3                 Lead Origin_Landing Page Submission  4.34\n",
       "8                          Last Activity_Email Opened  3.54\n",
       "11                             Last Activity_SMS Sent  3.08\n",
       "15                       Specialization_Not Specified  3.00\n",
       "12                             Lead Source_Olark Chat  2.61\n",
       "1                         Total Time Spent on Website  2.19\n",
       "9               Last Activity_Olark Chat Conversation  2.11\n",
       "4                           Lead Origin_Lead Add Form  1.59\n",
       "13                                 Lead Source_Others  1.44\n",
       "5                                  Lead Origin_Others  1.26\n",
       "6                         Last Activity_Email Bounced  1.24\n",
       "10                               Last Activity_Others  1.23\n",
       "7                    Last Activity_Email Link Clicked  1.20\n",
       "14  What is your current occupation_Working Profes...  1.20"
      ]
     },
     "execution_count": 516,
     "metadata": {},
     "output_type": "execute_result"
    }
   ],
   "source": [
    "# Create a dataframe that will contain the names of all the feature variables and their respective VIFs\n",
    "vif = pd.DataFrame()\n",
    "vif['Features'] = X_train[col].columns\n",
    "vif['VIF'] = [variance_inflation_factor(X_train[col].values, i) for i in range(X_train[col].shape[1])]\n",
    "vif['VIF'] = round(vif['VIF'], 2)\n",
    "vif = vif.sort_values(by = \"VIF\", ascending = False)\n",
    "vif"
   ]
  },
  {
   "cell_type": "markdown",
   "id": "51ceef9b",
   "metadata": {},
   "source": [
    "<span Style=\"color:blue\">\n",
    "    \n",
    "- Removing column \"Page Views Per Visit\" as it has a high VIF value and hence it is insignificant.\n",
    "\n",
    "</span>"
   ]
  },
  {
   "cell_type": "code",
   "execution_count": 517,
   "id": "a8ac00d4",
   "metadata": {},
   "outputs": [],
   "source": [
    "col = col.drop('Page Views Per Visit', 1)"
   ]
  },
  {
   "cell_type": "code",
   "execution_count": 518,
   "id": "09df122e",
   "metadata": {},
   "outputs": [
    {
     "data": {
      "text/plain": [
       "15"
      ]
     },
     "execution_count": 518,
     "metadata": {},
     "output_type": "execute_result"
    }
   ],
   "source": [
    "len(col)"
   ]
  },
  {
   "cell_type": "markdown",
   "id": "f7706ed5",
   "metadata": {},
   "source": [
    "#### Step 11.3: Model 4"
   ]
  },
  {
   "cell_type": "code",
   "execution_count": 519,
   "id": "ea724ac7",
   "metadata": {
    "scrolled": false
   },
   "outputs": [
    {
     "data": {
      "text/html": [
       "<table class=\"simpletable\">\n",
       "<caption>Generalized Linear Model Regression Results</caption>\n",
       "<tr>\n",
       "  <th>Dep. Variable:</th>       <td>Converted</td>    <th>  No. Observations:  </th>  <td>  6320</td> \n",
       "</tr>\n",
       "<tr>\n",
       "  <th>Model:</th>                  <td>GLM</td>       <th>  Df Residuals:      </th>  <td>  6304</td> \n",
       "</tr>\n",
       "<tr>\n",
       "  <th>Model Family:</th>        <td>Binomial</td>     <th>  Df Model:          </th>  <td>    15</td> \n",
       "</tr>\n",
       "<tr>\n",
       "  <th>Link Function:</th>         <td>Logit</td>      <th>  Scale:             </th> <td>  1.0000</td>\n",
       "</tr>\n",
       "<tr>\n",
       "  <th>Method:</th>                <td>IRLS</td>       <th>  Log-Likelihood:    </th> <td> -2674.4</td>\n",
       "</tr>\n",
       "<tr>\n",
       "  <th>Date:</th>            <td>Mon, 17 Oct 2022</td> <th>  Deviance:          </th> <td>  5348.8</td>\n",
       "</tr>\n",
       "<tr>\n",
       "  <th>Time:</th>                <td>19:59:45</td>     <th>  Pearson chi2:      </th> <td>8.28e+03</td>\n",
       "</tr>\n",
       "<tr>\n",
       "  <th>No. Iterations:</th>          <td>6</td>        <th>  Pseudo R-squ. (CS):</th>  <td>0.3832</td> \n",
       "</tr>\n",
       "<tr>\n",
       "  <th>Covariance Type:</th>     <td>nonrobust</td>    <th>                     </th>     <td> </td>   \n",
       "</tr>\n",
       "</table>\n",
       "<table class=\"simpletable\">\n",
       "<tr>\n",
       "                            <td></td>                              <th>coef</th>     <th>std err</th>      <th>z</th>      <th>P>|z|</th>  <th>[0.025</th>    <th>0.975]</th>  \n",
       "</tr>\n",
       "<tr>\n",
       "  <th>const</th>                                                <td>   -2.3123</td> <td>    0.188</td> <td>  -12.273</td> <td> 0.000</td> <td>   -2.682</td> <td>   -1.943</td>\n",
       "</tr>\n",
       "<tr>\n",
       "  <th>TotalVisits</th>                                          <td>    1.0431</td> <td>    0.241</td> <td>    4.326</td> <td> 0.000</td> <td>    0.570</td> <td>    1.516</td>\n",
       "</tr>\n",
       "<tr>\n",
       "  <th>Total Time Spent on Website</th>                          <td>    4.4880</td> <td>    0.166</td> <td>   27.000</td> <td> 0.000</td> <td>    4.162</td> <td>    4.814</td>\n",
       "</tr>\n",
       "<tr>\n",
       "  <th>Lead Origin_Landing Page Submission</th>                  <td>   -1.1114</td> <td>    0.129</td> <td>   -8.603</td> <td> 0.000</td> <td>   -1.365</td> <td>   -0.858</td>\n",
       "</tr>\n",
       "<tr>\n",
       "  <th>Lead Origin_Lead Add Form</th>                            <td>    3.5712</td> <td>    0.215</td> <td>   16.623</td> <td> 0.000</td> <td>    3.150</td> <td>    3.992</td>\n",
       "</tr>\n",
       "<tr>\n",
       "  <th>Lead Origin_Others</th>                                   <td>   -0.6554</td> <td>    0.493</td> <td>   -1.329</td> <td> 0.184</td> <td>   -1.622</td> <td>    0.311</td>\n",
       "</tr>\n",
       "<tr>\n",
       "  <th>Last Activity_Email Bounced</th>                          <td>   -0.8719</td> <td>    0.318</td> <td>   -2.741</td> <td> 0.006</td> <td>   -1.495</td> <td>   -0.248</td>\n",
       "</tr>\n",
       "<tr>\n",
       "  <th>Last Activity_Email Link Clicked</th>                     <td>    0.5010</td> <td>    0.235</td> <td>    2.134</td> <td> 0.033</td> <td>    0.041</td> <td>    0.961</td>\n",
       "</tr>\n",
       "<tr>\n",
       "  <th>Last Activity_Email Opened</th>                           <td>    0.8252</td> <td>    0.129</td> <td>    6.397</td> <td> 0.000</td> <td>    0.572</td> <td>    1.078</td>\n",
       "</tr>\n",
       "<tr>\n",
       "  <th>Last Activity_Olark Chat Conversation</th>                <td>   -0.7460</td> <td>    0.198</td> <td>   -3.760</td> <td> 0.000</td> <td>   -1.135</td> <td>   -0.357</td>\n",
       "</tr>\n",
       "<tr>\n",
       "  <th>Last Activity_Others</th>                                 <td>    0.7276</td> <td>    0.212</td> <td>    3.438</td> <td> 0.001</td> <td>    0.313</td> <td>    1.142</td>\n",
       "</tr>\n",
       "<tr>\n",
       "  <th>Last Activity_SMS Sent</th>                               <td>    1.9804</td> <td>    0.132</td> <td>   15.013</td> <td> 0.000</td> <td>    1.722</td> <td>    2.239</td>\n",
       "</tr>\n",
       "<tr>\n",
       "  <th>Lead Source_Olark Chat</th>                               <td>    1.3186</td> <td>    0.134</td> <td>    9.855</td> <td> 0.000</td> <td>    1.056</td> <td>    1.581</td>\n",
       "</tr>\n",
       "<tr>\n",
       "  <th>Lead Source_Others</th>                                   <td>    0.5658</td> <td>    0.224</td> <td>    2.522</td> <td> 0.012</td> <td>    0.126</td> <td>    1.006</td>\n",
       "</tr>\n",
       "<tr>\n",
       "  <th>What is your current occupation_Working Professional</th> <td>    2.5200</td> <td>    0.185</td> <td>   13.594</td> <td> 0.000</td> <td>    2.157</td> <td>    2.883</td>\n",
       "</tr>\n",
       "<tr>\n",
       "  <th>Specialization_Not Specified</th>                         <td>   -1.1106</td> <td>    0.125</td> <td>   -8.921</td> <td> 0.000</td> <td>   -1.355</td> <td>   -0.867</td>\n",
       "</tr>\n",
       "</table>"
      ],
      "text/plain": [
       "<class 'statsmodels.iolib.summary.Summary'>\n",
       "\"\"\"\n",
       "                 Generalized Linear Model Regression Results                  \n",
       "==============================================================================\n",
       "Dep. Variable:              Converted   No. Observations:                 6320\n",
       "Model:                            GLM   Df Residuals:                     6304\n",
       "Model Family:                Binomial   Df Model:                           15\n",
       "Link Function:                  Logit   Scale:                          1.0000\n",
       "Method:                          IRLS   Log-Likelihood:                -2674.4\n",
       "Date:                Mon, 17 Oct 2022   Deviance:                       5348.8\n",
       "Time:                        19:59:45   Pearson chi2:                 8.28e+03\n",
       "No. Iterations:                     6   Pseudo R-squ. (CS):             0.3832\n",
       "Covariance Type:            nonrobust                                         \n",
       "========================================================================================================================\n",
       "                                                           coef    std err          z      P>|z|      [0.025      0.975]\n",
       "------------------------------------------------------------------------------------------------------------------------\n",
       "const                                                   -2.3123      0.188    -12.273      0.000      -2.682      -1.943\n",
       "TotalVisits                                              1.0431      0.241      4.326      0.000       0.570       1.516\n",
       "Total Time Spent on Website                              4.4880      0.166     27.000      0.000       4.162       4.814\n",
       "Lead Origin_Landing Page Submission                     -1.1114      0.129     -8.603      0.000      -1.365      -0.858\n",
       "Lead Origin_Lead Add Form                                3.5712      0.215     16.623      0.000       3.150       3.992\n",
       "Lead Origin_Others                                      -0.6554      0.493     -1.329      0.184      -1.622       0.311\n",
       "Last Activity_Email Bounced                             -0.8719      0.318     -2.741      0.006      -1.495      -0.248\n",
       "Last Activity_Email Link Clicked                         0.5010      0.235      2.134      0.033       0.041       0.961\n",
       "Last Activity_Email Opened                               0.8252      0.129      6.397      0.000       0.572       1.078\n",
       "Last Activity_Olark Chat Conversation                   -0.7460      0.198     -3.760      0.000      -1.135      -0.357\n",
       "Last Activity_Others                                     0.7276      0.212      3.438      0.001       0.313       1.142\n",
       "Last Activity_SMS Sent                                   1.9804      0.132     15.013      0.000       1.722       2.239\n",
       "Lead Source_Olark Chat                                   1.3186      0.134      9.855      0.000       1.056       1.581\n",
       "Lead Source_Others                                       0.5658      0.224      2.522      0.012       0.126       1.006\n",
       "What is your current occupation_Working Professional     2.5200      0.185     13.594      0.000       2.157       2.883\n",
       "Specialization_Not Specified                            -1.1106      0.125     -8.921      0.000      -1.355      -0.867\n",
       "========================================================================================================================\n",
       "\"\"\""
      ]
     },
     "execution_count": 519,
     "metadata": {},
     "output_type": "execute_result"
    }
   ],
   "source": [
    "X_train_sm = sm.add_constant(X_train[col])\n",
    "logm4 = sm.GLM(y_train,X_train_sm, family = sm.families.Binomial())\n",
    "res = logm4.fit()\n",
    "res.summary()"
   ]
  },
  {
   "cell_type": "code",
   "execution_count": 520,
   "id": "29acbd5c",
   "metadata": {},
   "outputs": [
    {
     "data": {
      "text/html": [
       "<div>\n",
       "<style scoped>\n",
       "    .dataframe tbody tr th:only-of-type {\n",
       "        vertical-align: middle;\n",
       "    }\n",
       "\n",
       "    .dataframe tbody tr th {\n",
       "        vertical-align: top;\n",
       "    }\n",
       "\n",
       "    .dataframe thead th {\n",
       "        text-align: right;\n",
       "    }\n",
       "</style>\n",
       "<table border=\"1\" class=\"dataframe\">\n",
       "  <thead>\n",
       "    <tr style=\"text-align: right;\">\n",
       "      <th></th>\n",
       "      <th>Features</th>\n",
       "      <th>VIF</th>\n",
       "    </tr>\n",
       "  </thead>\n",
       "  <tbody>\n",
       "    <tr>\n",
       "      <th>2</th>\n",
       "      <td>Lead Origin_Landing Page Submission</td>\n",
       "      <td>3.97</td>\n",
       "    </tr>\n",
       "    <tr>\n",
       "      <th>7</th>\n",
       "      <td>Last Activity_Email Opened</td>\n",
       "      <td>3.35</td>\n",
       "    </tr>\n",
       "    <tr>\n",
       "      <th>0</th>\n",
       "      <td>TotalVisits</td>\n",
       "      <td>3.08</td>\n",
       "    </tr>\n",
       "    <tr>\n",
       "      <th>14</th>\n",
       "      <td>Specialization_Not Specified</td>\n",
       "      <td>2.96</td>\n",
       "    </tr>\n",
       "    <tr>\n",
       "      <th>10</th>\n",
       "      <td>Last Activity_SMS Sent</td>\n",
       "      <td>2.91</td>\n",
       "    </tr>\n",
       "    <tr>\n",
       "      <th>11</th>\n",
       "      <td>Lead Source_Olark Chat</td>\n",
       "      <td>2.45</td>\n",
       "    </tr>\n",
       "    <tr>\n",
       "      <th>1</th>\n",
       "      <td>Total Time Spent on Website</td>\n",
       "      <td>2.18</td>\n",
       "    </tr>\n",
       "    <tr>\n",
       "      <th>8</th>\n",
       "      <td>Last Activity_Olark Chat Conversation</td>\n",
       "      <td>2.07</td>\n",
       "    </tr>\n",
       "    <tr>\n",
       "      <th>3</th>\n",
       "      <td>Lead Origin_Lead Add Form</td>\n",
       "      <td>1.55</td>\n",
       "    </tr>\n",
       "    <tr>\n",
       "      <th>12</th>\n",
       "      <td>Lead Source_Others</td>\n",
       "      <td>1.44</td>\n",
       "    </tr>\n",
       "    <tr>\n",
       "      <th>4</th>\n",
       "      <td>Lead Origin_Others</td>\n",
       "      <td>1.25</td>\n",
       "    </tr>\n",
       "    <tr>\n",
       "      <th>5</th>\n",
       "      <td>Last Activity_Email Bounced</td>\n",
       "      <td>1.24</td>\n",
       "    </tr>\n",
       "    <tr>\n",
       "      <th>9</th>\n",
       "      <td>Last Activity_Others</td>\n",
       "      <td>1.21</td>\n",
       "    </tr>\n",
       "    <tr>\n",
       "      <th>13</th>\n",
       "      <td>What is your current occupation_Working Profes...</td>\n",
       "      <td>1.20</td>\n",
       "    </tr>\n",
       "    <tr>\n",
       "      <th>6</th>\n",
       "      <td>Last Activity_Email Link Clicked</td>\n",
       "      <td>1.19</td>\n",
       "    </tr>\n",
       "  </tbody>\n",
       "</table>\n",
       "</div>"
      ],
      "text/plain": [
       "                                             Features   VIF\n",
       "2                 Lead Origin_Landing Page Submission  3.97\n",
       "7                          Last Activity_Email Opened  3.35\n",
       "0                                         TotalVisits  3.08\n",
       "14                       Specialization_Not Specified  2.96\n",
       "10                             Last Activity_SMS Sent  2.91\n",
       "11                             Lead Source_Olark Chat  2.45\n",
       "1                         Total Time Spent on Website  2.18\n",
       "8               Last Activity_Olark Chat Conversation  2.07\n",
       "3                           Lead Origin_Lead Add Form  1.55\n",
       "12                                 Lead Source_Others  1.44\n",
       "4                                  Lead Origin_Others  1.25\n",
       "5                         Last Activity_Email Bounced  1.24\n",
       "9                                Last Activity_Others  1.21\n",
       "13  What is your current occupation_Working Profes...  1.20\n",
       "6                    Last Activity_Email Link Clicked  1.19"
      ]
     },
     "execution_count": 520,
     "metadata": {},
     "output_type": "execute_result"
    }
   ],
   "source": [
    "# Create a dataframe that will contain the names of all the feature variables and their respective VIFs\n",
    "vif = pd.DataFrame()\n",
    "vif['Features'] = X_train[col].columns\n",
    "vif['VIF'] = [variance_inflation_factor(X_train[col].values, i) for i in range(X_train[col].shape[1])]\n",
    "vif['VIF'] = round(vif['VIF'], 2)\n",
    "vif = vif.sort_values(by = \"VIF\", ascending = False)\n",
    "vif"
   ]
  },
  {
   "cell_type": "markdown",
   "id": "c07b22d5",
   "metadata": {},
   "source": [
    "<span Style=\"color:blue\">\n",
    "    \n",
    "- Removing column \"Lead Origin_Others\" as it has a high p value but low VIF value and hence it is insignificant.\n",
    "\n",
    "</span>"
   ]
  },
  {
   "cell_type": "code",
   "execution_count": 521,
   "id": "834c2f6c",
   "metadata": {},
   "outputs": [],
   "source": [
    "col = col.drop('Lead Origin_Others', 1)"
   ]
  },
  {
   "cell_type": "code",
   "execution_count": 522,
   "id": "aed8821a",
   "metadata": {},
   "outputs": [
    {
     "data": {
      "text/plain": [
       "14"
      ]
     },
     "execution_count": 522,
     "metadata": {},
     "output_type": "execute_result"
    }
   ],
   "source": [
    "len(col)"
   ]
  },
  {
   "cell_type": "markdown",
   "id": "3046e7c0",
   "metadata": {},
   "source": [
    "#### Step 11.4: Model 5"
   ]
  },
  {
   "cell_type": "code",
   "execution_count": 523,
   "id": "5915a6c9",
   "metadata": {},
   "outputs": [
    {
     "data": {
      "text/html": [
       "<table class=\"simpletable\">\n",
       "<caption>Generalized Linear Model Regression Results</caption>\n",
       "<tr>\n",
       "  <th>Dep. Variable:</th>       <td>Converted</td>    <th>  No. Observations:  </th>  <td>  6320</td> \n",
       "</tr>\n",
       "<tr>\n",
       "  <th>Model:</th>                  <td>GLM</td>       <th>  Df Residuals:      </th>  <td>  6305</td> \n",
       "</tr>\n",
       "<tr>\n",
       "  <th>Model Family:</th>        <td>Binomial</td>     <th>  Df Model:          </th>  <td>    14</td> \n",
       "</tr>\n",
       "<tr>\n",
       "  <th>Link Function:</th>         <td>Logit</td>      <th>  Scale:             </th> <td>  1.0000</td>\n",
       "</tr>\n",
       "<tr>\n",
       "  <th>Method:</th>                <td>IRLS</td>       <th>  Log-Likelihood:    </th> <td> -2675.3</td>\n",
       "</tr>\n",
       "<tr>\n",
       "  <th>Date:</th>            <td>Mon, 17 Oct 2022</td> <th>  Deviance:          </th> <td>  5350.6</td>\n",
       "</tr>\n",
       "<tr>\n",
       "  <th>Time:</th>                <td>19:59:46</td>     <th>  Pearson chi2:      </th> <td>8.37e+03</td>\n",
       "</tr>\n",
       "<tr>\n",
       "  <th>No. Iterations:</th>          <td>6</td>        <th>  Pseudo R-squ. (CS):</th>  <td>0.3830</td> \n",
       "</tr>\n",
       "<tr>\n",
       "  <th>Covariance Type:</th>     <td>nonrobust</td>    <th>                     </th>     <td> </td>   \n",
       "</tr>\n",
       "</table>\n",
       "<table class=\"simpletable\">\n",
       "<tr>\n",
       "                            <td></td>                              <th>coef</th>     <th>std err</th>      <th>z</th>      <th>P>|z|</th>  <th>[0.025</th>    <th>0.975]</th>  \n",
       "</tr>\n",
       "<tr>\n",
       "  <th>const</th>                                                <td>   -2.3368</td> <td>    0.188</td> <td>  -12.455</td> <td> 0.000</td> <td>   -2.705</td> <td>   -1.969</td>\n",
       "</tr>\n",
       "<tr>\n",
       "  <th>TotalVisits</th>                                          <td>    1.0708</td> <td>    0.240</td> <td>    4.457</td> <td> 0.000</td> <td>    0.600</td> <td>    1.542</td>\n",
       "</tr>\n",
       "<tr>\n",
       "  <th>Total Time Spent on Website</th>                          <td>    4.4986</td> <td>    0.166</td> <td>   27.074</td> <td> 0.000</td> <td>    4.173</td> <td>    4.824</td>\n",
       "</tr>\n",
       "<tr>\n",
       "  <th>Lead Origin_Landing Page Submission</th>                  <td>   -1.0903</td> <td>    0.128</td> <td>   -8.510</td> <td> 0.000</td> <td>   -1.341</td> <td>   -0.839</td>\n",
       "</tr>\n",
       "<tr>\n",
       "  <th>Lead Origin_Lead Add Form</th>                            <td>    3.6323</td> <td>    0.211</td> <td>   17.214</td> <td> 0.000</td> <td>    3.219</td> <td>    4.046</td>\n",
       "</tr>\n",
       "<tr>\n",
       "  <th>Last Activity_Email Bounced</th>                          <td>   -0.8804</td> <td>    0.318</td> <td>   -2.764</td> <td> 0.006</td> <td>   -1.505</td> <td>   -0.256</td>\n",
       "</tr>\n",
       "<tr>\n",
       "  <th>Last Activity_Email Link Clicked</th>                     <td>    0.4968</td> <td>    0.235</td> <td>    2.115</td> <td> 0.034</td> <td>    0.036</td> <td>    0.957</td>\n",
       "</tr>\n",
       "<tr>\n",
       "  <th>Last Activity_Email Opened</th>                           <td>    0.8172</td> <td>    0.129</td> <td>    6.340</td> <td> 0.000</td> <td>    0.565</td> <td>    1.070</td>\n",
       "</tr>\n",
       "<tr>\n",
       "  <th>Last Activity_Olark Chat Conversation</th>                <td>   -0.7460</td> <td>    0.198</td> <td>   -3.760</td> <td> 0.000</td> <td>   -1.135</td> <td>   -0.357</td>\n",
       "</tr>\n",
       "<tr>\n",
       "  <th>Last Activity_Others</th>                                 <td>    0.7252</td> <td>    0.212</td> <td>    3.424</td> <td> 0.001</td> <td>    0.310</td> <td>    1.140</td>\n",
       "</tr>\n",
       "<tr>\n",
       "  <th>Last Activity_SMS Sent</th>                               <td>    1.9733</td> <td>    0.132</td> <td>   14.969</td> <td> 0.000</td> <td>    1.715</td> <td>    2.232</td>\n",
       "</tr>\n",
       "<tr>\n",
       "  <th>Lead Source_Olark Chat</th>                               <td>    1.3358</td> <td>    0.133</td> <td>   10.023</td> <td> 0.000</td> <td>    1.075</td> <td>    1.597</td>\n",
       "</tr>\n",
       "<tr>\n",
       "  <th>Lead Source_Others</th>                                   <td>    0.4272</td> <td>    0.200</td> <td>    2.135</td> <td> 0.033</td> <td>    0.035</td> <td>    0.819</td>\n",
       "</tr>\n",
       "<tr>\n",
       "  <th>What is your current occupation_Working Professional</th> <td>    2.5195</td> <td>    0.185</td> <td>   13.596</td> <td> 0.000</td> <td>    2.156</td> <td>    2.883</td>\n",
       "</tr>\n",
       "<tr>\n",
       "  <th>Specialization_Not Specified</th>                         <td>   -1.0958</td> <td>    0.124</td> <td>   -8.846</td> <td> 0.000</td> <td>   -1.339</td> <td>   -0.853</td>\n",
       "</tr>\n",
       "</table>"
      ],
      "text/plain": [
       "<class 'statsmodels.iolib.summary.Summary'>\n",
       "\"\"\"\n",
       "                 Generalized Linear Model Regression Results                  \n",
       "==============================================================================\n",
       "Dep. Variable:              Converted   No. Observations:                 6320\n",
       "Model:                            GLM   Df Residuals:                     6305\n",
       "Model Family:                Binomial   Df Model:                           14\n",
       "Link Function:                  Logit   Scale:                          1.0000\n",
       "Method:                          IRLS   Log-Likelihood:                -2675.3\n",
       "Date:                Mon, 17 Oct 2022   Deviance:                       5350.6\n",
       "Time:                        19:59:46   Pearson chi2:                 8.37e+03\n",
       "No. Iterations:                     6   Pseudo R-squ. (CS):             0.3830\n",
       "Covariance Type:            nonrobust                                         \n",
       "========================================================================================================================\n",
       "                                                           coef    std err          z      P>|z|      [0.025      0.975]\n",
       "------------------------------------------------------------------------------------------------------------------------\n",
       "const                                                   -2.3368      0.188    -12.455      0.000      -2.705      -1.969\n",
       "TotalVisits                                              1.0708      0.240      4.457      0.000       0.600       1.542\n",
       "Total Time Spent on Website                              4.4986      0.166     27.074      0.000       4.173       4.824\n",
       "Lead Origin_Landing Page Submission                     -1.0903      0.128     -8.510      0.000      -1.341      -0.839\n",
       "Lead Origin_Lead Add Form                                3.6323      0.211     17.214      0.000       3.219       4.046\n",
       "Last Activity_Email Bounced                             -0.8804      0.318     -2.764      0.006      -1.505      -0.256\n",
       "Last Activity_Email Link Clicked                         0.4968      0.235      2.115      0.034       0.036       0.957\n",
       "Last Activity_Email Opened                               0.8172      0.129      6.340      0.000       0.565       1.070\n",
       "Last Activity_Olark Chat Conversation                   -0.7460      0.198     -3.760      0.000      -1.135      -0.357\n",
       "Last Activity_Others                                     0.7252      0.212      3.424      0.001       0.310       1.140\n",
       "Last Activity_SMS Sent                                   1.9733      0.132     14.969      0.000       1.715       2.232\n",
       "Lead Source_Olark Chat                                   1.3358      0.133     10.023      0.000       1.075       1.597\n",
       "Lead Source_Others                                       0.4272      0.200      2.135      0.033       0.035       0.819\n",
       "What is your current occupation_Working Professional     2.5195      0.185     13.596      0.000       2.156       2.883\n",
       "Specialization_Not Specified                            -1.0958      0.124     -8.846      0.000      -1.339      -0.853\n",
       "========================================================================================================================\n",
       "\"\"\""
      ]
     },
     "execution_count": 523,
     "metadata": {},
     "output_type": "execute_result"
    }
   ],
   "source": [
    "X_train_sm = sm.add_constant(X_train[col])\n",
    "logm5 = sm.GLM(y_train,X_train_sm, family = sm.families.Binomial())\n",
    "res = logm5.fit()\n",
    "res.summary()"
   ]
  },
  {
   "cell_type": "code",
   "execution_count": 524,
   "id": "dac300c6",
   "metadata": {},
   "outputs": [
    {
     "data": {
      "text/html": [
       "<div>\n",
       "<style scoped>\n",
       "    .dataframe tbody tr th:only-of-type {\n",
       "        vertical-align: middle;\n",
       "    }\n",
       "\n",
       "    .dataframe tbody tr th {\n",
       "        vertical-align: top;\n",
       "    }\n",
       "\n",
       "    .dataframe thead th {\n",
       "        text-align: right;\n",
       "    }\n",
       "</style>\n",
       "<table border=\"1\" class=\"dataframe\">\n",
       "  <thead>\n",
       "    <tr style=\"text-align: right;\">\n",
       "      <th></th>\n",
       "      <th>Features</th>\n",
       "      <th>VIF</th>\n",
       "    </tr>\n",
       "  </thead>\n",
       "  <tbody>\n",
       "    <tr>\n",
       "      <th>2</th>\n",
       "      <td>Lead Origin_Landing Page Submission</td>\n",
       "      <td>3.95</td>\n",
       "    </tr>\n",
       "    <tr>\n",
       "      <th>6</th>\n",
       "      <td>Last Activity_Email Opened</td>\n",
       "      <td>3.29</td>\n",
       "    </tr>\n",
       "    <tr>\n",
       "      <th>0</th>\n",
       "      <td>TotalVisits</td>\n",
       "      <td>3.07</td>\n",
       "    </tr>\n",
       "    <tr>\n",
       "      <th>13</th>\n",
       "      <td>Specialization_Not Specified</td>\n",
       "      <td>2.96</td>\n",
       "    </tr>\n",
       "    <tr>\n",
       "      <th>9</th>\n",
       "      <td>Last Activity_SMS Sent</td>\n",
       "      <td>2.88</td>\n",
       "    </tr>\n",
       "    <tr>\n",
       "      <th>10</th>\n",
       "      <td>Lead Source_Olark Chat</td>\n",
       "      <td>2.44</td>\n",
       "    </tr>\n",
       "    <tr>\n",
       "      <th>1</th>\n",
       "      <td>Total Time Spent on Website</td>\n",
       "      <td>2.18</td>\n",
       "    </tr>\n",
       "    <tr>\n",
       "      <th>7</th>\n",
       "      <td>Last Activity_Olark Chat Conversation</td>\n",
       "      <td>2.06</td>\n",
       "    </tr>\n",
       "    <tr>\n",
       "      <th>3</th>\n",
       "      <td>Lead Origin_Lead Add Form</td>\n",
       "      <td>1.49</td>\n",
       "    </tr>\n",
       "    <tr>\n",
       "      <th>4</th>\n",
       "      <td>Last Activity_Email Bounced</td>\n",
       "      <td>1.23</td>\n",
       "    </tr>\n",
       "    <tr>\n",
       "      <th>8</th>\n",
       "      <td>Last Activity_Others</td>\n",
       "      <td>1.21</td>\n",
       "    </tr>\n",
       "    <tr>\n",
       "      <th>12</th>\n",
       "      <td>What is your current occupation_Working Profes...</td>\n",
       "      <td>1.20</td>\n",
       "    </tr>\n",
       "    <tr>\n",
       "      <th>5</th>\n",
       "      <td>Last Activity_Email Link Clicked</td>\n",
       "      <td>1.19</td>\n",
       "    </tr>\n",
       "    <tr>\n",
       "      <th>11</th>\n",
       "      <td>Lead Source_Others</td>\n",
       "      <td>1.19</td>\n",
       "    </tr>\n",
       "  </tbody>\n",
       "</table>\n",
       "</div>"
      ],
      "text/plain": [
       "                                             Features   VIF\n",
       "2                 Lead Origin_Landing Page Submission  3.95\n",
       "6                          Last Activity_Email Opened  3.29\n",
       "0                                         TotalVisits  3.07\n",
       "13                       Specialization_Not Specified  2.96\n",
       "9                              Last Activity_SMS Sent  2.88\n",
       "10                             Lead Source_Olark Chat  2.44\n",
       "1                         Total Time Spent on Website  2.18\n",
       "7               Last Activity_Olark Chat Conversation  2.06\n",
       "3                           Lead Origin_Lead Add Form  1.49\n",
       "4                         Last Activity_Email Bounced  1.23\n",
       "8                                Last Activity_Others  1.21\n",
       "12  What is your current occupation_Working Profes...  1.20\n",
       "5                    Last Activity_Email Link Clicked  1.19\n",
       "11                                 Lead Source_Others  1.19"
      ]
     },
     "execution_count": 524,
     "metadata": {},
     "output_type": "execute_result"
    }
   ],
   "source": [
    "# Create a dataframe that will contain the names of all the feature variables and their respective VIFs\n",
    "vif = pd.DataFrame()\n",
    "vif['Features'] = X_train[col].columns\n",
    "vif['VIF'] = [variance_inflation_factor(X_train[col].values, i) for i in range(X_train[col].shape[1])]\n",
    "vif['VIF'] = round(vif['VIF'], 2)\n",
    "vif = vif.sort_values(by = \"VIF\", ascending = False)\n",
    "vif"
   ]
  },
  {
   "cell_type": "markdown",
   "id": "7af78e11",
   "metadata": {},
   "source": [
    "<span Style=\"color:blue\">\n",
    "    \n",
    "- Both p value and VIF values are less than 0.05 and 5 respectively. So this model will be accepted for evaluation.\n",
    "    \n",
    "- Model 5 will be our final model\n",
    "\n",
    "</span>"
   ]
  },
  {
   "cell_type": "markdown",
   "id": "91611b1b",
   "metadata": {},
   "source": [
    "## Step 12: y train prediction\n"
   ]
  },
  {
   "cell_type": "code",
   "execution_count": 525,
   "id": "6accde37",
   "metadata": {},
   "outputs": [
    {
     "data": {
      "text/plain": [
       "5493    0.092283\n",
       "8064    0.072497\n",
       "4716    0.308403\n",
       "9117    0.217601\n",
       "2402    0.379004\n",
       "1796    0.055053\n",
       "1120    0.055053\n",
       "253     0.113328\n",
       "1491    0.243111\n",
       "2004    0.250809\n",
       "dtype: float64"
      ]
     },
     "execution_count": 525,
     "metadata": {},
     "output_type": "execute_result"
    }
   ],
   "source": [
    "y_train_pred = res.predict(X_train_sm)\n",
    "y_train_pred[:10]"
   ]
  },
  {
   "cell_type": "code",
   "execution_count": 526,
   "id": "16db9f52",
   "metadata": {},
   "outputs": [
    {
     "data": {
      "text/html": [
       "<div>\n",
       "<style scoped>\n",
       "    .dataframe tbody tr th:only-of-type {\n",
       "        vertical-align: middle;\n",
       "    }\n",
       "\n",
       "    .dataframe tbody tr th {\n",
       "        vertical-align: top;\n",
       "    }\n",
       "\n",
       "    .dataframe thead th {\n",
       "        text-align: right;\n",
       "    }\n",
       "</style>\n",
       "<table border=\"1\" class=\"dataframe\">\n",
       "  <thead>\n",
       "    <tr style=\"text-align: right;\">\n",
       "      <th></th>\n",
       "      <th>Converted</th>\n",
       "      <th>Converted_Prob</th>\n",
       "    </tr>\n",
       "  </thead>\n",
       "  <tbody>\n",
       "    <tr>\n",
       "      <th>5493</th>\n",
       "      <td>0</td>\n",
       "      <td>0.092283</td>\n",
       "    </tr>\n",
       "    <tr>\n",
       "      <th>8064</th>\n",
       "      <td>0</td>\n",
       "      <td>0.072497</td>\n",
       "    </tr>\n",
       "    <tr>\n",
       "      <th>4716</th>\n",
       "      <td>0</td>\n",
       "      <td>0.308403</td>\n",
       "    </tr>\n",
       "    <tr>\n",
       "      <th>9117</th>\n",
       "      <td>0</td>\n",
       "      <td>0.217601</td>\n",
       "    </tr>\n",
       "    <tr>\n",
       "      <th>2402</th>\n",
       "      <td>1</td>\n",
       "      <td>0.379004</td>\n",
       "    </tr>\n",
       "  </tbody>\n",
       "</table>\n",
       "</div>"
      ],
      "text/plain": [
       "      Converted  Converted_Prob\n",
       "5493          0        0.092283\n",
       "8064          0        0.072497\n",
       "4716          0        0.308403\n",
       "9117          0        0.217601\n",
       "2402          1        0.379004"
      ]
     },
     "execution_count": 526,
     "metadata": {},
     "output_type": "execute_result"
    }
   ],
   "source": [
    "#Creating a dataframe with the actual converted flag and the predicted probabilities\n",
    "\n",
    "y_train_pred_final = pd.DataFrame({'Converted':y_train.values, 'Converted_Prob':y_train_pred})\n",
    "y_train_pred_final.head()"
   ]
  },
  {
   "cell_type": "code",
   "execution_count": 527,
   "id": "6f7f31c6",
   "metadata": {},
   "outputs": [
    {
     "data": {
      "text/html": [
       "<div>\n",
       "<style scoped>\n",
       "    .dataframe tbody tr th:only-of-type {\n",
       "        vertical-align: middle;\n",
       "    }\n",
       "\n",
       "    .dataframe tbody tr th {\n",
       "        vertical-align: top;\n",
       "    }\n",
       "\n",
       "    .dataframe thead th {\n",
       "        text-align: right;\n",
       "    }\n",
       "</style>\n",
       "<table border=\"1\" class=\"dataframe\">\n",
       "  <thead>\n",
       "    <tr style=\"text-align: right;\">\n",
       "      <th></th>\n",
       "      <th>Converted</th>\n",
       "      <th>Converted_Prob</th>\n",
       "      <th>Predicted</th>\n",
       "    </tr>\n",
       "  </thead>\n",
       "  <tbody>\n",
       "    <tr>\n",
       "      <th>5493</th>\n",
       "      <td>0</td>\n",
       "      <td>0.092283</td>\n",
       "      <td>0</td>\n",
       "    </tr>\n",
       "    <tr>\n",
       "      <th>8064</th>\n",
       "      <td>0</td>\n",
       "      <td>0.072497</td>\n",
       "      <td>0</td>\n",
       "    </tr>\n",
       "    <tr>\n",
       "      <th>4716</th>\n",
       "      <td>0</td>\n",
       "      <td>0.308403</td>\n",
       "      <td>0</td>\n",
       "    </tr>\n",
       "    <tr>\n",
       "      <th>9117</th>\n",
       "      <td>0</td>\n",
       "      <td>0.217601</td>\n",
       "      <td>0</td>\n",
       "    </tr>\n",
       "    <tr>\n",
       "      <th>2402</th>\n",
       "      <td>1</td>\n",
       "      <td>0.379004</td>\n",
       "      <td>0</td>\n",
       "    </tr>\n",
       "  </tbody>\n",
       "</table>\n",
       "</div>"
      ],
      "text/plain": [
       "      Converted  Converted_Prob  Predicted\n",
       "5493          0        0.092283          0\n",
       "8064          0        0.072497          0\n",
       "4716          0        0.308403          0\n",
       "9117          0        0.217601          0\n",
       "2402          1        0.379004          0"
      ]
     },
     "execution_count": 527,
     "metadata": {},
     "output_type": "execute_result"
    }
   ],
   "source": [
    "# predicted converted by selected Randam cutoff\n",
    "y_train_pred_final['Predicted'] = y_train_pred_final.Converted_Prob.map(lambda x: 1 if x > 0.5 else 0)\n",
    "y_train_pred_final.head()"
   ]
  },
  {
   "cell_type": "markdown",
   "id": "bb27068d",
   "metadata": {},
   "source": [
    "## Step 13: Finding Optimal Cutoff Point\n"
   ]
  },
  {
   "cell_type": "code",
   "execution_count": 528,
   "id": "29bfdcfc",
   "metadata": {},
   "outputs": [
    {
     "data": {
      "text/html": [
       "<div>\n",
       "<style scoped>\n",
       "    .dataframe tbody tr th:only-of-type {\n",
       "        vertical-align: middle;\n",
       "    }\n",
       "\n",
       "    .dataframe tbody tr th {\n",
       "        vertical-align: top;\n",
       "    }\n",
       "\n",
       "    .dataframe thead th {\n",
       "        text-align: right;\n",
       "    }\n",
       "</style>\n",
       "<table border=\"1\" class=\"dataframe\">\n",
       "  <thead>\n",
       "    <tr style=\"text-align: right;\">\n",
       "      <th></th>\n",
       "      <th>Converted</th>\n",
       "      <th>Converted_Prob</th>\n",
       "      <th>Predicted</th>\n",
       "      <th>0.0</th>\n",
       "      <th>0.1</th>\n",
       "      <th>0.2</th>\n",
       "      <th>0.3</th>\n",
       "      <th>0.4</th>\n",
       "      <th>0.5</th>\n",
       "      <th>0.6</th>\n",
       "      <th>0.7</th>\n",
       "      <th>0.8</th>\n",
       "      <th>0.9</th>\n",
       "    </tr>\n",
       "  </thead>\n",
       "  <tbody>\n",
       "    <tr>\n",
       "      <th>5493</th>\n",
       "      <td>0</td>\n",
       "      <td>0.092283</td>\n",
       "      <td>0</td>\n",
       "      <td>1</td>\n",
       "      <td>0</td>\n",
       "      <td>0</td>\n",
       "      <td>0</td>\n",
       "      <td>0</td>\n",
       "      <td>0</td>\n",
       "      <td>0</td>\n",
       "      <td>0</td>\n",
       "      <td>0</td>\n",
       "      <td>0</td>\n",
       "    </tr>\n",
       "    <tr>\n",
       "      <th>8064</th>\n",
       "      <td>0</td>\n",
       "      <td>0.072497</td>\n",
       "      <td>0</td>\n",
       "      <td>1</td>\n",
       "      <td>0</td>\n",
       "      <td>0</td>\n",
       "      <td>0</td>\n",
       "      <td>0</td>\n",
       "      <td>0</td>\n",
       "      <td>0</td>\n",
       "      <td>0</td>\n",
       "      <td>0</td>\n",
       "      <td>0</td>\n",
       "    </tr>\n",
       "    <tr>\n",
       "      <th>4716</th>\n",
       "      <td>0</td>\n",
       "      <td>0.308403</td>\n",
       "      <td>0</td>\n",
       "      <td>1</td>\n",
       "      <td>1</td>\n",
       "      <td>1</td>\n",
       "      <td>1</td>\n",
       "      <td>0</td>\n",
       "      <td>0</td>\n",
       "      <td>0</td>\n",
       "      <td>0</td>\n",
       "      <td>0</td>\n",
       "      <td>0</td>\n",
       "    </tr>\n",
       "    <tr>\n",
       "      <th>9117</th>\n",
       "      <td>0</td>\n",
       "      <td>0.217601</td>\n",
       "      <td>0</td>\n",
       "      <td>1</td>\n",
       "      <td>1</td>\n",
       "      <td>1</td>\n",
       "      <td>0</td>\n",
       "      <td>0</td>\n",
       "      <td>0</td>\n",
       "      <td>0</td>\n",
       "      <td>0</td>\n",
       "      <td>0</td>\n",
       "      <td>0</td>\n",
       "    </tr>\n",
       "    <tr>\n",
       "      <th>2402</th>\n",
       "      <td>1</td>\n",
       "      <td>0.379004</td>\n",
       "      <td>0</td>\n",
       "      <td>1</td>\n",
       "      <td>1</td>\n",
       "      <td>1</td>\n",
       "      <td>1</td>\n",
       "      <td>0</td>\n",
       "      <td>0</td>\n",
       "      <td>0</td>\n",
       "      <td>0</td>\n",
       "      <td>0</td>\n",
       "      <td>0</td>\n",
       "    </tr>\n",
       "    <tr>\n",
       "      <th>...</th>\n",
       "      <td>...</td>\n",
       "      <td>...</td>\n",
       "      <td>...</td>\n",
       "      <td>...</td>\n",
       "      <td>...</td>\n",
       "      <td>...</td>\n",
       "      <td>...</td>\n",
       "      <td>...</td>\n",
       "      <td>...</td>\n",
       "      <td>...</td>\n",
       "      <td>...</td>\n",
       "      <td>...</td>\n",
       "      <td>...</td>\n",
       "    </tr>\n",
       "    <tr>\n",
       "      <th>362</th>\n",
       "      <td>0</td>\n",
       "      <td>0.022525</td>\n",
       "      <td>0</td>\n",
       "      <td>1</td>\n",
       "      <td>0</td>\n",
       "      <td>0</td>\n",
       "      <td>0</td>\n",
       "      <td>0</td>\n",
       "      <td>0</td>\n",
       "      <td>0</td>\n",
       "      <td>0</td>\n",
       "      <td>0</td>\n",
       "      <td>0</td>\n",
       "    </tr>\n",
       "    <tr>\n",
       "      <th>82</th>\n",
       "      <td>1</td>\n",
       "      <td>0.882386</td>\n",
       "      <td>1</td>\n",
       "      <td>1</td>\n",
       "      <td>1</td>\n",
       "      <td>1</td>\n",
       "      <td>1</td>\n",
       "      <td>1</td>\n",
       "      <td>1</td>\n",
       "      <td>1</td>\n",
       "      <td>1</td>\n",
       "      <td>1</td>\n",
       "      <td>0</td>\n",
       "    </tr>\n",
       "    <tr>\n",
       "      <th>8226</th>\n",
       "      <td>1</td>\n",
       "      <td>0.774053</td>\n",
       "      <td>1</td>\n",
       "      <td>1</td>\n",
       "      <td>1</td>\n",
       "      <td>1</td>\n",
       "      <td>1</td>\n",
       "      <td>1</td>\n",
       "      <td>1</td>\n",
       "      <td>1</td>\n",
       "      <td>1</td>\n",
       "      <td>0</td>\n",
       "      <td>0</td>\n",
       "    </tr>\n",
       "    <tr>\n",
       "      <th>7089</th>\n",
       "      <td>1</td>\n",
       "      <td>0.967724</td>\n",
       "      <td>1</td>\n",
       "      <td>1</td>\n",
       "      <td>1</td>\n",
       "      <td>1</td>\n",
       "      <td>1</td>\n",
       "      <td>1</td>\n",
       "      <td>1</td>\n",
       "      <td>1</td>\n",
       "      <td>1</td>\n",
       "      <td>1</td>\n",
       "      <td>1</td>\n",
       "    </tr>\n",
       "    <tr>\n",
       "      <th>5760</th>\n",
       "      <td>0</td>\n",
       "      <td>0.097729</td>\n",
       "      <td>0</td>\n",
       "      <td>1</td>\n",
       "      <td>0</td>\n",
       "      <td>0</td>\n",
       "      <td>0</td>\n",
       "      <td>0</td>\n",
       "      <td>0</td>\n",
       "      <td>0</td>\n",
       "      <td>0</td>\n",
       "      <td>0</td>\n",
       "      <td>0</td>\n",
       "    </tr>\n",
       "  </tbody>\n",
       "</table>\n",
       "<p>6320 rows × 13 columns</p>\n",
       "</div>"
      ],
      "text/plain": [
       "      Converted  Converted_Prob  Predicted  0.0  0.1  0.2  0.3  0.4  0.5  0.6  \\\n",
       "5493          0        0.092283          0    1    0    0    0    0    0    0   \n",
       "8064          0        0.072497          0    1    0    0    0    0    0    0   \n",
       "4716          0        0.308403          0    1    1    1    1    0    0    0   \n",
       "9117          0        0.217601          0    1    1    1    0    0    0    0   \n",
       "2402          1        0.379004          0    1    1    1    1    0    0    0   \n",
       "...         ...             ...        ...  ...  ...  ...  ...  ...  ...  ...   \n",
       "362           0        0.022525          0    1    0    0    0    0    0    0   \n",
       "82            1        0.882386          1    1    1    1    1    1    1    1   \n",
       "8226          1        0.774053          1    1    1    1    1    1    1    1   \n",
       "7089          1        0.967724          1    1    1    1    1    1    1    1   \n",
       "5760          0        0.097729          0    1    0    0    0    0    0    0   \n",
       "\n",
       "      0.7  0.8  0.9  \n",
       "5493    0    0    0  \n",
       "8064    0    0    0  \n",
       "4716    0    0    0  \n",
       "9117    0    0    0  \n",
       "2402    0    0    0  \n",
       "...   ...  ...  ...  \n",
       "362     0    0    0  \n",
       "82      1    1    0  \n",
       "8226    1    0    0  \n",
       "7089    1    1    1  \n",
       "5760    0    0    0  \n",
       "\n",
       "[6320 rows x 13 columns]"
      ]
     },
     "execution_count": 528,
     "metadata": {},
     "output_type": "execute_result"
    }
   ],
   "source": [
    "#Finding Optimal Cutoff Point\n",
    "# Let's create columns with different probability cutoffs \n",
    "numbers = [float(x)/10 for x in range(10)]\n",
    "for i in numbers:\n",
    "    y_train_pred_final[i]= y_train_pred_final.Converted_Prob.map(lambda x: 1 if x > i else 0)\n",
    "y_train_pred_final"
   ]
  },
  {
   "cell_type": "code",
   "execution_count": 529,
   "id": "349008e8",
   "metadata": {},
   "outputs": [],
   "source": [
    "# Importing metrics from sklearn for evaluation\n",
    "from sklearn import metrics"
   ]
  },
  {
   "cell_type": "code",
   "execution_count": 530,
   "id": "e7ea1164",
   "metadata": {},
   "outputs": [
    {
     "data": {
      "text/html": [
       "<div>\n",
       "<style scoped>\n",
       "    .dataframe tbody tr th:only-of-type {\n",
       "        vertical-align: middle;\n",
       "    }\n",
       "\n",
       "    .dataframe tbody tr th {\n",
       "        vertical-align: top;\n",
       "    }\n",
       "\n",
       "    .dataframe thead th {\n",
       "        text-align: right;\n",
       "    }\n",
       "</style>\n",
       "<table border=\"1\" class=\"dataframe\">\n",
       "  <thead>\n",
       "    <tr style=\"text-align: right;\">\n",
       "      <th></th>\n",
       "      <th>prob</th>\n",
       "      <th>accuracy</th>\n",
       "      <th>sensi</th>\n",
       "      <th>speci</th>\n",
       "    </tr>\n",
       "  </thead>\n",
       "  <tbody>\n",
       "    <tr>\n",
       "      <th>0.0</th>\n",
       "      <td>0.0</td>\n",
       "      <td>0.381487</td>\n",
       "      <td>1.000000</td>\n",
       "      <td>0.000000</td>\n",
       "    </tr>\n",
       "    <tr>\n",
       "      <th>0.1</th>\n",
       "      <td>0.1</td>\n",
       "      <td>0.594778</td>\n",
       "      <td>0.968478</td>\n",
       "      <td>0.364288</td>\n",
       "    </tr>\n",
       "    <tr>\n",
       "      <th>0.2</th>\n",
       "      <td>0.2</td>\n",
       "      <td>0.725949</td>\n",
       "      <td>0.928246</td>\n",
       "      <td>0.601177</td>\n",
       "    </tr>\n",
       "    <tr>\n",
       "      <th>0.3</th>\n",
       "      <td>0.3</td>\n",
       "      <td>0.793038</td>\n",
       "      <td>0.836997</td>\n",
       "      <td>0.765925</td>\n",
       "    </tr>\n",
       "    <tr>\n",
       "      <th>0.4</th>\n",
       "      <td>0.4</td>\n",
       "      <td>0.812658</td>\n",
       "      <td>0.771464</td>\n",
       "      <td>0.838066</td>\n",
       "    </tr>\n",
       "    <tr>\n",
       "      <th>0.5</th>\n",
       "      <td>0.5</td>\n",
       "      <td>0.807278</td>\n",
       "      <td>0.666114</td>\n",
       "      <td>0.894346</td>\n",
       "    </tr>\n",
       "    <tr>\n",
       "      <th>0.6</th>\n",
       "      <td>0.6</td>\n",
       "      <td>0.796994</td>\n",
       "      <td>0.590212</td>\n",
       "      <td>0.924533</td>\n",
       "    </tr>\n",
       "    <tr>\n",
       "      <th>0.7</th>\n",
       "      <td>0.7</td>\n",
       "      <td>0.780696</td>\n",
       "      <td>0.514724</td>\n",
       "      <td>0.944743</td>\n",
       "    </tr>\n",
       "    <tr>\n",
       "      <th>0.8</th>\n",
       "      <td>0.8</td>\n",
       "      <td>0.754589</td>\n",
       "      <td>0.407300</td>\n",
       "      <td>0.968790</td>\n",
       "    </tr>\n",
       "    <tr>\n",
       "      <th>0.9</th>\n",
       "      <td>0.9</td>\n",
       "      <td>0.702215</td>\n",
       "      <td>0.236831</td>\n",
       "      <td>0.989256</td>\n",
       "    </tr>\n",
       "  </tbody>\n",
       "</table>\n",
       "</div>"
      ],
      "text/plain": [
       "     prob  accuracy     sensi     speci\n",
       "0.0   0.0  0.381487  1.000000  0.000000\n",
       "0.1   0.1  0.594778  0.968478  0.364288\n",
       "0.2   0.2  0.725949  0.928246  0.601177\n",
       "0.3   0.3  0.793038  0.836997  0.765925\n",
       "0.4   0.4  0.812658  0.771464  0.838066\n",
       "0.5   0.5  0.807278  0.666114  0.894346\n",
       "0.6   0.6  0.796994  0.590212  0.924533\n",
       "0.7   0.7  0.780696  0.514724  0.944743\n",
       "0.8   0.8  0.754589  0.407300  0.968790\n",
       "0.9   0.9  0.702215  0.236831  0.989256"
      ]
     },
     "execution_count": 530,
     "metadata": {},
     "output_type": "execute_result"
    }
   ],
   "source": [
    "# Creating a dataframe to see the values of accuracy, sensitivity, and specificity at different values of probabiity cutoffs\n",
    "cutoff_df = pd.DataFrame( columns = ['prob','accuracy','sensi','speci'])\n",
    "# Making confusing matrix to find values of sensitivity, accurace and specificity for each level of probablity\n",
    "from sklearn.metrics import confusion_matrix\n",
    "num = [0.0,0.1,0.2,0.3,0.4,0.5,0.6,0.7,0.8,0.9]\n",
    "for i in num:\n",
    "    cm1 = metrics.confusion_matrix(y_train_pred_final.Converted, y_train_pred_final[i] )\n",
    "    total1=sum(sum(cm1))\n",
    "    accuracy = (cm1[0,0]+cm1[1,1])/total1\n",
    "    \n",
    "    speci = cm1[0,0]/(cm1[0,0]+cm1[0,1])\n",
    "    sensi = cm1[1,1]/(cm1[1,0]+cm1[1,1])\n",
    "    cutoff_df.loc[i] =[ i ,accuracy,sensi,speci]\n",
    "cutoff_df"
   ]
  },
  {
   "cell_type": "code",
   "execution_count": 531,
   "id": "f8c8eb88",
   "metadata": {},
   "outputs": [
    {
     "data": {
      "image/png": "[encoded data removed]",
      "text/plain": [
       "<Figure size 432x288 with 1 Axes>"
      ]
     },
     "metadata": {
      "needs_background": "light"
     },
     "output_type": "display_data"
    },
    {
     "data": {
      "text/plain": [
       "<Figure size 792x792 with 0 Axes>"
      ]
     },
     "metadata": {},
     "output_type": "display_data"
    }
   ],
   "source": [
    "#Let's plot accuracy sensitivity and specificity for various probabilities.\n",
    "cutoff_df.plot.line(x='prob', y=['accuracy','sensi','speci'])\n",
    "plt.xticks(np.arange(0, 1, step=0.05), rotation = 90)\n",
    "plt.figure(figsize=(11,11))\n",
    "plt.tight_layout()\n",
    "plt.show()"
   ]
  },
  {
   "cell_type": "markdown",
   "id": "a560122f",
   "metadata": {},
   "source": [
    "<span Style=\"color:blue\">\n",
    "    \n",
    "- From the above curve, we can see the optimum point for cutoff probability is 0.35.\n",
    "\n",
    "</span>"
   ]
  },
  {
   "cell_type": "code",
   "execution_count": 532,
   "id": "2ad8ac8c",
   "metadata": {},
   "outputs": [
    {
     "data": {
      "text/html": [
       "<div>\n",
       "<style scoped>\n",
       "    .dataframe tbody tr th:only-of-type {\n",
       "        vertical-align: middle;\n",
       "    }\n",
       "\n",
       "    .dataframe tbody tr th {\n",
       "        vertical-align: top;\n",
       "    }\n",
       "\n",
       "    .dataframe thead th {\n",
       "        text-align: right;\n",
       "    }\n",
       "</style>\n",
       "<table border=\"1\" class=\"dataframe\">\n",
       "  <thead>\n",
       "    <tr style=\"text-align: right;\">\n",
       "      <th></th>\n",
       "      <th>Converted</th>\n",
       "      <th>Converted_Prob</th>\n",
       "      <th>Predicted</th>\n",
       "      <th>0.0</th>\n",
       "      <th>0.1</th>\n",
       "      <th>0.2</th>\n",
       "      <th>0.3</th>\n",
       "      <th>0.4</th>\n",
       "      <th>0.5</th>\n",
       "      <th>0.6</th>\n",
       "      <th>0.7</th>\n",
       "      <th>0.8</th>\n",
       "      <th>0.9</th>\n",
       "      <th>final_predicted</th>\n",
       "    </tr>\n",
       "  </thead>\n",
       "  <tbody>\n",
       "    <tr>\n",
       "      <th>5493</th>\n",
       "      <td>0</td>\n",
       "      <td>0.092283</td>\n",
       "      <td>0</td>\n",
       "      <td>1</td>\n",
       "      <td>0</td>\n",
       "      <td>0</td>\n",
       "      <td>0</td>\n",
       "      <td>0</td>\n",
       "      <td>0</td>\n",
       "      <td>0</td>\n",
       "      <td>0</td>\n",
       "      <td>0</td>\n",
       "      <td>0</td>\n",
       "      <td>0</td>\n",
       "    </tr>\n",
       "    <tr>\n",
       "      <th>8064</th>\n",
       "      <td>0</td>\n",
       "      <td>0.072497</td>\n",
       "      <td>0</td>\n",
       "      <td>1</td>\n",
       "      <td>0</td>\n",
       "      <td>0</td>\n",
       "      <td>0</td>\n",
       "      <td>0</td>\n",
       "      <td>0</td>\n",
       "      <td>0</td>\n",
       "      <td>0</td>\n",
       "      <td>0</td>\n",
       "      <td>0</td>\n",
       "      <td>0</td>\n",
       "    </tr>\n",
       "    <tr>\n",
       "      <th>4716</th>\n",
       "      <td>0</td>\n",
       "      <td>0.308403</td>\n",
       "      <td>0</td>\n",
       "      <td>1</td>\n",
       "      <td>1</td>\n",
       "      <td>1</td>\n",
       "      <td>1</td>\n",
       "      <td>0</td>\n",
       "      <td>0</td>\n",
       "      <td>0</td>\n",
       "      <td>0</td>\n",
       "      <td>0</td>\n",
       "      <td>0</td>\n",
       "      <td>0</td>\n",
       "    </tr>\n",
       "    <tr>\n",
       "      <th>9117</th>\n",
       "      <td>0</td>\n",
       "      <td>0.217601</td>\n",
       "      <td>0</td>\n",
       "      <td>1</td>\n",
       "      <td>1</td>\n",
       "      <td>1</td>\n",
       "      <td>0</td>\n",
       "      <td>0</td>\n",
       "      <td>0</td>\n",
       "      <td>0</td>\n",
       "      <td>0</td>\n",
       "      <td>0</td>\n",
       "      <td>0</td>\n",
       "      <td>0</td>\n",
       "    </tr>\n",
       "    <tr>\n",
       "      <th>2402</th>\n",
       "      <td>1</td>\n",
       "      <td>0.379004</td>\n",
       "      <td>0</td>\n",
       "      <td>1</td>\n",
       "      <td>1</td>\n",
       "      <td>1</td>\n",
       "      <td>1</td>\n",
       "      <td>0</td>\n",
       "      <td>0</td>\n",
       "      <td>0</td>\n",
       "      <td>0</td>\n",
       "      <td>0</td>\n",
       "      <td>0</td>\n",
       "      <td>1</td>\n",
       "    </tr>\n",
       "  </tbody>\n",
       "</table>\n",
       "</div>"
      ],
      "text/plain": [
       "      Converted  Converted_Prob  Predicted  0.0  0.1  0.2  0.3  0.4  0.5  0.6  \\\n",
       "5493          0        0.092283          0    1    0    0    0    0    0    0   \n",
       "8064          0        0.072497          0    1    0    0    0    0    0    0   \n",
       "4716          0        0.308403          0    1    1    1    1    0    0    0   \n",
       "9117          0        0.217601          0    1    1    1    0    0    0    0   \n",
       "2402          1        0.379004          0    1    1    1    1    0    0    0   \n",
       "\n",
       "      0.7  0.8  0.9  final_predicted  \n",
       "5493    0    0    0                0  \n",
       "8064    0    0    0                0  \n",
       "4716    0    0    0                0  \n",
       "9117    0    0    0                0  \n",
       "2402    0    0    0                1  "
      ]
     },
     "execution_count": 532,
     "metadata": {},
     "output_type": "execute_result"
    }
   ],
   "source": [
    "y_train_pred_final['final_predicted'] = y_train_pred_final.Converted_Prob.map( lambda x: 1 if x > 0.35 else 0)\n",
    "y_train_pred_final.head()"
   ]
  },
  {
   "cell_type": "markdown",
   "id": "46c58018",
   "metadata": {},
   "source": [
    "## Step 14: Confusion Metrics and Accuracy"
   ]
  },
  {
   "cell_type": "code",
   "execution_count": 533,
   "id": "9c976368",
   "metadata": {},
   "outputs": [
    {
     "data": {
      "text/plain": [
       "array([[3162,  747],\n",
       "       [ 474, 1937]], dtype=int64)"
      ]
     },
     "execution_count": 533,
     "metadata": {},
     "output_type": "execute_result"
    }
   ],
   "source": [
    "# Creating confusion matrix \n",
    "confusion = metrics.confusion_matrix(y_train_pred_final.Converted, y_train_pred_final.final_predicted )\n",
    "confusion"
   ]
  },
  {
   "cell_type": "code",
   "execution_count": 534,
   "id": "920be866",
   "metadata": {},
   "outputs": [
    {
     "data": {
      "text/plain": [
       "0.8068037974683544"
      ]
     },
     "execution_count": 534,
     "metadata": {},
     "output_type": "execute_result"
    }
   ],
   "source": [
    "#Let's check the overall accuracy.\n",
    "metrics.accuracy_score(y_train_pred_final.Converted, y_train_pred_final.final_predicted)"
   ]
  },
  {
   "cell_type": "code",
   "execution_count": 535,
   "id": "9ea39e37",
   "metadata": {},
   "outputs": [],
   "source": [
    "# Substituting the value of true positive\n",
    "TP = confusion[1,1]\n",
    "# Substituting the value of true negatives\n",
    "TN = confusion[0,0]\n",
    "# Substituting the value of false positives\n",
    "FP = confusion[0,1] \n",
    "# Substituting the value of false negatives\n",
    "FN = confusion[1,0]"
   ]
  },
  {
   "cell_type": "code",
   "execution_count": 536,
   "id": "66b76c51",
   "metadata": {},
   "outputs": [
    {
     "data": {
      "text/plain": [
       "0.8034010783907093"
      ]
     },
     "execution_count": 536,
     "metadata": {},
     "output_type": "execute_result"
    }
   ],
   "source": [
    "# Calculating the sensitivity\n",
    "TP/(TP+FN)"
   ]
  },
  {
   "cell_type": "code",
   "execution_count": 537,
   "id": "8c34ca35",
   "metadata": {},
   "outputs": [
    {
     "data": {
      "text/plain": [
       "0.8089025326170376"
      ]
     },
     "execution_count": 537,
     "metadata": {},
     "output_type": "execute_result"
    }
   ],
   "source": [
    "# Calculating the specificity\n",
    "TN/(TN+FP)"
   ]
  },
  {
   "cell_type": "code",
   "execution_count": 538,
   "id": "798d4f92",
   "metadata": {},
   "outputs": [
    {
     "data": {
      "text/plain": [
       "0.1910974673829624"
      ]
     },
     "execution_count": 538,
     "metadata": {},
     "output_type": "execute_result"
    }
   ],
   "source": [
    "#Calculate false postive rate - predicting conversion rate when customer will be a hot lead or not\n",
    "FP/(TN+FP)"
   ]
  },
  {
   "cell_type": "code",
   "execution_count": 539,
   "id": "ce9cbba1",
   "metadata": {},
   "outputs": [
    {
     "name": "stdout",
     "output_type": "stream",
     "text": [
      "0.7216840536512668\n"
     ]
    }
   ],
   "source": [
    "#Positive predictive value \n",
    "print (TP / float(TP+FP))"
   ]
  },
  {
   "cell_type": "code",
   "execution_count": 540,
   "id": "8d6ae990",
   "metadata": {},
   "outputs": [
    {
     "name": "stdout",
     "output_type": "stream",
     "text": [
      "0.8696369636963697\n"
     ]
    }
   ],
   "source": [
    "#Negative predictive value\n",
    "print (TN / float(TN+ FN))"
   ]
  },
  {
   "cell_type": "markdown",
   "id": "4c8154fe",
   "metadata": {},
   "source": [
    "### Interpretation of Accuracy - Specificity - Sensitivity\n",
    "<span Style=\"color:blue\">\n",
    "    \n",
    "- Accuracy    = 80.68%\n",
    "- Sensitivity = 80.34%\n",
    "- Specificity = 80.89%\n",
    "\n",
    "</span>"
   ]
  },
  {
   "cell_type": "markdown",
   "id": "45fb0b11",
   "metadata": {},
   "source": [
    "## Step 15: Plotting the ROC curve"
   ]
  },
  {
   "cell_type": "code",
   "execution_count": 541,
   "id": "807e61ad",
   "metadata": {},
   "outputs": [],
   "source": [
    "def draw_roc( actual, probs ):\n",
    "    fpr, tpr, thresholds = metrics.roc_curve( actual, probs,\n",
    "                                              drop_intermediate = False )\n",
    "    auc_score = metrics.roc_auc_score( actual, probs )\n",
    "    plt.figure(figsize=(5, 5))\n",
    "    plt.plot( fpr, tpr, label='ROC curve (area = %0.2f)' % auc_score )\n",
    "    plt.plot([0, 1], [0, 1], 'k--')\n",
    "    plt.xlim([0.0, 1.0])\n",
    "    plt.ylim([0.0, 1.05])\n",
    "    plt.xlabel('False Positive Rate or [1 - True Negative Rate]')\n",
    "    plt.ylabel('True Positive Rate')\n",
    "    plt.title('Receiver operating characteristic example')\n",
    "    plt.legend(loc=\"lower right\")\n",
    "    plt.show()\n",
    "\n",
    "    return None"
   ]
  },
  {
   "cell_type": "code",
   "execution_count": 542,
   "id": "ad5ae7bd",
   "metadata": {},
   "outputs": [],
   "source": [
    "fpr, tpr, thresholds = metrics.roc_curve( y_train_pred_final.Converted, y_train_pred_final.Converted_Prob, drop_intermediate = False )"
   ]
  },
  {
   "cell_type": "code",
   "execution_count": 543,
   "id": "3b72e747",
   "metadata": {},
   "outputs": [
    {
     "data": {
      "image/png": "[encoded data removed]",
      "text/plain": [
       "<Figure size 360x360 with 1 Axes>"
      ]
     },
     "metadata": {
      "needs_background": "light"
     },
     "output_type": "display_data"
    }
   ],
   "source": [
    "draw_roc(y_train_pred_final.Converted, y_train_pred_final.Converted_Prob)"
   ]
  },
  {
   "cell_type": "markdown",
   "id": "330c3489",
   "metadata": {},
   "source": [
    "## Step 16: Making Predictions on the Test set\n"
   ]
  },
  {
   "cell_type": "markdown",
   "id": "3b9e3d7a",
   "metadata": {},
   "source": [
    "#### Step 16.1: Scaling on test set"
   ]
  },
  {
   "cell_type": "code",
   "execution_count": 544,
   "id": "338936d4",
   "metadata": {},
   "outputs": [],
   "source": [
    "#Perform all the scaling on the available features.\n",
    "X_test[['TotalVisits','Total Time Spent on Website','Page Views Per Visit']] = scaler.transform(X_test[['TotalVisits', 'Total Time Spent on Website','Page Views Per Visit']])"
   ]
  },
  {
   "cell_type": "code",
   "execution_count": 545,
   "id": "a1ffdf3e",
   "metadata": {},
   "outputs": [
    {
     "data": {
      "text/html": [
       "<div>\n",
       "<style scoped>\n",
       "    .dataframe tbody tr th:only-of-type {\n",
       "        vertical-align: middle;\n",
       "    }\n",
       "\n",
       "    .dataframe tbody tr th {\n",
       "        vertical-align: top;\n",
       "    }\n",
       "\n",
       "    .dataframe thead th {\n",
       "        text-align: right;\n",
       "    }\n",
       "</style>\n",
       "<table border=\"1\" class=\"dataframe\">\n",
       "  <thead>\n",
       "    <tr style=\"text-align: right;\">\n",
       "      <th></th>\n",
       "      <th>TotalVisits</th>\n",
       "      <th>Total Time Spent on Website</th>\n",
       "      <th>Lead Origin_Landing Page Submission</th>\n",
       "      <th>Lead Origin_Lead Add Form</th>\n",
       "      <th>Last Activity_Email Bounced</th>\n",
       "      <th>Last Activity_Email Link Clicked</th>\n",
       "      <th>Last Activity_Email Opened</th>\n",
       "      <th>Last Activity_Olark Chat Conversation</th>\n",
       "      <th>Last Activity_Others</th>\n",
       "      <th>Last Activity_SMS Sent</th>\n",
       "      <th>Lead Source_Olark Chat</th>\n",
       "      <th>Lead Source_Others</th>\n",
       "      <th>What is your current occupation_Working Professional</th>\n",
       "      <th>Specialization_Not Specified</th>\n",
       "    </tr>\n",
       "  </thead>\n",
       "  <tbody>\n",
       "    <tr>\n",
       "      <th>4664</th>\n",
       "      <td>0.0000</td>\n",
       "      <td>0.000000</td>\n",
       "      <td>0</td>\n",
       "      <td>0</td>\n",
       "      <td>0</td>\n",
       "      <td>0</td>\n",
       "      <td>1</td>\n",
       "      <td>0</td>\n",
       "      <td>0</td>\n",
       "      <td>0</td>\n",
       "      <td>1</td>\n",
       "      <td>0</td>\n",
       "      <td>0</td>\n",
       "      <td>1</td>\n",
       "    </tr>\n",
       "    <tr>\n",
       "      <th>5394</th>\n",
       "      <td>0.2500</td>\n",
       "      <td>0.072183</td>\n",
       "      <td>0</td>\n",
       "      <td>0</td>\n",
       "      <td>0</td>\n",
       "      <td>0</td>\n",
       "      <td>1</td>\n",
       "      <td>0</td>\n",
       "      <td>0</td>\n",
       "      <td>0</td>\n",
       "      <td>1</td>\n",
       "      <td>0</td>\n",
       "      <td>0</td>\n",
       "      <td>0</td>\n",
       "    </tr>\n",
       "    <tr>\n",
       "      <th>1595</th>\n",
       "      <td>0.2500</td>\n",
       "      <td>0.515405</td>\n",
       "      <td>1</td>\n",
       "      <td>0</td>\n",
       "      <td>0</td>\n",
       "      <td>0</td>\n",
       "      <td>1</td>\n",
       "      <td>0</td>\n",
       "      <td>0</td>\n",
       "      <td>0</td>\n",
       "      <td>0</td>\n",
       "      <td>0</td>\n",
       "      <td>1</td>\n",
       "      <td>0</td>\n",
       "    </tr>\n",
       "    <tr>\n",
       "      <th>2111</th>\n",
       "      <td>0.4375</td>\n",
       "      <td>0.229754</td>\n",
       "      <td>1</td>\n",
       "      <td>0</td>\n",
       "      <td>0</td>\n",
       "      <td>0</td>\n",
       "      <td>1</td>\n",
       "      <td>0</td>\n",
       "      <td>0</td>\n",
       "      <td>0</td>\n",
       "      <td>0</td>\n",
       "      <td>0</td>\n",
       "      <td>0</td>\n",
       "      <td>0</td>\n",
       "    </tr>\n",
       "    <tr>\n",
       "      <th>9182</th>\n",
       "      <td>0.0000</td>\n",
       "      <td>0.000000</td>\n",
       "      <td>0</td>\n",
       "      <td>0</td>\n",
       "      <td>0</td>\n",
       "      <td>0</td>\n",
       "      <td>0</td>\n",
       "      <td>0</td>\n",
       "      <td>0</td>\n",
       "      <td>1</td>\n",
       "      <td>1</td>\n",
       "      <td>0</td>\n",
       "      <td>0</td>\n",
       "      <td>1</td>\n",
       "    </tr>\n",
       "  </tbody>\n",
       "</table>\n",
       "</div>"
      ],
      "text/plain": [
       "      TotalVisits  Total Time Spent on Website  \\\n",
       "4664       0.0000                     0.000000   \n",
       "5394       0.2500                     0.072183   \n",
       "1595       0.2500                     0.515405   \n",
       "2111       0.4375                     0.229754   \n",
       "9182       0.0000                     0.000000   \n",
       "\n",
       "      Lead Origin_Landing Page Submission  Lead Origin_Lead Add Form  \\\n",
       "4664                                    0                          0   \n",
       "5394                                    0                          0   \n",
       "1595                                    1                          0   \n",
       "2111                                    1                          0   \n",
       "9182                                    0                          0   \n",
       "\n",
       "      Last Activity_Email Bounced  Last Activity_Email Link Clicked  \\\n",
       "4664                            0                                 0   \n",
       "5394                            0                                 0   \n",
       "1595                            0                                 0   \n",
       "2111                            0                                 0   \n",
       "9182                            0                                 0   \n",
       "\n",
       "      Last Activity_Email Opened  Last Activity_Olark Chat Conversation  \\\n",
       "4664                           1                                      0   \n",
       "5394                           1                                      0   \n",
       "1595                           1                                      0   \n",
       "2111                           1                                      0   \n",
       "9182                           0                                      0   \n",
       "\n",
       "      Last Activity_Others  Last Activity_SMS Sent  Lead Source_Olark Chat  \\\n",
       "4664                     0                       0                       1   \n",
       "5394                     0                       0                       1   \n",
       "1595                     0                       0                       0   \n",
       "2111                     0                       0                       0   \n",
       "9182                     0                       1                       1   \n",
       "\n",
       "      Lead Source_Others  \\\n",
       "4664                   0   \n",
       "5394                   0   \n",
       "1595                   0   \n",
       "2111                   0   \n",
       "9182                   0   \n",
       "\n",
       "      What is your current occupation_Working Professional  \\\n",
       "4664                                                  0      \n",
       "5394                                                  0      \n",
       "1595                                                  1      \n",
       "2111                                                  0      \n",
       "9182                                                  0      \n",
       "\n",
       "      Specialization_Not Specified  \n",
       "4664                             1  \n",
       "5394                             0  \n",
       "1595                             0  \n",
       "2111                             0  \n",
       "9182                             1  "
      ]
     },
     "execution_count": 545,
     "metadata": {},
     "output_type": "execute_result"
    }
   ],
   "source": [
    "# Select the columns in X_train for X_test as well\n",
    "X_test = X_test[col]\n",
    "X_test.head()"
   ]
  },
  {
   "cell_type": "code",
   "execution_count": 546,
   "id": "c81ef828",
   "metadata": {},
   "outputs": [],
   "source": [
    "#Adding a constant for X_Test.\n",
    "X_test_sm = sm.add_constant(X_test)"
   ]
  },
  {
   "cell_type": "code",
   "execution_count": 547,
   "id": "4f9a3c7d",
   "metadata": {},
   "outputs": [],
   "source": [
    "#y_test_pred - X_test_sm has all the features after model building\n",
    "#res = > Result of model building\n",
    "\n",
    "y_test_pred = res.predict(X_test_sm)"
   ]
  },
  {
   "cell_type": "code",
   "execution_count": 548,
   "id": "359d7cd9",
   "metadata": {},
   "outputs": [
    {
     "data": {
      "text/plain": [
       "Index(['const', 'TotalVisits', 'Total Time Spent on Website',\n",
       "       'Lead Origin_Landing Page Submission', 'Lead Origin_Lead Add Form',\n",
       "       'Last Activity_Email Bounced', 'Last Activity_Email Link Clicked',\n",
       "       'Last Activity_Email Opened', 'Last Activity_Olark Chat Conversation',\n",
       "       'Last Activity_Others', 'Last Activity_SMS Sent',\n",
       "       'Lead Source_Olark Chat', 'Lead Source_Others',\n",
       "       'What is your current occupation_Working Professional',\n",
       "       'Specialization_Not Specified'],\n",
       "      dtype='object')"
      ]
     },
     "execution_count": 548,
     "metadata": {},
     "output_type": "execute_result"
    }
   ],
   "source": [
    "X_test_sm.columns"
   ]
  },
  {
   "cell_type": "code",
   "execution_count": 549,
   "id": "5ee935ae",
   "metadata": {},
   "outputs": [
    {
     "data": {
      "text/plain": [
       "4664    0.217601\n",
       "5394    0.600732\n",
       "1595    0.923844\n",
       "2111    0.248248\n",
       "9182    0.469149\n",
       "1055    0.729528\n",
       "541     0.116925\n",
       "446     0.996946\n",
       "3728    0.038491\n",
       "4249    0.051507\n",
       "dtype: float64"
      ]
     },
     "execution_count": 549,
     "metadata": {},
     "output_type": "execute_result"
    }
   ],
   "source": [
    "#Displaying all the predicted values\n",
    "y_test_pred[:10]"
   ]
  },
  {
   "cell_type": "markdown",
   "id": "218ae903",
   "metadata": {},
   "source": [
    "#### Step 16.2: Creating a dataframe with the predicted values"
   ]
  },
  {
   "cell_type": "code",
   "execution_count": 550,
   "id": "e0a826a3",
   "metadata": {},
   "outputs": [
    {
     "data": {
      "text/html": [
       "<div>\n",
       "<style scoped>\n",
       "    .dataframe tbody tr th:only-of-type {\n",
       "        vertical-align: middle;\n",
       "    }\n",
       "\n",
       "    .dataframe tbody tr th {\n",
       "        vertical-align: top;\n",
       "    }\n",
       "\n",
       "    .dataframe thead th {\n",
       "        text-align: right;\n",
       "    }\n",
       "</style>\n",
       "<table border=\"1\" class=\"dataframe\">\n",
       "  <thead>\n",
       "    <tr style=\"text-align: right;\">\n",
       "      <th></th>\n",
       "      <th>0</th>\n",
       "    </tr>\n",
       "  </thead>\n",
       "  <tbody>\n",
       "    <tr>\n",
       "      <th>4664</th>\n",
       "      <td>0.217601</td>\n",
       "    </tr>\n",
       "    <tr>\n",
       "      <th>5394</th>\n",
       "      <td>0.600732</td>\n",
       "    </tr>\n",
       "    <tr>\n",
       "      <th>1595</th>\n",
       "      <td>0.923844</td>\n",
       "    </tr>\n",
       "    <tr>\n",
       "      <th>2111</th>\n",
       "      <td>0.248248</td>\n",
       "    </tr>\n",
       "    <tr>\n",
       "      <th>9182</th>\n",
       "      <td>0.469149</td>\n",
       "    </tr>\n",
       "  </tbody>\n",
       "</table>\n",
       "</div>"
      ],
      "text/plain": [
       "             0\n",
       "4664  0.217601\n",
       "5394  0.600732\n",
       "1595  0.923844\n",
       "2111  0.248248\n",
       "9182  0.469149"
      ]
     },
     "execution_count": 550,
     "metadata": {},
     "output_type": "execute_result"
    }
   ],
   "source": [
    "#Converting y_pred to a dataframe which is an array\n",
    "y_test_pred_1 = pd.DataFrame(y_test_pred)\n",
    "y_test_pred_1.head()"
   ]
  },
  {
   "cell_type": "code",
   "execution_count": 551,
   "id": "85c0e336",
   "metadata": {},
   "outputs": [],
   "source": [
    "# Converting y_test to dataframe\n",
    "\n",
    "y_test_df = pd.DataFrame(y_test)"
   ]
  },
  {
   "cell_type": "code",
   "execution_count": 552,
   "id": "1a86d716",
   "metadata": {},
   "outputs": [],
   "source": [
    "# Removing index for both dataframes to append them side by side \n",
    "\n",
    "y_test_pred_1.reset_index(drop=True, inplace=True)\n",
    "y_test_df.reset_index(drop=True, inplace=True)"
   ]
  },
  {
   "cell_type": "code",
   "execution_count": 553,
   "id": "fb52bb1e",
   "metadata": {},
   "outputs": [],
   "source": [
    "# Appending y_test_df and y_pred_1\n",
    "\n",
    "y_pred_final = pd.concat([y_test_df, y_test_pred_1],axis=1)"
   ]
  },
  {
   "cell_type": "code",
   "execution_count": 554,
   "id": "ae5703d4",
   "metadata": {},
   "outputs": [
    {
     "data": {
      "text/html": [
       "<div>\n",
       "<style scoped>\n",
       "    .dataframe tbody tr th:only-of-type {\n",
       "        vertical-align: middle;\n",
       "    }\n",
       "\n",
       "    .dataframe tbody tr th {\n",
       "        vertical-align: top;\n",
       "    }\n",
       "\n",
       "    .dataframe thead th {\n",
       "        text-align: right;\n",
       "    }\n",
       "</style>\n",
       "<table border=\"1\" class=\"dataframe\">\n",
       "  <thead>\n",
       "    <tr style=\"text-align: right;\">\n",
       "      <th></th>\n",
       "      <th>Converted</th>\n",
       "      <th>0</th>\n",
       "    </tr>\n",
       "  </thead>\n",
       "  <tbody>\n",
       "    <tr>\n",
       "      <th>0</th>\n",
       "      <td>0</td>\n",
       "      <td>0.217601</td>\n",
       "    </tr>\n",
       "    <tr>\n",
       "      <th>1</th>\n",
       "      <td>0</td>\n",
       "      <td>0.600732</td>\n",
       "    </tr>\n",
       "    <tr>\n",
       "      <th>2</th>\n",
       "      <td>1</td>\n",
       "      <td>0.923844</td>\n",
       "    </tr>\n",
       "    <tr>\n",
       "      <th>3</th>\n",
       "      <td>0</td>\n",
       "      <td>0.248248</td>\n",
       "    </tr>\n",
       "    <tr>\n",
       "      <th>4</th>\n",
       "      <td>0</td>\n",
       "      <td>0.469149</td>\n",
       "    </tr>\n",
       "  </tbody>\n",
       "</table>\n",
       "</div>"
      ],
      "text/plain": [
       "   Converted         0\n",
       "0          0  0.217601\n",
       "1          0  0.600732\n",
       "2          1  0.923844\n",
       "3          0  0.248248\n",
       "4          0  0.469149"
      ]
     },
     "execution_count": 554,
     "metadata": {},
     "output_type": "execute_result"
    }
   ],
   "source": [
    "y_pred_final.head()"
   ]
  },
  {
   "cell_type": "code",
   "execution_count": 555,
   "id": "728202d8",
   "metadata": {},
   "outputs": [],
   "source": [
    "# Renaming the column \n",
    "\n",
    "y_pred_final= y_pred_final.rename(columns={ 0 : 'Converted_Prob'})"
   ]
  },
  {
   "cell_type": "code",
   "execution_count": 556,
   "id": "3ffc6d5a",
   "metadata": {},
   "outputs": [],
   "source": [
    "#Predicting the test model on cut off probabilty\n",
    "y_pred_final['final_predicted'] = y_pred_final.Converted_Prob.map(lambda x: 1 if x > 0.35 else 0)"
   ]
  },
  {
   "cell_type": "code",
   "execution_count": 557,
   "id": "b13dee25",
   "metadata": {},
   "outputs": [],
   "source": [
    "# Rearranging the columns\n",
    "\n",
    "y_pred_final = y_pred_final.reindex(['Converted','Converted_Prob'], axis=1)"
   ]
  },
  {
   "cell_type": "code",
   "execution_count": 558,
   "id": "972c8a11",
   "metadata": {},
   "outputs": [
    {
     "data": {
      "text/html": [
       "<div>\n",
       "<style scoped>\n",
       "    .dataframe tbody tr th:only-of-type {\n",
       "        vertical-align: middle;\n",
       "    }\n",
       "\n",
       "    .dataframe tbody tr th {\n",
       "        vertical-align: top;\n",
       "    }\n",
       "\n",
       "    .dataframe thead th {\n",
       "        text-align: right;\n",
       "    }\n",
       "</style>\n",
       "<table border=\"1\" class=\"dataframe\">\n",
       "  <thead>\n",
       "    <tr style=\"text-align: right;\">\n",
       "      <th></th>\n",
       "      <th>Converted</th>\n",
       "      <th>Converted_Prob</th>\n",
       "    </tr>\n",
       "  </thead>\n",
       "  <tbody>\n",
       "    <tr>\n",
       "      <th>0</th>\n",
       "      <td>0</td>\n",
       "      <td>0.217601</td>\n",
       "    </tr>\n",
       "    <tr>\n",
       "      <th>1</th>\n",
       "      <td>0</td>\n",
       "      <td>0.600732</td>\n",
       "    </tr>\n",
       "    <tr>\n",
       "      <th>2</th>\n",
       "      <td>1</td>\n",
       "      <td>0.923844</td>\n",
       "    </tr>\n",
       "    <tr>\n",
       "      <th>3</th>\n",
       "      <td>0</td>\n",
       "      <td>0.248248</td>\n",
       "    </tr>\n",
       "    <tr>\n",
       "      <th>4</th>\n",
       "      <td>0</td>\n",
       "      <td>0.469149</td>\n",
       "    </tr>\n",
       "  </tbody>\n",
       "</table>\n",
       "</div>"
      ],
      "text/plain": [
       "   Converted  Converted_Prob\n",
       "0          0        0.217601\n",
       "1          0        0.600732\n",
       "2          1        0.923844\n",
       "3          0        0.248248\n",
       "4          0        0.469149"
      ]
     },
     "execution_count": 558,
     "metadata": {},
     "output_type": "execute_result"
    }
   ],
   "source": [
    "y_pred_final.head()"
   ]
  },
  {
   "cell_type": "code",
   "execution_count": 559,
   "id": "c4ba42d3",
   "metadata": {},
   "outputs": [],
   "source": [
    "# Based on cut off threshold using accuracy, sensitivity and specificity of 0.37%\n",
    "\n",
    "y_pred_final['final_predicted'] = y_pred_final.Converted_Prob.map(lambda x: 1 if x > 0.37 else 0)"
   ]
  },
  {
   "cell_type": "code",
   "execution_count": 560,
   "id": "e185866d",
   "metadata": {},
   "outputs": [
    {
     "data": {
      "text/html": [
       "<div>\n",
       "<style scoped>\n",
       "    .dataframe tbody tr th:only-of-type {\n",
       "        vertical-align: middle;\n",
       "    }\n",
       "\n",
       "    .dataframe tbody tr th {\n",
       "        vertical-align: top;\n",
       "    }\n",
       "\n",
       "    .dataframe thead th {\n",
       "        text-align: right;\n",
       "    }\n",
       "</style>\n",
       "<table border=\"1\" class=\"dataframe\">\n",
       "  <thead>\n",
       "    <tr style=\"text-align: right;\">\n",
       "      <th></th>\n",
       "      <th>Converted</th>\n",
       "      <th>Converted_Prob</th>\n",
       "      <th>final_predicted</th>\n",
       "    </tr>\n",
       "  </thead>\n",
       "  <tbody>\n",
       "    <tr>\n",
       "      <th>0</th>\n",
       "      <td>0</td>\n",
       "      <td>0.217601</td>\n",
       "      <td>0</td>\n",
       "    </tr>\n",
       "    <tr>\n",
       "      <th>1</th>\n",
       "      <td>0</td>\n",
       "      <td>0.600732</td>\n",
       "      <td>1</td>\n",
       "    </tr>\n",
       "    <tr>\n",
       "      <th>2</th>\n",
       "      <td>1</td>\n",
       "      <td>0.923844</td>\n",
       "      <td>1</td>\n",
       "    </tr>\n",
       "    <tr>\n",
       "      <th>3</th>\n",
       "      <td>0</td>\n",
       "      <td>0.248248</td>\n",
       "      <td>0</td>\n",
       "    </tr>\n",
       "    <tr>\n",
       "      <th>4</th>\n",
       "      <td>0</td>\n",
       "      <td>0.469149</td>\n",
       "      <td>1</td>\n",
       "    </tr>\n",
       "  </tbody>\n",
       "</table>\n",
       "</div>"
      ],
      "text/plain": [
       "   Converted  Converted_Prob  final_predicted\n",
       "0          0        0.217601                0\n",
       "1          0        0.600732                1\n",
       "2          1        0.923844                1\n",
       "3          0        0.248248                0\n",
       "4          0        0.469149                1"
      ]
     },
     "execution_count": 560,
     "metadata": {},
     "output_type": "execute_result"
    }
   ],
   "source": [
    "y_pred_final.head()"
   ]
  },
  {
   "cell_type": "code",
   "execution_count": 561,
   "id": "89e36ec2",
   "metadata": {},
   "outputs": [
    {
     "data": {
      "text/html": [
       "<div>\n",
       "<style scoped>\n",
       "    .dataframe tbody tr th:only-of-type {\n",
       "        vertical-align: middle;\n",
       "    }\n",
       "\n",
       "    .dataframe tbody tr th {\n",
       "        vertical-align: top;\n",
       "    }\n",
       "\n",
       "    .dataframe thead th {\n",
       "        text-align: right;\n",
       "    }\n",
       "</style>\n",
       "<table border=\"1\" class=\"dataframe\">\n",
       "  <thead>\n",
       "    <tr style=\"text-align: right;\">\n",
       "      <th></th>\n",
       "      <th>Converted</th>\n",
       "      <th>Converted_Prob</th>\n",
       "      <th>final_predicted</th>\n",
       "      <th>lead_score</th>\n",
       "    </tr>\n",
       "  </thead>\n",
       "  <tbody>\n",
       "    <tr>\n",
       "      <th>0</th>\n",
       "      <td>0</td>\n",
       "      <td>0.217601</td>\n",
       "      <td>0</td>\n",
       "      <td>22</td>\n",
       "    </tr>\n",
       "    <tr>\n",
       "      <th>1</th>\n",
       "      <td>0</td>\n",
       "      <td>0.600732</td>\n",
       "      <td>1</td>\n",
       "      <td>60</td>\n",
       "    </tr>\n",
       "    <tr>\n",
       "      <th>2</th>\n",
       "      <td>1</td>\n",
       "      <td>0.923844</td>\n",
       "      <td>1</td>\n",
       "      <td>92</td>\n",
       "    </tr>\n",
       "    <tr>\n",
       "      <th>3</th>\n",
       "      <td>0</td>\n",
       "      <td>0.248248</td>\n",
       "      <td>0</td>\n",
       "      <td>25</td>\n",
       "    </tr>\n",
       "    <tr>\n",
       "      <th>4</th>\n",
       "      <td>0</td>\n",
       "      <td>0.469149</td>\n",
       "      <td>1</td>\n",
       "      <td>47</td>\n",
       "    </tr>\n",
       "    <tr>\n",
       "      <th>5</th>\n",
       "      <td>1</td>\n",
       "      <td>0.729528</td>\n",
       "      <td>1</td>\n",
       "      <td>73</td>\n",
       "    </tr>\n",
       "    <tr>\n",
       "      <th>6</th>\n",
       "      <td>0</td>\n",
       "      <td>0.116925</td>\n",
       "      <td>0</td>\n",
       "      <td>12</td>\n",
       "    </tr>\n",
       "    <tr>\n",
       "      <th>7</th>\n",
       "      <td>1</td>\n",
       "      <td>0.996946</td>\n",
       "      <td>1</td>\n",
       "      <td>100</td>\n",
       "    </tr>\n",
       "    <tr>\n",
       "      <th>8</th>\n",
       "      <td>0</td>\n",
       "      <td>0.038491</td>\n",
       "      <td>0</td>\n",
       "      <td>4</td>\n",
       "    </tr>\n",
       "    <tr>\n",
       "      <th>9</th>\n",
       "      <td>0</td>\n",
       "      <td>0.051507</td>\n",
       "      <td>0</td>\n",
       "      <td>5</td>\n",
       "    </tr>\n",
       "    <tr>\n",
       "      <th>10</th>\n",
       "      <td>0</td>\n",
       "      <td>0.129887</td>\n",
       "      <td>0</td>\n",
       "      <td>13</td>\n",
       "    </tr>\n",
       "    <tr>\n",
       "      <th>11</th>\n",
       "      <td>1</td>\n",
       "      <td>0.916516</td>\n",
       "      <td>1</td>\n",
       "      <td>92</td>\n",
       "    </tr>\n",
       "    <tr>\n",
       "      <th>12</th>\n",
       "      <td>1</td>\n",
       "      <td>0.378122</td>\n",
       "      <td>1</td>\n",
       "      <td>38</td>\n",
       "    </tr>\n",
       "    <tr>\n",
       "      <th>13</th>\n",
       "      <td>0</td>\n",
       "      <td>0.386249</td>\n",
       "      <td>1</td>\n",
       "      <td>39</td>\n",
       "    </tr>\n",
       "    <tr>\n",
       "      <th>14</th>\n",
       "      <td>0</td>\n",
       "      <td>0.055053</td>\n",
       "      <td>0</td>\n",
       "      <td>6</td>\n",
       "    </tr>\n",
       "    <tr>\n",
       "      <th>15</th>\n",
       "      <td>0</td>\n",
       "      <td>0.027753</td>\n",
       "      <td>0</td>\n",
       "      <td>3</td>\n",
       "    </tr>\n",
       "    <tr>\n",
       "      <th>16</th>\n",
       "      <td>1</td>\n",
       "      <td>0.367106</td>\n",
       "      <td>0</td>\n",
       "      <td>37</td>\n",
       "    </tr>\n",
       "    <tr>\n",
       "      <th>17</th>\n",
       "      <td>0</td>\n",
       "      <td>0.167972</td>\n",
       "      <td>0</td>\n",
       "      <td>17</td>\n",
       "    </tr>\n",
       "    <tr>\n",
       "      <th>18</th>\n",
       "      <td>0</td>\n",
       "      <td>0.887216</td>\n",
       "      <td>1</td>\n",
       "      <td>89</td>\n",
       "    </tr>\n",
       "    <tr>\n",
       "      <th>19</th>\n",
       "      <td>1</td>\n",
       "      <td>0.996946</td>\n",
       "      <td>1</td>\n",
       "      <td>100</td>\n",
       "    </tr>\n",
       "  </tbody>\n",
       "</table>\n",
       "</div>"
      ],
      "text/plain": [
       "    Converted  Converted_Prob  final_predicted  lead_score\n",
       "0           0        0.217601                0          22\n",
       "1           0        0.600732                1          60\n",
       "2           1        0.923844                1          92\n",
       "3           0        0.248248                0          25\n",
       "4           0        0.469149                1          47\n",
       "5           1        0.729528                1          73\n",
       "6           0        0.116925                0          12\n",
       "7           1        0.996946                1         100\n",
       "8           0        0.038491                0           4\n",
       "9           0        0.051507                0           5\n",
       "10          0        0.129887                0          13\n",
       "11          1        0.916516                1          92\n",
       "12          1        0.378122                1          38\n",
       "13          0        0.386249                1          39\n",
       "14          0        0.055053                0           6\n",
       "15          0        0.027753                0           3\n",
       "16          1        0.367106                0          37\n",
       "17          0        0.167972                0          17\n",
       "18          0        0.887216                1          89\n",
       "19          1        0.996946                1         100"
      ]
     },
     "execution_count": 561,
     "metadata": {},
     "output_type": "execute_result"
    }
   ],
   "source": [
    "# Now let us calculate the lead score\n",
    "\n",
    "y_pred_final['lead_score'] = y_pred_final.Converted_Prob.map(lambda x: round(x*100))\n",
    "y_pred_final.head(20)"
   ]
  },
  {
   "cell_type": "code",
   "execution_count": 562,
   "id": "98eb688d",
   "metadata": {},
   "outputs": [
    {
     "data": {
      "text/plain": [
       "1    869\n",
       "0    197\n",
       "Name: final_predicted, dtype: int64"
      ]
     },
     "execution_count": 562,
     "metadata": {},
     "output_type": "execute_result"
    }
   ],
   "source": [
    "# checking if 80% cases are correctly predicted based on the converted column.\n",
    "\n",
    "# get the total of final predicted conversion or non conversion counts from the actual converted rates\n",
    "\n",
    "checking_test_df = y_pred_final.loc[y_pred_final['Converted']==1,['Converted','final_predicted']]\n",
    "checking_test_df['final_predicted'].value_counts()"
   ]
  },
  {
   "cell_type": "code",
   "execution_count": 563,
   "id": "6d5fdb3b",
   "metadata": {},
   "outputs": [
    {
     "data": {
      "text/plain": [
       "0.8151969981238274"
      ]
     },
     "execution_count": 563,
     "metadata": {},
     "output_type": "execute_result"
    }
   ],
   "source": [
    "# check the precentage of final_predicted conversions on test data\n",
    "\n",
    "869/float(869+197)"
   ]
  },
  {
   "cell_type": "markdown",
   "id": "05f006ef",
   "metadata": {},
   "source": [
    "## Step 17: Metrics on Test set\n"
   ]
  },
  {
   "cell_type": "code",
   "execution_count": 564,
   "id": "8c252a5a",
   "metadata": {},
   "outputs": [
    {
     "data": {
      "text/plain": [
       "array([[1347,  296],\n",
       "       [ 197,  869]], dtype=int64)"
      ]
     },
     "execution_count": 564,
     "metadata": {},
     "output_type": "execute_result"
    }
   ],
   "source": [
    "confusion2= metrics.confusion_matrix(y_pred_final.Converted, y_pred_final.final_predicted)\n",
    "confusion2"
   ]
  },
  {
   "cell_type": "code",
   "execution_count": 565,
   "id": "cae02a13",
   "metadata": {},
   "outputs": [],
   "source": [
    "TP = confusion2[1,1] # true positive \n",
    "TN = confusion2[0,0] # true negatives\n",
    "FP = confusion2[0,1] # false positives\n",
    "FN = confusion2[1,0] # false negatives"
   ]
  },
  {
   "cell_type": "code",
   "execution_count": 566,
   "id": "781cefac",
   "metadata": {},
   "outputs": [
    {
     "data": {
      "text/plain": [
       "0.819841752891053"
      ]
     },
     "execution_count": 566,
     "metadata": {},
     "output_type": "execute_result"
    }
   ],
   "source": [
    "# Calculating the specificity\n",
    "TN/(TN+FP)"
   ]
  },
  {
   "cell_type": "code",
   "execution_count": 567,
   "id": "91615d21",
   "metadata": {},
   "outputs": [
    {
     "data": {
      "text/plain": [
       "0.8151969981238274"
      ]
     },
     "execution_count": 567,
     "metadata": {},
     "output_type": "execute_result"
    }
   ],
   "source": [
    "# Calculating the sensitivity\n",
    "TP/(TP+FN)"
   ]
  },
  {
   "cell_type": "code",
   "execution_count": 568,
   "id": "96b39eae",
   "metadata": {},
   "outputs": [
    {
     "data": {
      "text/plain": [
       "0.8180140273163529"
      ]
     },
     "execution_count": 568,
     "metadata": {},
     "output_type": "execute_result"
    }
   ],
   "source": [
    "# Let's check the accuracy.\n",
    "\n",
    "metrics.accuracy_score(y_pred_final.Converted, y_pred_final.final_predicted)"
   ]
  },
  {
   "cell_type": "markdown",
   "id": "5aba41d7",
   "metadata": {},
   "source": [
    "### Interpretation of Accuracy - Specificity - Sensitivity on Test Set\n",
    "<span Style=\"color:blue\">\n",
    "    \n",
    "- Accuracy    = 81.80%\n",
    "- Sensitivity = 81.52%\n",
    "- Specificity = 81.98%\n",
    "\n",
    "</span>"
   ]
  },
  {
   "cell_type": "markdown",
   "id": "f738194e",
   "metadata": {},
   "source": [
    "## OBSERVATION : \n",
    "\n",
    "**We got 0.5% to 1% difference on train and test data's performance metrics.This implies that our final model didn't overfit training data and is performing well.**"
   ]
  },
  {
   "cell_type": "markdown",
   "id": "9162158b",
   "metadata": {},
   "source": [
    "**From our model, We can conclude following points :**\n",
    "    \n",
    "**1. The customer/leads who fills the form are the potential leads.**\n",
    "\n",
    "**2. We must majorly focus on working professionals.**\n",
    "\n",
    "**3. We must majorly focus on leads whose last activity is SMS sent or Email opened.** \n",
    "\n",
    "**4. It’s always good to focus on customers, who have spent significant time on our website.**\n",
    "\n",
    "**5. It’s better to focus least on customers to whom the sent mail is bounced back.**\n",
    "\n",
    "**6. If the lead source is referral, he/she may not be the potential lead.**\n",
    "\n",
    "**7. If the lead didn’t fill specialization, he/she may not know what to study and are not right people to target. So, it’s better to focus less on such cases.**"
   ]
  },
  {
   "cell_type": "markdown",
   "id": "72c5a218",
   "metadata": {},
   "source": [
    "## Step 18: LEAD SCORE - ASSIGNMENT TO ALL CUSTOMERS"
   ]
  },
  {
   "cell_type": "code",
   "execution_count": 569,
   "id": "6a669f72",
   "metadata": {},
   "outputs": [],
   "source": [
    "#Preparing the dataframe - to scale the variables and prepare the complete data.\n",
    "X[['TotalVisits', 'Total Time Spent on Website','Page Views Per Visit']] = scaler.transform(X[['TotalVisits', 'Total Time Spent on Website','Page Views Per Visit']])"
   ]
  },
  {
   "cell_type": "code",
   "execution_count": 570,
   "id": "de0e493a",
   "metadata": {},
   "outputs": [
    {
     "data": {
      "text/html": [
       "<div>\n",
       "<style scoped>\n",
       "    .dataframe tbody tr th:only-of-type {\n",
       "        vertical-align: middle;\n",
       "    }\n",
       "\n",
       "    .dataframe tbody tr th {\n",
       "        vertical-align: top;\n",
       "    }\n",
       "\n",
       "    .dataframe thead th {\n",
       "        text-align: right;\n",
       "    }\n",
       "</style>\n",
       "<table border=\"1\" class=\"dataframe\">\n",
       "  <thead>\n",
       "    <tr style=\"text-align: right;\">\n",
       "      <th></th>\n",
       "      <th>TotalVisits</th>\n",
       "      <th>Total Time Spent on Website</th>\n",
       "      <th>Lead Origin_Landing Page Submission</th>\n",
       "      <th>Lead Origin_Lead Add Form</th>\n",
       "      <th>Last Activity_Email Bounced</th>\n",
       "      <th>Last Activity_Email Link Clicked</th>\n",
       "      <th>Last Activity_Email Opened</th>\n",
       "      <th>Last Activity_Olark Chat Conversation</th>\n",
       "      <th>Last Activity_Others</th>\n",
       "      <th>Last Activity_SMS Sent</th>\n",
       "      <th>Lead Source_Olark Chat</th>\n",
       "      <th>Lead Source_Others</th>\n",
       "      <th>What is your current occupation_Working Professional</th>\n",
       "      <th>Specialization_Not Specified</th>\n",
       "    </tr>\n",
       "  </thead>\n",
       "  <tbody>\n",
       "    <tr>\n",
       "      <th>0</th>\n",
       "      <td>0.0000</td>\n",
       "      <td>0.000000</td>\n",
       "      <td>0</td>\n",
       "      <td>0</td>\n",
       "      <td>0</td>\n",
       "      <td>0</td>\n",
       "      <td>0</td>\n",
       "      <td>0</td>\n",
       "      <td>0</td>\n",
       "      <td>0</td>\n",
       "      <td>1</td>\n",
       "      <td>0</td>\n",
       "      <td>0</td>\n",
       "      <td>1</td>\n",
       "    </tr>\n",
       "    <tr>\n",
       "      <th>1</th>\n",
       "      <td>0.3125</td>\n",
       "      <td>0.296655</td>\n",
       "      <td>0</td>\n",
       "      <td>0</td>\n",
       "      <td>0</td>\n",
       "      <td>0</td>\n",
       "      <td>1</td>\n",
       "      <td>0</td>\n",
       "      <td>0</td>\n",
       "      <td>0</td>\n",
       "      <td>0</td>\n",
       "      <td>0</td>\n",
       "      <td>0</td>\n",
       "      <td>1</td>\n",
       "    </tr>\n",
       "    <tr>\n",
       "      <th>2</th>\n",
       "      <td>0.1250</td>\n",
       "      <td>0.674296</td>\n",
       "      <td>1</td>\n",
       "      <td>0</td>\n",
       "      <td>0</td>\n",
       "      <td>0</td>\n",
       "      <td>1</td>\n",
       "      <td>0</td>\n",
       "      <td>0</td>\n",
       "      <td>0</td>\n",
       "      <td>0</td>\n",
       "      <td>0</td>\n",
       "      <td>0</td>\n",
       "      <td>0</td>\n",
       "    </tr>\n",
       "    <tr>\n",
       "      <th>3</th>\n",
       "      <td>0.0625</td>\n",
       "      <td>0.134243</td>\n",
       "      <td>1</td>\n",
       "      <td>0</td>\n",
       "      <td>0</td>\n",
       "      <td>0</td>\n",
       "      <td>0</td>\n",
       "      <td>0</td>\n",
       "      <td>1</td>\n",
       "      <td>0</td>\n",
       "      <td>0</td>\n",
       "      <td>0</td>\n",
       "      <td>0</td>\n",
       "      <td>0</td>\n",
       "    </tr>\n",
       "    <tr>\n",
       "      <th>4</th>\n",
       "      <td>0.1250</td>\n",
       "      <td>0.628521</td>\n",
       "      <td>1</td>\n",
       "      <td>0</td>\n",
       "      <td>0</td>\n",
       "      <td>0</td>\n",
       "      <td>0</td>\n",
       "      <td>0</td>\n",
       "      <td>0</td>\n",
       "      <td>0</td>\n",
       "      <td>0</td>\n",
       "      <td>0</td>\n",
       "      <td>0</td>\n",
       "      <td>1</td>\n",
       "    </tr>\n",
       "  </tbody>\n",
       "</table>\n",
       "</div>"
      ],
      "text/plain": [
       "   TotalVisits  Total Time Spent on Website  \\\n",
       "0       0.0000                     0.000000   \n",
       "1       0.3125                     0.296655   \n",
       "2       0.1250                     0.674296   \n",
       "3       0.0625                     0.134243   \n",
       "4       0.1250                     0.628521   \n",
       "\n",
       "   Lead Origin_Landing Page Submission  Lead Origin_Lead Add Form  \\\n",
       "0                                    0                          0   \n",
       "1                                    0                          0   \n",
       "2                                    1                          0   \n",
       "3                                    1                          0   \n",
       "4                                    1                          0   \n",
       "\n",
       "   Last Activity_Email Bounced  Last Activity_Email Link Clicked  \\\n",
       "0                            0                                 0   \n",
       "1                            0                                 0   \n",
       "2                            0                                 0   \n",
       "3                            0                                 0   \n",
       "4                            0                                 0   \n",
       "\n",
       "   Last Activity_Email Opened  Last Activity_Olark Chat Conversation  \\\n",
       "0                           0                                      0   \n",
       "1                           1                                      0   \n",
       "2                           1                                      0   \n",
       "3                           0                                      0   \n",
       "4                           0                                      0   \n",
       "\n",
       "   Last Activity_Others  Last Activity_SMS Sent  Lead Source_Olark Chat  \\\n",
       "0                     0                       0                       1   \n",
       "1                     0                       0                       0   \n",
       "2                     0                       0                       0   \n",
       "3                     1                       0                       0   \n",
       "4                     0                       0                       0   \n",
       "\n",
       "   Lead Source_Others  What is your current occupation_Working Professional  \\\n",
       "0                   0                                                  0      \n",
       "1                   0                                                  0      \n",
       "2                   0                                                  0      \n",
       "3                   0                                                  0      \n",
       "4                   0                                                  0      \n",
       "\n",
       "   Specialization_Not Specified  \n",
       "0                             1  \n",
       "1                             1  \n",
       "2                             0  \n",
       "3                             0  \n",
       "4                             1  "
      ]
     },
     "execution_count": 570,
     "metadata": {},
     "output_type": "execute_result"
    }
   ],
   "source": [
    "#Selecting the features in our final model on the scaled dataframe.\n",
    "X = X[col]\n",
    "X.head()"
   ]
  },
  {
   "cell_type": "code",
   "execution_count": 571,
   "id": "ce863120",
   "metadata": {},
   "outputs": [],
   "source": [
    "#Adding a constant to the dataframe\n",
    "X_sm = sm.add_constant(X)"
   ]
  },
  {
   "cell_type": "code",
   "execution_count": 572,
   "id": "aacce460",
   "metadata": {},
   "outputs": [],
   "source": [
    "#Predicting the y-values on X dataframe (Leads.csv)\n",
    "y_ans_pred = res.predict(X_sm)"
   ]
  },
  {
   "cell_type": "code",
   "execution_count": 573,
   "id": "f5bc6665",
   "metadata": {},
   "outputs": [
    {
     "data": {
      "text/plain": [
       "0    0.109402\n",
       "1    0.279622\n",
       "2    0.635807\n",
       "3    0.115968\n",
       "4    0.173407\n",
       "5    0.055053\n",
       "6    0.683749\n",
       "7    0.055053\n",
       "8    0.088219\n",
       "9    0.242845\n",
       "dtype: float64"
      ]
     },
     "execution_count": 573,
     "metadata": {},
     "output_type": "execute_result"
    }
   ],
   "source": [
    "#Printing the probabilities\n",
    "y_ans_pred[:10]"
   ]
  },
  {
   "cell_type": "code",
   "execution_count": 574,
   "id": "c80797b0",
   "metadata": {},
   "outputs": [],
   "source": [
    "#Converting y_pred to a dataframe which is an array\n",
    "y_ans_pred_df = pd.DataFrame(y_ans_pred)"
   ]
  },
  {
   "cell_type": "code",
   "execution_count": 575,
   "id": "09f34dd1",
   "metadata": {},
   "outputs": [],
   "source": [
    "#Converting y to dataframe\n",
    "y_df = pd.DataFrame(y)"
   ]
  },
  {
   "cell_type": "code",
   "execution_count": 576,
   "id": "ecb27ab2",
   "metadata": {},
   "outputs": [],
   "source": [
    "#Removing index for both dataframes to append them side by side \n",
    "y_ans_pred_df.reset_index(drop=True, inplace=True)\n",
    "y_df.reset_index(drop=True, inplace=True)"
   ]
  },
  {
   "cell_type": "code",
   "execution_count": 577,
   "id": "fe25c32e",
   "metadata": {},
   "outputs": [],
   "source": [
    "#Appending y_test_df and y_df\n",
    "y_ans_final = pd.concat([y_df, y_ans_pred_df],axis=1)"
   ]
  },
  {
   "cell_type": "code",
   "execution_count": 578,
   "id": "7af501f9",
   "metadata": {},
   "outputs": [],
   "source": [
    "#Renaming the column \n",
    "y_ans_final= y_ans_final.rename(columns={ 0 : 'Conversion_Prob'})"
   ]
  },
  {
   "cell_type": "code",
   "execution_count": 579,
   "id": "07f76576",
   "metadata": {},
   "outputs": [
    {
     "data": {
      "text/html": [
       "<div>\n",
       "<style scoped>\n",
       "    .dataframe tbody tr th:only-of-type {\n",
       "        vertical-align: middle;\n",
       "    }\n",
       "\n",
       "    .dataframe tbody tr th {\n",
       "        vertical-align: top;\n",
       "    }\n",
       "\n",
       "    .dataframe thead th {\n",
       "        text-align: right;\n",
       "    }\n",
       "</style>\n",
       "<table border=\"1\" class=\"dataframe\">\n",
       "  <thead>\n",
       "    <tr style=\"text-align: right;\">\n",
       "      <th></th>\n",
       "      <th>Converted</th>\n",
       "      <th>Conversion_Prob</th>\n",
       "    </tr>\n",
       "  </thead>\n",
       "  <tbody>\n",
       "    <tr>\n",
       "      <th>0</th>\n",
       "      <td>0</td>\n",
       "      <td>0.109402</td>\n",
       "    </tr>\n",
       "    <tr>\n",
       "      <th>1</th>\n",
       "      <td>0</td>\n",
       "      <td>0.279622</td>\n",
       "    </tr>\n",
       "    <tr>\n",
       "      <th>2</th>\n",
       "      <td>1</td>\n",
       "      <td>0.635807</td>\n",
       "    </tr>\n",
       "    <tr>\n",
       "      <th>3</th>\n",
       "      <td>0</td>\n",
       "      <td>0.115968</td>\n",
       "    </tr>\n",
       "    <tr>\n",
       "      <th>4</th>\n",
       "      <td>1</td>\n",
       "      <td>0.173407</td>\n",
       "    </tr>\n",
       "  </tbody>\n",
       "</table>\n",
       "</div>"
      ],
      "text/plain": [
       "   Converted  Conversion_Prob\n",
       "0          0         0.109402\n",
       "1          0         0.279622\n",
       "2          1         0.635807\n",
       "3          0         0.115968\n",
       "4          1         0.173407"
      ]
     },
     "execution_count": 579,
     "metadata": {},
     "output_type": "execute_result"
    }
   ],
   "source": [
    "#Displaying the Answer_Dataframe\n",
    "y_ans_final.head()"
   ]
  },
  {
   "cell_type": "code",
   "execution_count": 580,
   "id": "32e051ff",
   "metadata": {},
   "outputs": [],
   "source": [
    "#Finding the Predicted values using the probability cut off\n",
    "y_ans_final['final_predicted'] = y_ans_final.Conversion_Prob.map(lambda x: 1 if x > 0.35 else 0)"
   ]
  },
  {
   "cell_type": "code",
   "execution_count": 581,
   "id": "9774c15b",
   "metadata": {},
   "outputs": [],
   "source": [
    "#Appending the score to the dataframe.\n",
    "y_ans_final['Score'] = round(y_ans_final['Conversion_Prob'] * 100, 2)"
   ]
  },
  {
   "cell_type": "code",
   "execution_count": 582,
   "id": "4c7da8a7",
   "metadata": {},
   "outputs": [
    {
     "data": {
      "text/html": [
       "<div>\n",
       "<style scoped>\n",
       "    .dataframe tbody tr th:only-of-type {\n",
       "        vertical-align: middle;\n",
       "    }\n",
       "\n",
       "    .dataframe tbody tr th {\n",
       "        vertical-align: top;\n",
       "    }\n",
       "\n",
       "    .dataframe thead th {\n",
       "        text-align: right;\n",
       "    }\n",
       "</style>\n",
       "<table border=\"1\" class=\"dataframe\">\n",
       "  <thead>\n",
       "    <tr style=\"text-align: right;\">\n",
       "      <th></th>\n",
       "      <th>Converted</th>\n",
       "      <th>Conversion_Prob</th>\n",
       "      <th>final_predicted</th>\n",
       "      <th>Score</th>\n",
       "    </tr>\n",
       "  </thead>\n",
       "  <tbody>\n",
       "    <tr>\n",
       "      <th>0</th>\n",
       "      <td>0</td>\n",
       "      <td>0.109402</td>\n",
       "      <td>0</td>\n",
       "      <td>10.94</td>\n",
       "    </tr>\n",
       "    <tr>\n",
       "      <th>1</th>\n",
       "      <td>0</td>\n",
       "      <td>0.279622</td>\n",
       "      <td>0</td>\n",
       "      <td>27.96</td>\n",
       "    </tr>\n",
       "    <tr>\n",
       "      <th>2</th>\n",
       "      <td>1</td>\n",
       "      <td>0.635807</td>\n",
       "      <td>1</td>\n",
       "      <td>63.58</td>\n",
       "    </tr>\n",
       "    <tr>\n",
       "      <th>3</th>\n",
       "      <td>0</td>\n",
       "      <td>0.115968</td>\n",
       "      <td>0</td>\n",
       "      <td>11.60</td>\n",
       "    </tr>\n",
       "    <tr>\n",
       "      <th>4</th>\n",
       "      <td>1</td>\n",
       "      <td>0.173407</td>\n",
       "      <td>0</td>\n",
       "      <td>17.34</td>\n",
       "    </tr>\n",
       "  </tbody>\n",
       "</table>\n",
       "</div>"
      ],
      "text/plain": [
       "   Converted  Conversion_Prob  final_predicted  Score\n",
       "0          0         0.109402                0  10.94\n",
       "1          0         0.279622                0  27.96\n",
       "2          1         0.635807                1  63.58\n",
       "3          0         0.115968                0  11.60\n",
       "4          1         0.173407                0  17.34"
      ]
     },
     "execution_count": 582,
     "metadata": {},
     "output_type": "execute_result"
    }
   ],
   "source": [
    "#Displaying the predicted conversion on the final values\n",
    "y_ans_final.head()"
   ]
  },
  {
   "cell_type": "markdown",
   "id": "fc8ab074",
   "metadata": {},
   "source": [
    "### Step 18.2: Metric Calculation - Complete Dataframe"
   ]
  },
  {
   "cell_type": "code",
   "execution_count": 583,
   "id": "e5243e80",
   "metadata": {},
   "outputs": [
    {
     "data": {
      "text/plain": [
       "0.8085059253516447"
      ]
     },
     "execution_count": 583,
     "metadata": {},
     "output_type": "execute_result"
    }
   ],
   "source": [
    "# Let's check the overall accuracy.\n",
    "metrics.accuracy_score(y_ans_final.Converted, y_ans_final.final_predicted)"
   ]
  },
  {
   "cell_type": "code",
   "execution_count": 584,
   "id": "c51532f8",
   "metadata": {},
   "outputs": [
    {
     "data": {
      "text/plain": [
       "array([[4481, 1071],\n",
       "       [ 658, 2819]], dtype=int64)"
      ]
     },
     "execution_count": 584,
     "metadata": {},
     "output_type": "execute_result"
    }
   ],
   "source": [
    "#Confusion Matrix\n",
    "confusionAns= metrics.confusion_matrix(y_ans_final.Converted, y_ans_final.final_predicted)\n",
    "confusionAns"
   ]
  },
  {
   "cell_type": "code",
   "execution_count": 585,
   "id": "7aa06447",
   "metadata": {},
   "outputs": [],
   "source": [
    "#Confusion Matrix - Parameters\n",
    "TP = confusionAns[1,1] # true positive \n",
    "TN = confusionAns[0,0] # true negatives\n",
    "FP = confusionAns[0,1] # false positives\n",
    "FN = confusionAns[1,0] # false negatives"
   ]
  },
  {
   "cell_type": "code",
   "execution_count": 586,
   "id": "c3f59f33",
   "metadata": {},
   "outputs": [
    {
     "name": "stdout",
     "output_type": "stream",
     "text": [
      "81.0\n"
     ]
    }
   ],
   "source": [
    "# Let's see the sensitivity of our logistic regression model\n",
    "sensitivity = round(TP / float(TP+FN),2) *100 \n",
    "print(sensitivity)\n"
   ]
  },
  {
   "cell_type": "code",
   "execution_count": 587,
   "id": "72aaf87f",
   "metadata": {},
   "outputs": [
    {
     "data": {
      "text/plain": [
       "80.70965417867436"
      ]
     },
     "execution_count": 587,
     "metadata": {},
     "output_type": "execute_result"
    }
   ],
   "source": [
    "# Let us calculate specificity\n",
    "(TN / float(TN+FP))*100"
   ]
  },
  {
   "cell_type": "markdown",
   "id": "0c9abe1d",
   "metadata": {},
   "source": [
    "## Step 19: Conclusion"
   ]
  },
  {
   "cell_type": "markdown",
   "id": "0f29b6de",
   "metadata": {},
   "source": [
    "### Step 19.1: conclusions"
   ]
  },
  {
   "cell_type": "markdown",
   "id": "eb21635d",
   "metadata": {},
   "source": [
    "<span Style=\"color:blue\">\n",
    "\n",
    "**From our model, we can conclude following points :**\n",
    "\n",
    "- The customer/leads who fills the form are the potential leads.\n",
    "- We must majorly focus on working professionals.\n",
    "- We must majorly focus on leads whose last activity is SMS sent or Email opened.\n",
    "- It’s always good to focus on customers, who have spent significant time on our website.\n",
    "- It’s better to focus least on customers to whom the sent mail is bounced back.\n",
    "- If the lead source is referral, he/she may not be the potential lead.\n",
    "- If the lead didn’t fill specialization, he/she may not know what to study and are not right people to target. So, it’s better to focus less on such cases.\n",
    "\n",
    "\n",
    "**We know that the relationship between ln(odds) of ‘y’ and feature variable “X” is much more intuitive and easier to understand.** \n",
    "\n",
    "**Equation:**\n",
    "\n",
    "**ln(odds)= -2.3368 * const + 1.0708 * TotalVisits + 4.4986* Time Spent on Website -1.0903 * Lead Origin_Landing Page Submission + 3.6323 * Lead Origin_Lead Add Form - 0.8804 * Last Activity_Email Bounced + 0.4968 * Lead Source_Reference -1.1921 *\n",
    "Last Activity_Email Bounced + 0.8166 * Last Activity_Email Link Clicked + 0.8172 * Last Activity_Email Opened - 0.7460 * Last\n",
    "Activity_Olark Chat Conversation + 0.7252 * Last Activity_Others + 1.9733 * Last\n",
    "Activity_SMS Sent + 1.3358 * Lead Source_Olark Chat + 0.4272 * Lead Source_Others + 2.5195 * What is your current occupation_Working Professional - 1.0958 * Specialization_Not Specified** \n",
    "</span>"
   ]
  },
  {
   "cell_type": "markdown",
   "id": "82a9e262",
   "metadata": {},
   "source": [
    "### Step 19.2: Recommendations"
   ]
  },
  {
   "cell_type": "markdown",
   "id": "5d9517a9",
   "metadata": {},
   "source": [
    "<span Style=\"color:blue\">\n",
    "- **It’s good to collect data often and run the model and get updated with the potential leads. There is a belief that the best time to call your potential leads is within few hours after the lead shows interest in the courses.**\n",
    "\n",
    "- **Along with phone calls, it’s good to mail the leads also to keep them reminding as email is as powerful as cold calling.**\n",
    "\n",
    "- **Reducing the number of call attempts to 2-4 and increasing the frequency of usage of other media like advertisements in Google, or via emails to keep in touch with the lead will save a lot of time.**\n",
    "\n",
    "- **Focusing on Hot Leads will increase the chances of obtaining more value to the business as the number of people we contact are less but the conversion rate is high.**\n",
    "</span>"
   ]
  },
  {
   "cell_type": "markdown",
   "id": "277800b3",
   "metadata": {},
   "source": [
    "---------------Thank you--------------\n"
   ]
  }
 ],
 "metadata": {
  "kernelspec": {
   "display_name": "Python 3 (ipykernel)",
   "language": "python",
   "name": "python3"
  },
  "language_info": {
   "codemirror_mode": {
    "name": "ipython",
    "version": 3
   },
   "file_extension": ".py",
   "mimetype": "text/x-python",
   "name": "python",
   "nbconvert_exporter": "python",
   "pygments_lexer": "ipython3",
   "version": "3.9.12"
  }
 },
 "nbformat": 4,
 "nbformat_minor": 5
}
